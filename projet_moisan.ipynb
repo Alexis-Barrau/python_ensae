{
 "cells": [
  {
   "cell_type": "markdown",
   "metadata": {},
   "source": [
    "# Mini-projet : classification de tumeurs à partir de données d'expression de gènes"
   ]
  },
  {
   "cell_type": "markdown",
   "metadata": {},
   "source": [
    "Dans ce jeu de données, chaque observation est une tumeur, décrite par l'expression de 3 000 gènes. L'expression d'un gène est une mesure de la quantité d'ARN correspondant à ce gène qui est présente dans la cellule. Schématiquement, l'ADN est transcrit en ARN, lequel est lui-même traduit en une protéine. Les protéines assurent une multitude de fonctions du vivant, mais mesurer leur quantité est difficile ; d'où l'intérêt d'utiliser les quantités d'ARN, bien que la correspondance ne soit pas immédiate. \n",
    "\n",
    "Chaque tumeur de notre jeu de données est étiquetée selon qu'il s'agit d'une tumeur du sein ou d'une tumeur de l'ovaire. \n",
    "\n",
    "Le but de ce projet est de construire un classifieur binaire qui détermine, sur la base de l'expression de ces 3 000 gènes, si une tumeur est une tumeur du sein ou de l'ovaire."
   ]
  },
  {
   "cell_type": "markdown",
   "metadata": {},
   "source": [
    "## Instructions\n",
    "1. Séparez les données en un jeu d'entraînement (90% des données) et un jeu de test.\n",
    "2. Standardisez les données sur le jeu d'entraînement en utilisant `StandardScaler()` du [module preprocessing](https://scikit-learn.org/stable/modules/classes.html#module-sklearn.preprocessing).\n",
    "3. Utilisez une validation croisée pour sélectionner les meilleurs hyperparamètres d'au moins deux algorithmes d'apprentissage et comparer leurs performances. Attention à choisir une mesure de performance appropriée.\n",
    "4. En conclure un modèle final et évaluer ses performances sur le jeu de test.\n",
    "\n",
    "N'oubliez pas de commenter et interpréter vos résultats."
   ]
  },
  {
   "cell_type": "markdown",
   "metadata": {},
   "source": [
    "## Chargement des données"
   ]
  },
  {
   "cell_type": "code",
   "execution_count": 1,
   "metadata": {},
   "outputs": [],
   "source": [
    "import pandas as pd\n",
    "import numpy as np\n",
    "import matplotlib.pyplot as plt"
   ]
  },
  {
   "cell_type": "code",
   "execution_count": 2,
   "metadata": {},
   "outputs": [],
   "source": [
    "bvo_df = pd.read_csv('small_Breast_Ovary.csv')"
   ]
  },
  {
   "cell_type": "markdown",
   "metadata": {},
   "source": [
    "The first column (\"ID_REF\") contains the sample ID, the last one (\"Tissue\") the \"Breast\" or \"Ovary\" label, and all others are gene expressions."
   ]
  },
  {
   "cell_type": "markdown",
   "metadata": {},
   "source": [
    "### Transformation des données en array numpy"
   ]
  },
  {
   "cell_type": "code",
   "execution_count": 3,
   "metadata": {},
   "outputs": [],
   "source": [
    "# design matrix\n",
    "X = np.array(bvo_df.drop(columns=[\"ID_REF\", \"Tissue\"]))"
   ]
  },
  {
   "cell_type": "code",
   "execution_count": 4,
   "metadata": {},
   "outputs": [
    {
     "data": {
      "text/plain": [
       "(542, 3000)"
      ]
     },
     "execution_count": 4,
     "metadata": {},
     "output_type": "execute_result"
    }
   ],
   "source": [
    "X.shape"
   ]
  },
  {
   "cell_type": "markdown",
   "metadata": {},
   "source": [
    "We have 542 samples, each represented by 3000 gene expressions."
   ]
  },
  {
   "cell_type": "code",
   "execution_count": 5,
   "metadata": {},
   "outputs": [
    {
     "data": {
      "text/html": [
       "<div>\n",
       "<style scoped>\n",
       "    .dataframe tbody tr th:only-of-type {\n",
       "        vertical-align: middle;\n",
       "    }\n",
       "\n",
       "    .dataframe tbody tr th {\n",
       "        vertical-align: top;\n",
       "    }\n",
       "\n",
       "    .dataframe thead th {\n",
       "        text-align: right;\n",
       "    }\n",
       "</style>\n",
       "<table border=\"1\" class=\"dataframe\">\n",
       "  <thead>\n",
       "    <tr style=\"text-align: right;\">\n",
       "      <th></th>\n",
       "      <th>ID_REF</th>\n",
       "      <th>212891_s_at</th>\n",
       "      <th>1565149_at</th>\n",
       "      <th>231148_at</th>\n",
       "      <th>241564_at</th>\n",
       "      <th>206135_at</th>\n",
       "      <th>225186_at</th>\n",
       "      <th>228366_at</th>\n",
       "      <th>204447_at</th>\n",
       "      <th>224369_s_at</th>\n",
       "      <th>...</th>\n",
       "      <th>244675_at</th>\n",
       "      <th>221893_s_at</th>\n",
       "      <th>208053_at</th>\n",
       "      <th>244232_at</th>\n",
       "      <th>205390_s_at</th>\n",
       "      <th>1555617_x_at</th>\n",
       "      <th>1562030_at</th>\n",
       "      <th>1555677_s_at</th>\n",
       "      <th>209087_x_at</th>\n",
       "      <th>Tissue</th>\n",
       "    </tr>\n",
       "  </thead>\n",
       "  <tbody>\n",
       "    <tr>\n",
       "      <th>0</th>\n",
       "      <td>138027</td>\n",
       "      <td>587.6</td>\n",
       "      <td>221.8</td>\n",
       "      <td>18.5</td>\n",
       "      <td>117.5</td>\n",
       "      <td>154.2</td>\n",
       "      <td>369.7</td>\n",
       "      <td>277.2</td>\n",
       "      <td>702.9</td>\n",
       "      <td>1216.9</td>\n",
       "      <td>...</td>\n",
       "      <td>17.1</td>\n",
       "      <td>551.7</td>\n",
       "      <td>21.5</td>\n",
       "      <td>169.0</td>\n",
       "      <td>117.8</td>\n",
       "      <td>279.2</td>\n",
       "      <td>111.6</td>\n",
       "      <td>8.3</td>\n",
       "      <td>1288.1</td>\n",
       "      <td>Breast</td>\n",
       "    </tr>\n",
       "    <tr>\n",
       "      <th>1</th>\n",
       "      <td>179861</td>\n",
       "      <td>816.3</td>\n",
       "      <td>161.2</td>\n",
       "      <td>23.4</td>\n",
       "      <td>2.2</td>\n",
       "      <td>139.9</td>\n",
       "      <td>237.6</td>\n",
       "      <td>84.8</td>\n",
       "      <td>249.3</td>\n",
       "      <td>1708.3</td>\n",
       "      <td>...</td>\n",
       "      <td>15.4</td>\n",
       "      <td>539.5</td>\n",
       "      <td>62.1</td>\n",
       "      <td>80.3</td>\n",
       "      <td>7.7</td>\n",
       "      <td>172.0</td>\n",
       "      <td>19.6</td>\n",
       "      <td>6.4</td>\n",
       "      <td>695.1</td>\n",
       "      <td>Breast</td>\n",
       "    </tr>\n",
       "    <tr>\n",
       "      <th>2</th>\n",
       "      <td>38092</td>\n",
       "      <td>516.7</td>\n",
       "      <td>183.4</td>\n",
       "      <td>16.6</td>\n",
       "      <td>27.7</td>\n",
       "      <td>293.2</td>\n",
       "      <td>769.7</td>\n",
       "      <td>88.1</td>\n",
       "      <td>206.7</td>\n",
       "      <td>1995.2</td>\n",
       "      <td>...</td>\n",
       "      <td>6.7</td>\n",
       "      <td>520.1</td>\n",
       "      <td>4.7</td>\n",
       "      <td>5.2</td>\n",
       "      <td>8.0</td>\n",
       "      <td>62.3</td>\n",
       "      <td>67.0</td>\n",
       "      <td>47.8</td>\n",
       "      <td>1019.0</td>\n",
       "      <td>Breast</td>\n",
       "    </tr>\n",
       "    <tr>\n",
       "      <th>3</th>\n",
       "      <td>89022</td>\n",
       "      <td>364.0</td>\n",
       "      <td>206.1</td>\n",
       "      <td>206.4</td>\n",
       "      <td>1.9</td>\n",
       "      <td>228.8</td>\n",
       "      <td>307.5</td>\n",
       "      <td>216.1</td>\n",
       "      <td>531.2</td>\n",
       "      <td>1092.9</td>\n",
       "      <td>...</td>\n",
       "      <td>73.9</td>\n",
       "      <td>498.5</td>\n",
       "      <td>11.8</td>\n",
       "      <td>61.7</td>\n",
       "      <td>35.3</td>\n",
       "      <td>133.9</td>\n",
       "      <td>201.0</td>\n",
       "      <td>53.3</td>\n",
       "      <td>4226.6</td>\n",
       "      <td>Breast</td>\n",
       "    </tr>\n",
       "    <tr>\n",
       "      <th>4</th>\n",
       "      <td>138035</td>\n",
       "      <td>927.9</td>\n",
       "      <td>175.4</td>\n",
       "      <td>407.8</td>\n",
       "      <td>5.7</td>\n",
       "      <td>151.4</td>\n",
       "      <td>548.6</td>\n",
       "      <td>537.6</td>\n",
       "      <td>127.2</td>\n",
       "      <td>478.9</td>\n",
       "      <td>...</td>\n",
       "      <td>40.7</td>\n",
       "      <td>590.1</td>\n",
       "      <td>16.8</td>\n",
       "      <td>21.0</td>\n",
       "      <td>19.5</td>\n",
       "      <td>476.0</td>\n",
       "      <td>323.6</td>\n",
       "      <td>19.4</td>\n",
       "      <td>928.7</td>\n",
       "      <td>Breast</td>\n",
       "    </tr>\n",
       "  </tbody>\n",
       "</table>\n",
       "<p>5 rows × 3002 columns</p>\n",
       "</div>"
      ],
      "text/plain": [
       "   ID_REF  212891_s_at  1565149_at  231148_at  241564_at  206135_at  \\\n",
       "0  138027        587.6       221.8       18.5      117.5      154.2   \n",
       "1  179861        816.3       161.2       23.4        2.2      139.9   \n",
       "2   38092        516.7       183.4       16.6       27.7      293.2   \n",
       "3   89022        364.0       206.1      206.4        1.9      228.8   \n",
       "4  138035        927.9       175.4      407.8        5.7      151.4   \n",
       "\n",
       "   225186_at  228366_at  204447_at  224369_s_at  ...  244675_at  221893_s_at  \\\n",
       "0      369.7      277.2      702.9       1216.9  ...       17.1        551.7   \n",
       "1      237.6       84.8      249.3       1708.3  ...       15.4        539.5   \n",
       "2      769.7       88.1      206.7       1995.2  ...        6.7        520.1   \n",
       "3      307.5      216.1      531.2       1092.9  ...       73.9        498.5   \n",
       "4      548.6      537.6      127.2        478.9  ...       40.7        590.1   \n",
       "\n",
       "   208053_at  244232_at  205390_s_at  1555617_x_at  1562030_at  1555677_s_at  \\\n",
       "0       21.5      169.0        117.8         279.2       111.6           8.3   \n",
       "1       62.1       80.3          7.7         172.0        19.6           6.4   \n",
       "2        4.7        5.2          8.0          62.3        67.0          47.8   \n",
       "3       11.8       61.7         35.3         133.9       201.0          53.3   \n",
       "4       16.8       21.0         19.5         476.0       323.6          19.4   \n",
       "\n",
       "   209087_x_at  Tissue  \n",
       "0       1288.1  Breast  \n",
       "1        695.1  Breast  \n",
       "2       1019.0  Breast  \n",
       "3       4226.6  Breast  \n",
       "4        928.7  Breast  \n",
       "\n",
       "[5 rows x 3002 columns]"
      ]
     },
     "execution_count": 5,
     "metadata": {},
     "output_type": "execute_result"
    }
   ],
   "source": [
    "bvo_df.head()"
   ]
  },
  {
   "cell_type": "code",
   "execution_count": 6,
   "metadata": {},
   "outputs": [],
   "source": [
    "n_features = X.shape[1]"
   ]
  },
  {
   "cell_type": "code",
   "execution_count": 7,
   "metadata": {},
   "outputs": [],
   "source": [
    "# target array\n",
    "y = np.array(bvo_df[\"Tissue\"])\n",
    "\n",
    "# convert \"Breast\" in 0 and the other labels (here, \"Ovarian\") into 1\n",
    "y = np.where(y=='Breast', 0, 1)"
   ]
  },
  {
   "cell_type": "code",
   "execution_count": 8,
   "metadata": {},
   "outputs": [
    {
     "data": {
      "text/plain": [
       "(542,)"
      ]
     },
     "execution_count": 8,
     "metadata": {},
     "output_type": "execute_result"
    }
   ],
   "source": [
    "y.shape"
   ]
  },
  {
   "cell_type": "markdown",
   "metadata": {},
   "source": [
    "## Partie I: Preparation des données"
   ]
  },
  {
   "cell_type": "code",
   "execution_count": 9,
   "metadata": {},
   "outputs": [],
   "source": [
    "from sklearn.model_selection import train_test_split\n",
    "X_train, X_test, y_train, y_test = train_test_split(X, \n",
    "                                                    y, \n",
    "                                                    test_size=.2)"
   ]
  },
  {
   "cell_type": "markdown",
   "metadata": {},
   "source": [
    "On sépare notre jeu de données entre un échantillon train et un échantillon test en réservant 20%\n",
    "des données à ce dernier."
   ]
  },
  {
   "cell_type": "code",
   "execution_count": 10,
   "metadata": {},
   "outputs": [],
   "source": [
    "from sklearn.preprocessing import StandardScaler\n",
    "\n",
    "std_scale = StandardScaler().fit(X_train)\n",
    "X_train_scaled = std_scale.transform(X_train)\n",
    "X_test_scaled = std_scale.transform(X_test)"
   ]
  },
  {
   "cell_type": "markdown",
   "metadata": {},
   "source": [
    "On normalise nos données par rapport à la moyenne et la variance de l'échantillon de train car les algorithmes apprennent mieux sur ce type de données"
   ]
  },
  {
   "cell_type": "markdown",
   "metadata": {},
   "source": [
    "## Partie II: Support Vector Machine"
   ]
  },
  {
   "cell_type": "code",
   "execution_count": 11,
   "metadata": {},
   "outputs": [],
   "source": [
    "from sklearn.svm import SVC\n",
    "#SVC est le modèle SVM permettant la classification\n",
    "\n",
    "acc_train, acc_test = list(), list()\n",
    "C_range = np.linspace(0.01, 2, 20)\n",
    "for param in C_range:\n",
    "    clf = SVC(kernel='rbf', C=param, gamma=0.015)\n",
    "    clf.fit(X_train_scaled, y_train)\n",
    "    acc_train.append(clf.score(X_train_scaled, y_train))\n",
    "    acc_test.append(clf.score(X_test_scaled, y_test))\n",
    "    \n"
   ]
  },
  {
   "cell_type": "markdown",
   "metadata": {},
   "source": [
    "On choisit un modèle RBF car on ne connait pas la forme de la séparation dans nos données.\n",
    "On entraine un premier classifieur SVM sur le jeu de données et on test plusieurs valeurs de C qui mesurent le niveau de régularisation (petites valeurs de C pour beaucoup régulariser)."
   ]
  },
  {
   "cell_type": "code",
   "execution_count": 12,
   "metadata": {},
   "outputs": [
    {
     "data": {
      "image/png": "[encoded data removed]",
      "text/plain": [
       "<Figure size 720x360 with 1 Axes>"
      ]
     },
     "metadata": {
      "needs_background": "light"
     },
     "output_type": "display_data"
    }
   ],
   "source": [
    "plt.figure(figsize=(10, 5))\n",
    "\n",
    "plt.plot(C_range, acc_train, label='train set', lw=4)\n",
    "plt.plot(C_range, acc_test, label='test set', lw=4)\n",
    "\n",
    "plt.legend(loc='best', fontsize=12)\n",
    "\n",
    "plt.xlabel(\"C\", fontweight=\"bold\", fontsize=20)\n",
    "plt.ylabel(\"Performance\", fontweight=\"bold\", fontsize=20)\n",
    "plt.xticks(fontweight=\"bold\", fontsize=15)\n",
    "plt.yticks(fontweight=\"bold\", fontsize=15)\n",
    "plt.tight_layout()\n",
    "\n",
    "plt.show()"
   ]
  },
  {
   "cell_type": "markdown",
   "metadata": {},
   "source": [
    "J'ai un overfitting très rapide et ce, quelque soit la valeur de C. Le data-set compte trop de features par rapport au nombre d'observations. Il faut maintenant que je réussise à selectionner les features pertinentes pour faire augmenter mon score. Je vais essayer la régression logistique qui effectue naturellement une selection de variables."
   ]
  },
  {
   "cell_type": "markdown",
   "metadata": {},
   "source": [
    "## Partie III : Regression logistique"
   ]
  },
  {
   "cell_type": "code",
   "execution_count": 13,
   "metadata": {},
   "outputs": [
    {
     "name": "stdout",
     "output_type": "stream",
     "text": [
      "{'C': 0.3}\n",
      "1.0\n",
      "0.9357798165137615\n"
     ]
    }
   ],
   "source": [
    "from sklearn.model_selection import GridSearchCV\n",
    "import warnings\n",
    "from sklearn.linear_model import LogisticRegression\n",
    "\n",
    "warnings.filterwarnings(\"ignore\", category=FutureWarning)\n",
    "\n",
    "params= { 'C':[ 0.015,0.3, 0.2]}\n",
    "\n",
    "# j'essaie des valeurs de C très faible pour régulariser un maximum\n",
    "\n",
    "lr =LogisticRegression(penalty='l2', dual=False, tol=0.0001, C=1.0, fit_intercept=True, \n",
    "                   intercept_scaling=1, class_weight=None, random_state=3, solver='liblinear',\n",
    "                   max_iter=100, multi_class='auto', verbose=0, warm_start=False, n_jobs=None,\n",
    "                   l1_ratio=None)\n",
    "\n",
    "# On découpe notre échantillon en 3 pour la cross-validation (je pense qu'on peut difficilement faire plus car\n",
    "# nous ne possédons que 542 observations)\n",
    "\n",
    "gs = GridSearchCV(estimator=lr, \n",
    "                   param_grid=params,\n",
    "                   cv=3)\n",
    "\n",
    "gs.fit(X_train_scaled, y_train)\n",
    "\n",
    "print(gs.best_params_)\n",
    "print(gs.score(X_train_scaled, y_train))\n",
    "print(gs.score(X_test_scaled, y_test))"
   ]
  },
  {
   "cell_type": "code",
   "execution_count": 14,
   "metadata": {},
   "outputs": [],
   "source": [
    "acc_train, acc_test = list(), list()\n",
    "C_range = np.linspace(0.01, 1, 20)\n",
    "for param in C_range:\n",
    "    clf = LogisticRegression(penalty='l1', dual=False, tol=0.0001, C=param, fit_intercept=True, \n",
    "                   intercept_scaling=1, class_weight=None, random_state=3, solver='liblinear',\n",
    "                   max_iter=100, multi_class='auto', verbose=0, warm_start=False, n_jobs=None,\n",
    "                   l1_ratio=None)\n",
    "    \n",
    "    clf.fit(X_train_scaled, y_train)\n",
    "    acc_train.append(clf.score(X_train_scaled, y_train))\n",
    "    acc_test.append(clf.score(X_test_scaled, y_test))\n",
    "    "
   ]
  },
  {
   "cell_type": "code",
   "execution_count": 15,
   "metadata": {},
   "outputs": [
    {
     "data": {
      "image/png": "[encoded data removed]",
      "text/plain": [
       "<Figure size 720x360 with 1 Axes>"
      ]
     },
     "metadata": {
      "needs_background": "light"
     },
     "output_type": "display_data"
    }
   ],
   "source": [
    "plt.figure(figsize=(10, 5))\n",
    "\n",
    "plt.plot(C_range, acc_train, label='train set', lw=4)\n",
    "plt.plot(C_range, acc_test, label='test set', lw=4)\n",
    "\n",
    "plt.legend(loc='best', fontsize=12)\n",
    "\n",
    "plt.xlabel(\"C\", fontweight=\"bold\", fontsize=20)\n",
    "plt.ylabel(\"Performance\", fontweight=\"bold\", fontsize=20)\n",
    "plt.xticks(fontweight=\"bold\", fontsize=15)\n",
    "plt.yticks(fontweight=\"bold\", fontsize=15)\n",
    "plt.tight_layout()\n",
    "\n",
    "plt.show()\n"
   ]
  },
  {
   "cell_type": "markdown",
   "metadata": {},
   "source": [
    "On a effectivement un meilleur score mais toujours problème d'overfitting immédiat. Il faut réussir à choisir les features les plus importantes et réduire le nombre total de celles-ci."
   ]
  },
  {
   "cell_type": "markdown",
   "metadata": {},
   "source": [
    "## Partie IV : Selections de variables"
   ]
  },
  {
   "cell_type": "markdown",
   "metadata": {},
   "source": [
    "On va chercher à construire un dataset ne contenant que les features importantes"
   ]
  },
  {
   "cell_type": "code",
   "execution_count": 16,
   "metadata": {
    "scrolled": true
   },
   "outputs": [
    {
     "name": "stdout",
     "output_type": "stream",
     "text": [
      "(542, 41)\n"
     ]
    }
   ],
   "source": [
    "\n",
    "from sklearn.linear_model import LassoCV\n",
    "from sklearn.feature_selection import SelectFromModel\n",
    "\n",
    "clf = LassoCV()\n",
    "\n",
    "sfm = SelectFromModel(clf, threshold=None, prefit=False, norm_order=1, max_features=300)\n",
    "# Je m'impose un maximum de 300 features afin d'arriver à nb features < nb observations\n",
    "\n",
    "sfm.fit(X,y)\n",
    "X_transform = sfm.transform(X)\n",
    "print(X_transform.shape)"
   ]
  },
  {
   "cell_type": "markdown",
   "metadata": {},
   "source": [
    "On obtient une base de données ne contenant plus que une quarantaine de features au lieu des 3000 de départ.\n",
    "Nous allons tester les performances de la regression logistique sur ce nouveau dataset"
   ]
  },
  {
   "cell_type": "code",
   "execution_count": 17,
   "metadata": {},
   "outputs": [
    {
     "name": "stdout",
     "output_type": "stream",
     "text": [
      "(433, 41)\n"
     ]
    },
    {
     "data": {
      "image/png": "[encoded data removed]",
      "text/plain": [
       "<Figure size 720x360 with 1 Axes>"
      ]
     },
     "metadata": {
      "needs_background": "light"
     },
     "output_type": "display_data"
    },
    {
     "name": "stdout",
     "output_type": "stream",
     "text": [
      "{'C': 0.5, 'penalty': 'l2', 'tol': 0.001}\n",
      "1.0\n",
      "0.981651376146789\n",
      "0.996309963099631\n"
     ]
    }
   ],
   "source": [
    "X_train_2, X_test_2, y_train_2, y_test_2 = train_test_split(X_transform, \n",
    "                                                    y, \n",
    "                                                    test_size=.2)\n",
    "\n",
    "print(X_train_2.shape)\n",
    "\n",
    "std_scale = StandardScaler().fit(X_train_2)\n",
    "X_train_scaled_2 = std_scale.transform(X_train_2)\n",
    "X_test_scaled_2 = std_scale.transform(X_test_2)\n",
    "from sklearn.linear_model import LogisticRegression\n",
    "\n",
    "acc_train, acc_test = list(), list()\n",
    "C_range = np.linspace(0.1, 5, 20)\n",
    "for param in C_range:\n",
    "    clf = LogisticRegression(penalty='l2', dual=False, tol=0.001, C=param, fit_intercept=True, \n",
    "                   intercept_scaling=1, class_weight=None, random_state=3, solver='liblinear',\n",
    "                   max_iter=100, multi_class='auto', verbose=0, warm_start=False, n_jobs=None,\n",
    "                   l1_ratio=None)\n",
    "    \n",
    "    clf.fit(X_train_scaled_2, y_train_2)\n",
    "    acc_train.append(clf.score(X_train_scaled_2, y_train_2))\n",
    "    acc_test.append(clf.score(X_test_scaled_2, y_test_2))\n",
    "    \n",
    "plt.figure(figsize=(10, 5))\n",
    "\n",
    "plt.plot(C_range, acc_train, label='train set', lw=4)\n",
    "plt.plot(C_range, acc_test, label='test set', lw=4)\n",
    "\n",
    "plt.legend(loc='best', fontsize=12)\n",
    "\n",
    "plt.xlabel(\"C\", fontweight=\"bold\", fontsize=20)\n",
    "plt.ylabel(\"Performance\", fontweight=\"bold\", fontsize=20)\n",
    "plt.xticks(fontweight=\"bold\", fontsize=15)\n",
    "plt.yticks(fontweight=\"bold\", fontsize=15)\n",
    "plt.tight_layout()\n",
    "\n",
    "plt.show()\n",
    "\n",
    "\n",
    "params= { 'C':[0.5, 1, 1.5], 'penalty': ['l1','l2'],'tol': [0.001,0.0001,0.1] }\n",
    "\n",
    "# j'essaie des valeurs de C très faible pour régulariser un maximum\n",
    "\n",
    "lr =LogisticRegression( dual=False, fit_intercept=True, \n",
    "                   intercept_scaling=1, class_weight=None, random_state=3, solver='liblinear',\n",
    "                   max_iter=100, multi_class='auto', verbose=0, warm_start=False, n_jobs=None,\n",
    "                   l1_ratio=None)\n",
    "\n",
    "# On découpe notre échantillon en 3 pour la cross-validation (je pense qu'on peut difficilement faire plus car\n",
    "# nous ne possédons que 542 observations)\n",
    "\n",
    "gs = GridSearchCV(estimator=lr, \n",
    "                   param_grid=params,\n",
    "                   cv=3)\n",
    "\n",
    "gs.fit(X_train_scaled_2, y_train_2)\n",
    "\n",
    "print(gs.best_params_)\n",
    "print(gs.score(X_train_scaled_2, y_train_2))\n",
    "print(gs.score(X_test_scaled_2, y_test_2))\n",
    "\n",
    "X_transform_2 = std_scale.transform(X_transform)\n",
    "\n",
    "print(gs.score(X_transform_2,y))\n"
   ]
  },
  {
   "cell_type": "markdown",
   "metadata": {},
   "source": [
    "En ne gardant que les variables pertinentes dans mon modèle, le score de l'algorithme augmente de facon non négligeable."
   ]
  },
  {
   "cell_type": "markdown",
   "metadata": {},
   "source": [
    "## Partie V : Random Forest"
   ]
  },
  {
   "cell_type": "code",
   "execution_count": 18,
   "metadata": {},
   "outputs": [
    {
     "data": {
      "image/png": "[encoded data removed]",
      "text/plain": [
       "<Figure size 720x360 with 1 Axes>"
      ]
     },
     "metadata": {
      "needs_background": "light"
     },
     "output_type": "display_data"
    }
   ],
   "source": [
    "from sklearn.ensemble import RandomForestClassifier\n",
    "\n",
    "acc_train, acc_test = list(), list()\n",
    "\n",
    "n_range = np.arange(1,100,20)\n",
    "\n",
    "for param in n_range:\n",
    "    clf = RandomForestClassifier(n_estimators=param, criterion='gini', max_depth=10,\n",
    "                             min_samples_split=2, min_samples_leaf=1, \n",
    "                             min_weight_fraction_leaf=0.0, max_features='log2', \n",
    "                             max_leaf_nodes=None, min_impurity_split=1e-07, bootstrap=True, \n",
    "                             oob_score=False, n_jobs=1, random_state=2, \n",
    "                             verbose=0, warm_start=False, class_weight=None)\n",
    "    \n",
    "    clf.fit(X_train_scaled_2, y_train_2)\n",
    "    acc_train.append(clf.score(X_train_scaled_2, y_train_2))\n",
    "    acc_test.append(clf.score(X_test_scaled_2, y_test_2))\n",
    "    \n",
    "    \n",
    "plt.figure(figsize=(10, 5))\n",
    "    \n",
    "plt.plot(n_range, acc_train, label='train set', lw=4)\n",
    "plt.plot(n_range, acc_test, label='test set', lw=4)\n",
    "\n",
    "plt.legend(loc='best', fontsize=12)\n",
    "\n",
    "plt.xlabel(\"nb arbre\", fontweight=\"bold\", fontsize=20)\n",
    "plt.ylabel(\"Performance\", fontweight=\"bold\", fontsize=20)\n",
    "plt.xticks(fontweight=\"bold\", fontsize=15)\n",
    "plt.yticks(fontweight=\"bold\", fontsize=15)\n",
    "plt.tight_layout()\n",
    "\n",
    "plt.show()"
   ]
  },
  {
   "cell_type": "markdown",
   "metadata": {},
   "source": [
    "Je voulais déterminer le nombre pertinent d'arbres mais je me rends compte que ce n'est pas forcément une bonne technique. Je ne peux pas regarder le nombre d'arbres indépendamment des autres hyperparamètres"
   ]
  },
  {
   "cell_type": "code",
   "execution_count": 19,
   "metadata": {},
   "outputs": [
    {
     "name": "stdout",
     "output_type": "stream",
     "text": [
      "{'criterion': 'gini', 'max_depth': 10, 'max_features': 5, 'n_estimators': 200}\n",
      "0.944954128440367\n"
     ]
    }
   ],
   "source": [
    "params = {'max_depth': [5,10,30,50],'criterion': ['gini','entropy'],\n",
    "          'max_features' : [2,5,'log2','sqrt'], 'n_estimators': [100,200]}\n",
    "\n",
    "rs = RandomForestClassifier(criterion='gini',\n",
    "                             min_samples_split=2, min_samples_leaf=1, \n",
    "                             min_weight_fraction_leaf=0.0, \n",
    "                             max_leaf_nodes=None, min_impurity_split=1e-07, bootstrap=True, \n",
    "                             oob_score=False, n_jobs=1, random_state=2, \n",
    "                             verbose=0, warm_start=False, class_weight=None)\n",
    "\n",
    "\n",
    "gs_tree = GridSearchCV(estimator=rs, \n",
    "                   param_grid=params,\n",
    "                   cv=3)\n",
    "\n",
    "gs_tree.fit(X_train_scaled_2, y_train_2)\n",
    "\n",
    "print(gs_tree.best_params_)\n",
    "print(gs_tree.score(X_test_scaled_2, y_test_2))"
   ]
  },
  {
   "cell_type": "markdown",
   "metadata": {},
   "source": [
    "J'essaie d’augmenter la quantité de “weak classifier” en réduisant de beaucoup leur qualité. Je baisse le nombre de features associées à chaque arbre, le nombre de feuilles, la profondeur des arbres. Je cherche à augmenter \"l'aléatoire\" afin de rendre mon modèle plus robuste à l'overfitting.\n"
   ]
  },
  {
   "cell_type": "markdown",
   "metadata": {},
   "source": [
    "## Partie VI: Boosting"
   ]
  },
  {
   "cell_type": "markdown",
   "metadata": {},
   "source": [
    "On va maintenant tenter d'améliorer les performances de la regression logistique grâce à l'utilisation du boosting. "
   ]
  },
  {
   "cell_type": "code",
   "execution_count": 23,
   "metadata": {
    "scrolled": true
   },
   "outputs": [
    {
     "name": "stdout",
     "output_type": "stream",
     "text": [
      "Weak_learner: LogisticRegression(C=0.5, tol=0.001)\n",
      "Weights of weak classifiers:  [1. 0. 0. 0. 0. 0. 0. 0. 0. 0. 0. 0. 0. 0. 0. 0. 0. 0. 0. 0. 0. 0. 0. 0.\n",
      " 0. 0. 0. 0. 0. 0. 0. 0. 0. 0. 0. 0. 0. 0. 0. 0. 0. 0. 0. 0. 0. 0. 0. 0.\n",
      " 0. 0.]\n",
      "n_estimators= 50\n",
      "Acuracy (on test set) =  0.981651376146789\n",
      "              precision    recall  f1-score   support\n",
      "\n",
      "           0       0.99      0.99      0.99        71\n",
      "           1       0.97      0.97      0.97        38\n",
      "\n",
      "    accuracy                           0.98       109\n",
      "   macro avg       0.98      0.98      0.98       109\n",
      "weighted avg       0.98      0.98      0.98       109\n",
      "\n",
      "\n",
      " CONFUSION MATRIX\n",
      "[[70  1]\n",
      " [ 1 37]]\n"
     ]
    }
   ],
   "source": [
    "from sklearn.ensemble import AdaBoostClassifier\n",
    "\n",
    "weak_learner = LogisticRegression(penalty = 'l2', tol= 0.001, C=0.5)\n",
    "\n",
    "clf = AdaBoostClassifier(weak_learner, n_estimators=50, learning_rate=0.001, \n",
    "                         random_state=3)\n",
    "\n",
    "#je reprends les paramètres optimaux que j'avais déterminé précedemment\n",
    "\n",
    "clf = clf.fit(X_train_2, y_train_2)\n",
    "\n",
    "print(\"Weak_learner:\", clf.base_estimator)\n",
    "print(\"Weights of weak classifiers: \", clf.estimator_weights_)\n",
    "    \n",
    "print(\"n_estimators=\", clf.n_estimators)\n",
    "score = clf.score(X_test_2, y_test_2)\n",
    "print(\"Acuracy (on test set) = \", score)\n",
    "\n",
    "\n",
    "from sklearn.metrics import classification_report\n",
    "from sklearn.metrics import confusion_matrix\n",
    "y_true, y_pred = y_test_2, clf.predict(X_test_2)\n",
    "print( classification_report(y_true, y_pred) )\n",
    "print(\"\\n CONFUSION MATRIX\")\n",
    "print( confusion_matrix(y_true, y_pred) )"
   ]
  },
  {
   "cell_type": "markdown",
   "metadata": {},
   "source": [
    "Vu le nombre réduit d'exemples, les différents classifieurs de mon adaboost sont très proches les uns des autres et ne sont donc pas utiles. Cet algorithme ne réduit pas les performances de mon classifieur linéaire mais il est incapable de les améliorer. La solution optimale reste de mettre un poids \"1\" sur le premier classifieur."
   ]
  },
  {
   "cell_type": "markdown",
   "metadata": {},
   "source": [
    "## Conclusion "
   ]
  },
  {
   "cell_type": "markdown",
   "metadata": {},
   "source": [
    "Au final, le meilleur classifieur reste la régression logistique avec laquelle j'obtiens le meilleur score sur le test set. La réduction du nombre de dimensions a permis un gain important de performance de mon modèle. Le boosting n'a pas permis d'améliorer mes performances à cause du nombre réduit d'observations disponibles. "
   ]
  },
  {
   "cell_type": "code",
   "execution_count": 21,
   "metadata": {},
   "outputs": [
    {
     "data": {
      "text/plain": [
       "0.981651376146789"
      ]
     },
     "execution_count": 21,
     "metadata": {},
     "output_type": "execute_result"
    }
   ],
   "source": [
    "gs.score(X_test_scaled_2, y_test_2)"
   ]
  }
 ],
 "metadata": {
  "kernelspec": {
   "display_name": "Python 3",
   "language": "python",
   "name": "python3"
  },
  "language_info": {
   "codemirror_mode": {
    "name": "ipython",
    "version": 3
   },
   "file_extension": ".py",
   "mimetype": "text/x-python",
   "name": "python",
   "nbconvert_exporter": "python",
   "pygments_lexer": "ipython3",
   "version": "3.8.5"
  }
 },
 "nbformat": 4,
 "nbformat_minor": 4
}

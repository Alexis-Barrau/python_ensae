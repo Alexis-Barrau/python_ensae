{
 "cells": [
  {
   "cell_type": "code",
   "execution_count": 1,
   "id": "14f2b224-649c-4b37-a52c-5fc578970df7",
   "metadata": {},
   "outputs": [],
   "source": [
    "import pandas as pd\n",
    "import numpy as np\n",
    "import requests\n",
    "from io import BytesIO #permet de stocker en mémoire\n",
    "from zipfile import ZipFile\n",
    "import matplotlib.pyplot as plt"
   ]
  },
  {
   "cell_type": "code",
   "execution_count": 2,
   "id": "ca17b36b-90fb-4f29-af6d-c849e251a31a",
   "metadata": {},
   "outputs": [],
   "source": [
    "url2019 = \"https://www.insee.fr/fr/statistiques/fichier/4809583/fd_eec19_csv.zip\" #enquete 2019\n",
    "url2020=\"https://www.insee.fr/fr/statistiques/fichier/5393560/fd_eec20_csv.zip\" #enquête 2020 en exemple\n",
    "\n",
    "# Télécharge le fichier ZIP\n",
    "requete = requests.get(url2019)\n",
    "zip_df = ZipFile(BytesIO(requete.content)) #créer un fichier ZIP\n",
    "\n",
    "# Extraire le fichier CSV du ZIP\n",
    "with zip_df.open(zip_df.namelist()[0]) as extrait:\n",
    "    EEC_2019 = pd.read_csv(extrait, delimiter=\";\") # Lire le fichier CSV avec pandas\n",
    "\n",
    "# Télécharge le fichier ZIP\n",
    "requete = requests.get(url2020)\n",
    "zip_df = ZipFile(BytesIO(requete.content)) #créer un fichier ZIP\n",
    "\n",
    "# Extraire le fichier CSV du ZIP\n",
    "with zip_df.open(zip_df.namelist()[0]) as extrait:\n",
    "    EEC_2020 = pd.read_csv(extrait, delimiter=\";\") # Lire le fichier CSV avec pandas"
   ]
  },
  {
   "cell_type": "markdown",
   "id": "b00d5a7f-5a8a-4c20-a9eb-a2989868e719",
   "metadata": {},
   "source": [
    "# Statistiques descriptives"
   ]
  },
  {
   "cell_type": "markdown",
   "id": "b07d257f-9b84-4f84-997f-39acbeb3f636",
   "metadata": {},
   "source": [
    "Dans cette section, nous examinerons le comportement de la variable ACTEU, qui indique le statut d'activité de l'individu selon les critères du BIT. \n",
    "\n",
    "Sont considérées comme étant en emploi toutes les personnes âgées de plus de 15 ans ayant travaillé de manière non bénévole au cours d'une semaine de référence. Les personnes ayant un emploi mais ne l'exerçant pas pour diverses raisons, telles qu'un congé maternité, paternité ou une maladie, font également partie de cette catégorie.\n",
    "\n",
    "Sont considérées comme étant au chômage toutes les personnes de moins de 75 ans qui n'ont pas d'emploi, qui sont disponibles pour travailler dans les quinze jours à venir, et qui ont entrepris des démarches actives de recherche d'emploi au cours des quatre dernières semaines ou qui commenceront un nouvel emploi dans moins de trois mois."
   ]
  },
  {
   "cell_type": "markdown",
   "id": "5882922b-590e-49db-bcf2-1207a656f9e0",
   "metadata": {},
   "source": [
    "## Statut d'activité"
   ]
  },
  {
   "cell_type": "code",
   "execution_count": 3,
   "id": "e691d5e3-e4e4-4f86-8157-ee79c1e8afa5",
   "metadata": {},
   "outputs": [
    {
     "data": {
      "text/html": [
       "<div>\n",
       "<style scoped>\n",
       "    .dataframe tbody tr th:only-of-type {\n",
       "        vertical-align: middle;\n",
       "    }\n",
       "\n",
       "    .dataframe tbody tr th {\n",
       "        vertical-align: top;\n",
       "    }\n",
       "\n",
       "    .dataframe thead th {\n",
       "        text-align: right;\n",
       "    }\n",
       "</style>\n",
       "<table border=\"1\" class=\"dataframe\">\n",
       "  <thead>\n",
       "    <tr style=\"text-align: right;\">\n",
       "      <th></th>\n",
       "      <th>ACTEU</th>\n",
       "      <th>Effectif</th>\n",
       "      <th>Proportion</th>\n",
       "    </tr>\n",
       "  </thead>\n",
       "  <tbody>\n",
       "    <tr>\n",
       "      <th>0</th>\n",
       "      <td>Actif occupé</td>\n",
       "      <td>27176029.0</td>\n",
       "      <td>0.507</td>\n",
       "    </tr>\n",
       "    <tr>\n",
       "      <th>1</th>\n",
       "      <td>Chômeur</td>\n",
       "      <td>2506181.0</td>\n",
       "      <td>0.047</td>\n",
       "    </tr>\n",
       "    <tr>\n",
       "      <th>2</th>\n",
       "      <td>Inactif</td>\n",
       "      <td>23963417.0</td>\n",
       "      <td>0.447</td>\n",
       "    </tr>\n",
       "  </tbody>\n",
       "</table>\n",
       "</div>"
      ],
      "text/plain": [
       "          ACTEU    Effectif  Proportion\n",
       "0  Actif occupé  27176029.0       0.507\n",
       "1       Chômeur   2506181.0       0.047\n",
       "2       Inactif  23963417.0       0.447"
      ]
     },
     "execution_count": 3,
     "metadata": {},
     "output_type": "execute_result"
    }
   ],
   "source": [
    "#Catégories possibles\n",
    "categories = [\"Actif occupé\", \"Chômeur\", \"Inactif\"]\n",
    "value = [1,2,3] #on a aussi des NA mais ils ne sont pas pondérés\n",
    "N=EEC_2019[\"EXTRIAN\"].sum()\n",
    "\n",
    "#Effectif par catégorie\n",
    "result_dict = {\"ACTEU\": categories, 'Effectif': [], 'Proportion':[]}  #à chaque valeur on associe la somme des occurences pondérées\n",
    "for val in value :\n",
    "    somme_pond = EEC_2019[EEC_2019[\"ACTEU\"]==val][\"EXTRIAN\"].sum()\n",
    "    result_dict['Effectif'].append(round(somme_pond,0))\n",
    "    result_dict['Proportion'].append(round(somme_pond/N,3))\n",
    "data = pd.DataFrame(result_dict).sort_values(by=\"ACTEU\").reset_index(drop=True)\n",
    "data"
   ]
  },
  {
   "cell_type": "code",
   "execution_count": 4,
   "id": "571b11f0-f1be-4bed-b5a5-bf6edd70a678",
   "metadata": {},
   "outputs": [
    {
     "name": "stdout",
     "output_type": "stream",
     "text": [
      "Le taux de chômage en France selon le BIT en 2019 est de 8.4%\n"
     ]
    }
   ],
   "source": [
    "#Calcul du taux de chômage selon les critères du BIT\n",
    "Effectif_chom = data.loc[data[\"ACTEU\"] == \"Chômeur\"][\"Effectif\"][1]\n",
    "Effectif_popactive = data.loc[data[\"ACTEU\"].isin([\"Chômeur\", \"Actif occupé\"])][\"Effectif\"].sum()\n",
    "\n",
    "print(f\"Le taux de chômage en France selon le BIT en 2019 est de {round(100*Effectif_chom/Effectif_popactive,1)}%\")"
   ]
  },
  {
   "cell_type": "markdown",
   "id": "d50a0ef3-a709-4f47-87f1-80d45a4147a9",
   "metadata": {},
   "source": [
    "## Durée du chômage"
   ]
  },
  {
   "cell_type": "code",
   "execution_count": 5,
   "id": "ad33b55c-5e38-4cca-a78d-79f2c7f97b22",
   "metadata": {},
   "outputs": [
    {
     "ename": "NameError",
     "evalue": "name 'EEC_chom_2019' is not defined",
     "output_type": "error",
     "traceback": [
      "\u001b[0;31m---------------------------------------------------------------------------\u001b[0m",
      "\u001b[0;31mNameError\u001b[0m                                 Traceback (most recent call last)",
      "Cell \u001b[0;32mIn[5], line 2\u001b[0m\n\u001b[1;32m      1\u001b[0m \u001b[38;5;66;03m#Histogramme de la durée du chômage en pondérant par EXTRIAN (variable de pondération)\u001b[39;00m\n\u001b[0;32m----> 2\u001b[0m plt\u001b[38;5;241m.\u001b[39mhist([\u001b[43mEEC_chom_2019\u001b[49m[\u001b[38;5;124m\"\u001b[39m\u001b[38;5;124mANCCHOM\u001b[39m\u001b[38;5;124m\"\u001b[39m],EEC_chom_2020[\u001b[38;5;124m\"\u001b[39m\u001b[38;5;124mANCCHOM\u001b[39m\u001b[38;5;124m\"\u001b[39m]],bins\u001b[38;5;241m=\u001b[39m[i \u001b[38;5;241m-\u001b[39m \u001b[38;5;241m0.5\u001b[39m \u001b[38;5;28;01mfor\u001b[39;00m i \u001b[38;5;129;01min\u001b[39;00m \u001b[38;5;28mrange\u001b[39m(\u001b[38;5;241m1\u001b[39m, \u001b[38;5;241m10\u001b[39m)], weights \u001b[38;5;241m=\u001b[39m [EEC_chom_2019[\u001b[38;5;124m\"\u001b[39m\u001b[38;5;124mEXTRIAN\u001b[39m\u001b[38;5;124m\"\u001b[39m],EEC_chom_2020[\u001b[38;5;124m\"\u001b[39m\u001b[38;5;124mEXTRIAN\u001b[39m\u001b[38;5;124m\"\u001b[39m]], align\u001b[38;5;241m=\u001b[39m\u001b[38;5;124m'\u001b[39m\u001b[38;5;124mmid\u001b[39m\u001b[38;5;124m'\u001b[39m,width\u001b[38;5;241m=\u001b[39m\u001b[38;5;241m0.4\u001b[39m, density\u001b[38;5;241m=\u001b[39m\u001b[38;5;28;01mTrue\u001b[39;00m,label\u001b[38;5;241m=\u001b[39m[\u001b[38;5;124m\"\u001b[39m\u001b[38;5;124m2019\u001b[39m\u001b[38;5;124m\"\u001b[39m,\u001b[38;5;124m\"\u001b[39m\u001b[38;5;124m2020\u001b[39m\u001b[38;5;124m\"\u001b[39m])\n\u001b[1;32m      3\u001b[0m plt\u001b[38;5;241m.\u001b[39mtitle(\u001b[38;5;124m'\u001b[39m\u001b[38;5;124mHistogramme de la durée du chômage\u001b[39m\u001b[38;5;124m'\u001b[39m)\n\u001b[1;32m      4\u001b[0m plt\u001b[38;5;241m.\u001b[39mxticks(\u001b[38;5;28mrange\u001b[39m(\u001b[38;5;241m1\u001b[39m,\u001b[38;5;241m10\u001b[39m), [\u001b[38;5;124m\"\u001b[39m\u001b[38;5;124m< 1 mo\u001b[39m\u001b[38;5;124m\"\u001b[39m,\u001b[38;5;124m\"\u001b[39m\u001b[38;5;124m1< <3mo\u001b[39m\u001b[38;5;124m\"\u001b[39m,\u001b[38;5;124m\"\u001b[39m\u001b[38;5;124m3< <6mo\u001b[39m\u001b[38;5;124m\"\u001b[39m,\u001b[38;5;124m\"\u001b[39m\u001b[38;5;124m6< <12 mo\u001b[39m\u001b[38;5;124m\"\u001b[39m,\u001b[38;5;124m\"\u001b[39m\u001b[38;5;124m12< <18 mo\u001b[39m\u001b[38;5;124m\"\u001b[39m,\u001b[38;5;124m\"\u001b[39m\u001b[38;5;124m18 mo< <2 y\u001b[39m\u001b[38;5;124m\"\u001b[39m,\u001b[38;5;124m\"\u001b[39m\u001b[38;5;124m2< <3 y\u001b[39m\u001b[38;5;124m\"\u001b[39m,\u001b[38;5;124m\"\u001b[39m\u001b[38;5;124m>3 y\u001b[39m\u001b[38;5;124m\"\u001b[39m,\u001b[38;5;124m\"\u001b[39m\u001b[38;5;124m\"\u001b[39m], rotation\u001b[38;5;241m=\u001b[39m\u001b[38;5;241m45\u001b[39m, ha\u001b[38;5;241m=\u001b[39m\u001b[38;5;124m\"\u001b[39m\u001b[38;5;124mright\u001b[39m\u001b[38;5;124m\"\u001b[39m)\n",
      "\u001b[0;31mNameError\u001b[0m: name 'EEC_chom_2019' is not defined"
     ]
    }
   ],
   "source": [
    "#Histogramme de la durée du chômage en pondérant par EXTRIAN (variable de pondération)\n",
    "plt.hist([EEC_chom_2019[\"ANCCHOM\"],EEC_chom_2020[\"ANCCHOM\"]],bins=[i - 0.5 for i in range(1, 10)], weights = [EEC_chom_2019[\"EXTRIAN\"],EEC_chom_2020[\"EXTRIAN\"]], align='mid',width=0.4, density=True,label=[\"2019\",\"2020\"])\n",
    "plt.title('Histogramme de la durée du chômage')\n",
    "plt.xticks(range(1,10), [\"< 1 mo\",\"1< <3mo\",\"3< <6mo\",\"6< <12 mo\",\"12< <18 mo\",\"18 mo< <2 y\",\"2< <3 y\",\">3 y\",\"\"], rotation=45, ha=\"right\")\n",
    "plt.xlabel('Durée du chômage')\n",
    "plt.ylabel('Fréquence')\n",
    "plt.legend()\n",
    "plt.show()"
   ]
  },
  {
   "cell_type": "markdown",
   "id": "787a2129-4fc5-42f5-b48e-0b174118368b",
   "metadata": {},
   "source": [
    "On a une répartition qui s'apparente à une loi normale centré sur 6 mois. En effet, l'augmentation que l'on observe pour \"entre 2 et 3 ans\" et \"3 ans et plus\" est due au fait que ses entrées correspondent à des intervalles plus longs. "
   ]
  },
  {
   "cell_type": "markdown",
   "id": "a1d0776e-be06-4d8e-8d98-9642401c0e0a",
   "metadata": {},
   "source": [
    "## CSP"
   ]
  },
  {
   "cell_type": "markdown",
   "id": "59751048-b940-4854-a9bb-2e74407e7f6a",
   "metadata": {},
   "source": [
    "On s'intéresse maintenant au statut d'activité et à la catégorie socioprofessionnelle, qui est indiquée uniquement pour la population active. "
   ]
  },
  {
   "cell_type": "code",
   "execution_count": 33,
   "id": "d5daf0cf-501e-423c-b64a-c7589dabefad",
   "metadata": {},
   "outputs": [
    {
     "data": {
      "text/html": [
       "<div>\n",
       "<style scoped>\n",
       "    .dataframe tbody tr th:only-of-type {\n",
       "        vertical-align: middle;\n",
       "    }\n",
       "\n",
       "    .dataframe tbody tr th {\n",
       "        vertical-align: top;\n",
       "    }\n",
       "\n",
       "    .dataframe thead th {\n",
       "        text-align: right;\n",
       "    }\n",
       "</style>\n",
       "<table border=\"1\" class=\"dataframe\">\n",
       "  <thead>\n",
       "    <tr style=\"text-align: right;\">\n",
       "      <th></th>\n",
       "      <th>CSTOTR</th>\n",
       "      <th>Effectif_emploi</th>\n",
       "      <th>Effectif_chom</th>\n",
       "    </tr>\n",
       "  </thead>\n",
       "  <tbody>\n",
       "    <tr>\n",
       "      <th>0</th>\n",
       "      <td>0.0</td>\n",
       "      <td>120715.0</td>\n",
       "      <td>12660.0</td>\n",
       "    </tr>\n",
       "    <tr>\n",
       "      <th>1</th>\n",
       "      <td>1.0</td>\n",
       "      <td>403572.0</td>\n",
       "      <td>4811.0</td>\n",
       "    </tr>\n",
       "    <tr>\n",
       "      <th>2</th>\n",
       "      <td>2.0</td>\n",
       "      <td>1825004.0</td>\n",
       "      <td>75003.0</td>\n",
       "    </tr>\n",
       "    <tr>\n",
       "      <th>3</th>\n",
       "      <td>3.0</td>\n",
       "      <td>5240635.0</td>\n",
       "      <td>191348.0</td>\n",
       "    </tr>\n",
       "    <tr>\n",
       "      <th>4</th>\n",
       "      <td>4.0</td>\n",
       "      <td>6957339.0</td>\n",
       "      <td>345401.0</td>\n",
       "    </tr>\n",
       "    <tr>\n",
       "      <th>5</th>\n",
       "      <td>5.0</td>\n",
       "      <td>7291505.0</td>\n",
       "      <td>737501.0</td>\n",
       "    </tr>\n",
       "    <tr>\n",
       "      <th>6</th>\n",
       "      <td>6.0</td>\n",
       "      <td>5337259.0</td>\n",
       "      <td>752857.0</td>\n",
       "    </tr>\n",
       "    <tr>\n",
       "      <th>7</th>\n",
       "      <td>7.0</td>\n",
       "      <td>0.0</td>\n",
       "      <td>0.0</td>\n",
       "    </tr>\n",
       "    <tr>\n",
       "      <th>8</th>\n",
       "      <td>8.0</td>\n",
       "      <td>0.0</td>\n",
       "      <td>386600.0</td>\n",
       "    </tr>\n",
       "    <tr>\n",
       "      <th>9</th>\n",
       "      <td>NaN</td>\n",
       "      <td>0.0</td>\n",
       "      <td>0.0</td>\n",
       "    </tr>\n",
       "  </tbody>\n",
       "</table>\n",
       "</div>"
      ],
      "text/plain": [
       "   CSTOTR  Effectif_emploi  Effectif_chom\n",
       "0     0.0         120715.0        12660.0\n",
       "1     1.0         403572.0         4811.0\n",
       "2     2.0        1825004.0        75003.0\n",
       "3     3.0        5240635.0       191348.0\n",
       "4     4.0        6957339.0       345401.0\n",
       "5     5.0        7291505.0       737501.0\n",
       "6     6.0        5337259.0       752857.0\n",
       "7     7.0              0.0            0.0\n",
       "8     8.0              0.0       386600.0\n",
       "9     NaN              0.0            0.0"
      ]
     },
     "execution_count": 33,
     "metadata": {},
     "output_type": "execute_result"
    }
   ],
   "source": [
    "#Catégories possibles\n",
    "categories = [\"Non-renseigné\", \"Agriculteurs\", \"Artisans, commerçants, chefs d'entreprise\", \"Cadres et professions intellectuelles supérieures\", \"Professions intermédiaires\", \"Employés\", \"Ouvriers\", \"Inactifs ayant déjà eu une activité pro\", \"Chômeurs et inactifs n'ayant jamais travaillé\", \"NA\"]\n",
    "value = EEC_2019[\"CSTOTR\"].unique()\n",
    "\n",
    "#tableau avec CSTOR/Effectif en emploi/Effectif chômeur tout cela pondéré par EXTRIAN\n",
    "result_dict = {\"CSTOTR\": value, 'Effectif_emploi': [], 'Effectif_chom':[]}  #à chaque valeur on associe la somme des occurences pondérées\n",
    "for val in value :\n",
    "    somme_pond_E = EEC_2019[(EEC_2019[\"CSTOTR\"] == val) & (EEC_2019[\"ACTEU\"]==1)][\"EXTRIAN\"].sum()\n",
    "    somme_pond_C = EEC_2019[(EEC_2019[\"CSTOTR\"] == val)& (EEC_2019[\"ACTEU\"]==2)][\"EXTRIAN\"].sum()\n",
    "    result_dict['Effectif_emploi'].append(round(somme_pond_E,0))\n",
    "    result_dict['Effectif_chom'].append(round(somme_pond_C,0))\n",
    "data = pd.DataFrame(result_dict).sort_values(by=\"CSTOTR\").reset_index(drop=True)\n",
    "data"
   ]
  },
  {
   "cell_type": "code",
   "execution_count": 34,
   "id": "8fac973e-9314-4ba7-ba4b-9f54ec60424e",
   "metadata": {},
   "outputs": [
    {
     "data": {
      "image/png": "[encoded data removed]",
      "text/plain": [
       "<Figure size 640x480 with 1 Axes>"
      ]
     },
     "metadata": {},
     "output_type": "display_data"
    }
   ],
   "source": [
    "plt.bar(data[\"CSTOTR\"],data[\"Effectif_chom\"], color='orange', label='Chômeurs')\n",
    "plt.bar(data[\"CSTOTR\"],data[\"Effectif_emploi\"], color='blue', label='Au travail', bottom=data[\"Effectif_chom\"])\n",
    "plt.title('Fréquence du chômage en fonction de la catégorie socioprofessionnelle')\n",
    "plt.xlabel('Catégorie socioprofessionnelle')\n",
    "plt.ylabel('Effectif')\n",
    "plt.xticks(data[\"CSTOTR\"],categories, rotation=45, ha='right')\n",
    "plt.legend()\n",
    "plt.show()"
   ]
  },
  {
   "cell_type": "markdown",
   "id": "957c198e-27cb-4b40-a6b4-c26f7f3cc963",
   "metadata": {},
   "source": [
    "## Age"
   ]
  },
  {
   "cell_type": "code",
   "execution_count": null,
   "id": "0680a8d4-6fc0-4d52-b1c9-c0c1ce5f5620",
   "metadata": {},
   "outputs": [],
   "source": [
    "#chômage par âge\n",
    "#Catégories possibles\n",
    "categories = [\"15-29\",\"30-39\",\"40-49\",\"50-59\",\"60+\"]\n",
    "\n",
    "#tableau avec AGE/Effectif en emploi/Effectif chômeur tout cela pondéré par EXTRIAN\n",
    "result_dict = {\"AGE5\": categories, 'Effectif_emploi': [], 'Effectif_chom':[], 'Proportion_chom':[], 'Effectif_inac':[], 'Proportion_inac':[]}  #à chaque valeur on associe la somme des occurences pondérées\n",
    "for val in [15,30,40,50, 60] :\n",
    "    somme_pond_E = EEC_2019[(EEC_2019[\"AGE5\"] == val) & (EEC_2019[\"ACTEU\"]==1)][\"EXTRIAN\"].sum()\n",
    "    somme_pond_C = EEC_2019[(EEC_2019[\"AGE5\"] == val)& (EEC_2019[\"ACTEU\"]==2)][\"EXTRIAN\"].sum()\n",
    "    somme_pond_I = EEC_2019[(EEC_2019[\"AGE5\"] == val)& (EEC_2019[\"ACTEU\"]==3)][\"EXTRIAN\"].sum()\n",
    "    result_dict['Effectif_emploi'].append(round(somme_pond_E,0))\n",
    "    result_dict['Effectif_chom'].append(round(somme_pond_C,0))\n",
    "    result_dict['Proportion_chom'].append(round(somme_pond_C/(somme_pond_C + somme_pond_E+somme_pond_I),2))\n",
    "    result_dict['Effectif_inac'].append(round(somme_pond_I,0))\n",
    "    result_dict['Proportion_inac'].append(round(somme_pond_I/(somme_pond_I + somme_pond_E+somme_pond_C),2))\n",
    "data = pd.DataFrame(result_dict).reset_index(drop=True)\n",
    "data"
   ]
  },
  {
   "cell_type": "code",
   "execution_count": null,
   "id": "27b4ddcc-60c1-4642-992a-5ba10581ffa2",
   "metadata": {},
   "outputs": [],
   "source": [
    "plt.bar(data[\"AGE5\"],data[\"Effectif_emploi\"], color='blue', label='Au travail')\n",
    "plt.bar(data[\"AGE5\"],data[\"Effectif_chom\"], color='orange', label='Chômeurs', bottom=data[\"Effectif_emploi\"])\n",
    "plt.bar(data[\"AGE5\"],data[\"Effectif_inac\"], color='red', label='Inactifs', bottom=data[\"Effectif_emploi\"] + data[\"Effectif_chom\"])\n",
    "plt.title(\"Statut d'activité en fonction de l'âge\")\n",
    "plt.xlabel('Age')\n",
    "plt.ylabel('Effectif')\n",
    "plt.xticks(data[\"AGE5\"],categories, rotation=45, ha='right')\n",
    "plt.legend()\n",
    "plt.show()"
   ]
  },
  {
   "cell_type": "markdown",
   "id": "5e763893-a4b0-4565-93b6-b6e0f32c1488",
   "metadata": {},
   "source": [
    "On remarque, tout d'abord, que ce sont les moins de 29 et les plus de 60 ans qui sont les plus inactifs, étant soit en études ou à la retraite.\n",
    "Néanmoins, alors que le chômage est important pour les jeunes pour de multiples raisons, on remarque un faible chômage pour les plus de 50 ans (plus d'expérience, stabilité de l'emploi acquise avec le temps, possibilité de partir à la retraite...).\n",
    "La tranche d'âge allant de 30 à 60 recensant principalement des actifs (entre 5 et 7% de chômage et environ 15% d'inactifs)."
   ]
  },
  {
   "cell_type": "markdown",
   "id": "9cb94762-0ed5-421d-bd3e-4560e564d92f",
   "metadata": {},
   "source": [
    "## Sexe"
   ]
  },
  {
   "cell_type": "code",
   "execution_count": null,
   "id": "f9a4e3b0-6582-454a-9663-d16e82d16c28",
   "metadata": {},
   "outputs": [],
   "source": [
    "#chômage et inactivité par sexe\n",
    "#Catégories possibles\n",
    "categories = [\"Homme\",\"Femme\"]\n",
    "value = [1,2]\n",
    "\n",
    "#tableau avec SEXE/Effectif en emploi/Effectif chômeur et pour inactifs tout cela pondéré par EXTRIAN\n",
    "result_dict = {\"SEXE\": categories, 'Effectif_emploi': [], 'Effectif_chom':[], 'Proportion_chom':[], 'Effectif_inac':[], 'Proportion_inac':[]}  #à chaque valeur on associe la somme des occurences pondérées\n",
    "for val in value :\n",
    "    somme_pond_E = EEC_2019[(EEC_2019[\"SEXE\"] == val) & (EEC_2019[\"ACTEU\"]==1)][\"EXTRIAN\"].sum()\n",
    "    somme_pond_C = EEC_2019[(EEC_2019[\"SEXE\"] == val)& (EEC_2019[\"ACTEU\"]==2)][\"EXTRIAN\"].sum()\n",
    "    somme_pond_I = EEC_2019[(EEC_2019[\"SEXE\"] == val)& (EEC_2019[\"ACTEU\"]==3)][\"EXTRIAN\"].sum()\n",
    "    result_dict['Effectif_emploi'].append(round(somme_pond_E,0))\n",
    "    result_dict['Effectif_chom'].append(round(somme_pond_C,0))\n",
    "    result_dict['Proportion_chom'].append(round(somme_pond_C/(somme_pond_C + somme_pond_E+somme_pond_I),2))\n",
    "    result_dict['Effectif_inac'].append(round(somme_pond_I,0))\n",
    "    result_dict['Proportion_inac'].append(round(somme_pond_I/(somme_pond_I + somme_pond_E+somme_pond_C),2))\n",
    "data = pd.DataFrame(result_dict).reset_index(drop=True)\n",
    "data"
   ]
  },
  {
   "cell_type": "code",
   "execution_count": null,
   "id": "9a2ea504-9fa5-4b34-855c-d4dab7f2f22a",
   "metadata": {},
   "outputs": [],
   "source": [
    "plt.bar(data[\"SEXE\"],data[\"Effectif_emploi\"], color='blue', label='Au travail')\n",
    "plt.bar(data[\"SEXE\"],data[\"Effectif_chom\"], color='orange', label='Chômeurs', bottom=data[\"Effectif_emploi\"])\n",
    "plt.bar(data[\"SEXE\"],data[\"Effectif_inac\"], color='red', label='Inactifs', bottom=data[\"Effectif_emploi\"] + data[\"Effectif_chom\"])\n",
    "plt.title(\"Statut d'activité en fonction du sexe\")\n",
    "plt.xlabel('SEXE')\n",
    "plt.ylabel('Effectif')\n",
    "plt.xticks(data[\"SEXE\"],categories, rotation=45, ha='right')\n",
    "plt.legend()\n",
    "plt.show()"
   ]
  },
  {
   "cell_type": "markdown",
   "id": "000631d6-d066-414e-bfd9-6f8685df4431",
   "metadata": {},
   "source": [
    "On remarque tout d'abord qu'il y a proportionnellement plus de femmes inactives, cela s'explique principalement par l'écart d'espérance de vie entre les femmes et les hommes.\n",
    "Néanmoins, hommes comme femmes ont l'air d'avoir le même taux de sondage (à vérifier test)."
   ]
  },
  {
   "cell_type": "markdown",
   "id": "8e7dd05a-65a3-4e72-be89-d60555d6a85a",
   "metadata": {},
   "source": [
    "## Catégorie de commune"
   ]
  },
  {
   "cell_type": "code",
   "execution_count": null,
   "id": "4a751c32-25c5-4cb3-b848-f28a6ba8ad6e",
   "metadata": {},
   "outputs": [],
   "source": [
    "#chômage et inactivité par taille de la commune\n",
    "#Catégories possibles\n",
    "categories = [\"Grandes aires urbaines\",\"Autres aires\",\"Autres communes multipolarisées\",\"Communes isolées hors influence des pôles\"]\n",
    "value = EEC_2019[\"CATAU2010R\"].unique()\n",
    "\n",
    "#tableau avec CAUTAU2010R/Effectif en emploi/Effectif chômeur et pour inactifs tout cela pondéré par EXTRIAN\n",
    "result_dict = {\"CATAU2010R\": categories, 'Effectif_emploi': [], 'Effectif_chom':[], 'Proportion_chom':[], 'Effectif_inac':[], 'Proportion_inac':[]}  #à chaque valeur on associe la somme des occurences pondérées\n",
    "for val in value :\n",
    "    somme_pond_E = EEC_2019[(EEC_2019[\"CATAU2010R\"] == val) & (EEC_2019[\"ACTEU\"]==1)][\"EXTRIAN\"].sum()\n",
    "    somme_pond_C = EEC_2019[(EEC_2019[\"CATAU2010R\"] == val)& (EEC_2019[\"ACTEU\"]==2)][\"EXTRIAN\"].sum()\n",
    "    somme_pond_I = EEC_2019[(EEC_2019[\"CATAU2010R\"] == val)& (EEC_2019[\"ACTEU\"]==3)][\"EXTRIAN\"].sum()\n",
    "    result_dict['Effectif_emploi'].append(round(somme_pond_E,0))\n",
    "    result_dict['Effectif_chom'].append(round(somme_pond_C,0))\n",
    "    result_dict['Proportion_chom'].append(round(somme_pond_C/(somme_pond_C + somme_pond_E+somme_pond_I),2))\n",
    "    result_dict['Effectif_inac'].append(round(somme_pond_I,0))\n",
    "    result_dict['Proportion_inac'].append(round(somme_pond_I/(somme_pond_I + somme_pond_E+somme_pond_C),2))\n",
    "data = pd.DataFrame(result_dict).reset_index(drop=True)\n",
    "data"
   ]
  },
  {
   "cell_type": "code",
   "execution_count": null,
   "id": "c6cfd1a2-001d-462f-a56a-96567d5833c2",
   "metadata": {},
   "outputs": [],
   "source": [
    "plt.bar(data[\"CATAU2010R\"],data[\"Effectif_emploi\"], color='blue', label='Au travail')\n",
    "plt.bar(data[\"CATAU2010R\"],data[\"Effectif_chom\"], color='orange', label='Chômeurs', bottom=data[\"Effectif_emploi\"])\n",
    "plt.bar(data[\"CATAU2010R\"],data[\"Effectif_inac\"], color='red', label='Inactifs', bottom=data[\"Effectif_emploi\"] + data[\"Effectif_chom\"])\n",
    "plt.title(\"Statut d'activité en fonction du sexe\")\n",
    "plt.xlabel('Catégorie de commune du logement de résidence')\n",
    "plt.ylabel('Effectif')\n",
    "plt.xticks(data[\"CATAU2010R\"],categories, rotation=45, ha='right')\n",
    "plt.legend()\n",
    "plt.show()"
   ]
  },
  {
   "cell_type": "markdown",
   "id": "79e69c2d-03d0-4df1-a0b5-2692e52b7a31",
   "metadata": {},
   "source": [
    "# Analyse en composantes principales"
   ]
  },
  {
   "cell_type": "markdown",
   "id": "13f650fb-c8f6-4f96-a748-428f3ce921e9",
   "metadata": {},
   "source": [
    "## Normalisation"
   ]
  },
  {
   "cell_type": "markdown",
   "id": "e7ec2ce8-55f6-4572-9f7f-e79a38435888",
   "metadata": {},
   "source": [
    "On va effectuer une analyse en composantes principales sur la base EEC 2019 en essayant de se concentrer sur des variables socio-démographiques disponibles pouvant être correlées (voire expliquées) le statut d'activité.\n",
    "On s'intéresse au sexe, au niveau d'études, à la catégorie socioprofessionnelle, à la nationalité, au nombre d'heures travaillées voulues, à l'ancienneté du chômage, à l'âge, à la catégorie de la commune et à des variables familialles (couple ? enfants ?), à l'implication dans la recherche d'emploi.\n",
    "\n",
    "Pour commencer, on doit transformer les variables catégorielles en indicatrices et normaliser entre 0 et 1 les variables numériques."
   ]
  },
  {
   "cell_type": "code",
   "execution_count": 7,
   "id": "52cf1ac5-4fca-4a61-bc19-b4616e000826",
   "metadata": {},
   "outputs": [],
   "source": [
    "#Création d'une base PCA\n",
    "EEC_PCA=EEC_2019\n",
    "EEC_PCA=pd.DataFrame(EEC_PCA[[\"EXTRIAN\",\"ACTEU\",\"SEXE\",\"DIP11\",\"CSTOTR\",\"NFRRED\",\"NBTOTE\",\"HPLUSA\",\"HHCE\",\"CONTACT\",\n",
    "\"ANCCHOM\",\"AGE5\",\"AIDFAM\",\"CATAU2010R\",\"COURED\",\"ENFRED\"]]).reset_index(drop=True)"
   ]
  },
  {
   "cell_type": "code",
   "execution_count": 8,
   "id": "352166a5-9fcf-4b30-b335-1d4d1571a231",
   "metadata": {},
   "outputs": [],
   "source": [
    "#ACTEU, création d'une indicatrice chômage et d'une indicatrice inactif\n",
    "EEC_PCA[\"CHOM\"]=0\n",
    "EEC_PCA.loc[EEC_PCA[\"ACTEU\"]==2, \"CHOM\"]=1\n",
    "\n",
    "EEC_PCA[\"INAC\"]=0\n",
    "EEC_PCA.loc[EEC_PCA[\"ACTEU\"]==3, \"INAC\"]=1"
   ]
  },
  {
   "cell_type": "code",
   "execution_count": 9,
   "id": "2fc67e09-5158-461e-a0bf-71aef0d13fff",
   "metadata": {},
   "outputs": [],
   "source": [
    "#DIP11 que l'on va séparer en indicatrices pour enseignement sup, secondaire et en dessous\n",
    "EEC_PCA[\"infcollege\"]=0 #infcollege = aucun diplome, certif d'études, brevet\n",
    "EEC_PCA.loc[EEC_PCA[\"DIP11\"].isin([71,70,60]), \"infcollege\"]=1\n",
    "\n",
    "EEC_PCA[\"secondaireplus\"]=0 #secondaire plus = secondaire + BTS et DUT...\n",
    "EEC_PCA.loc[EEC_PCA[\"DIP11\"].isin([50,42,41,33,31]), \"secondaireplus\"]=1\n",
    "\n",
    "EEC_PCA[\"sup\"]=0 #le reste\n",
    "EEC_PCA.loc[EEC_PCA[\"DIP11\"].isin([30,11,10]), \"sup\"]=1"
   ]
  },
  {
   "cell_type": "code",
   "execution_count": 10,
   "id": "45127707-7a13-4b74-9fe1-b55ba80302b2",
   "metadata": {},
   "outputs": [],
   "source": [
    "#SEXE (0 = H, 1 = F)\n",
    "EEC_PCA.loc[EEC_PCA[\"SEXE\"]==1, \"SEXE_bin\"]=0\n",
    "EEC_PCA.loc[EEC_PCA[\"SEXE\"]==2, \"SEXE_bin\"]=1"
   ]
  },
  {
   "cell_type": "code",
   "execution_count": 11,
   "id": "ee3fc983-7076-44bd-9976-320d0a3a9c22",
   "metadata": {},
   "outputs": [],
   "source": [
    "#CSTOTR : en se basant sur le graphique ci-dessus, je crée une catégorie employé avec les professions intermédiaires, les employés et les ouvriers\n",
    "#et je crée une catégorie employeur avec les cadres sups, artisans, chef d'entreprises\n",
    "EEC_PCA[\"employe\"]=0 \n",
    "EEC_PCA.loc[EEC_PCA[\"CSTOTR\"].isin([4,5,6]), \"employe\"]=1\n",
    "\n",
    "EEC_PCA[\"employeur\"]=0 \n",
    "EEC_PCA.loc[EEC_PCA[\"CSTOTR\"].isin([2,3]), \"employeur\"]=1\n",
    "#on a 3/4 de l'échantillon employe et 1/4 employeur"
   ]
  },
  {
   "cell_type": "code",
   "execution_count": 12,
   "id": "a5fbb34f-365e-4705-8a4f-18a26352dd2d",
   "metadata": {},
   "outputs": [],
   "source": [
    "#NFRRED : variable indicatrice : \"l'individu est-il de nationalité française ?\"\n",
    "EEC_PCA[\"NAT\"]=0\n",
    "EEC_PCA.loc[EEC_PCA[\"NFRRED\"].isin([1,2]), \"NAT\"]=1\n",
    "#1/20 sans nationalité FR"
   ]
  },
  {
   "cell_type": "code",
   "execution_count": 13,
   "id": "07246585-2263-4d6a-aa8e-37568f04b1a8",
   "metadata": {},
   "outputs": [],
   "source": [
    "#AGE5 : transformer en deux indicatrices jeunes actifs (15 à 29 ans) ou actifs âgés (plus de 50 ans)\n",
    "EEC_PCA[\"JEUNE\"]=0 \n",
    "EEC_PCA.loc[EEC_PCA[\"AGE5\"]==15, \"JEUNE\"]=1\n",
    "\n",
    "EEC_PCA[\"ANCIEN\"]=0 \n",
    "EEC_PCA.loc[EEC_PCA[\"AGE5\"].isin([50,60]), \"ANCIEN\"]=1\n",
    "#1/5 de jeunes et 1/3 d'anciens"
   ]
  },
  {
   "cell_type": "code",
   "execution_count": 14,
   "id": "27b6c214-dc71-4c06-b6f8-c998763530a4",
   "metadata": {},
   "outputs": [],
   "source": [
    "#CONTACT : contact avec pôle emploi depuis dernière enquête (3 mois), 1 si oui\n",
    "EEC_PCA[\"P_E\"]=0\n",
    "EEC_PCA.loc[EEC_PCA[\"CONTACT\"]==1, \"P_E\"]=1\n",
    "#moins d'1/20"
   ]
  },
  {
   "cell_type": "code",
   "execution_count": 15,
   "id": "6a61968f-684d-4fd7-a986-1ecb544d4161",
   "metadata": {},
   "outputs": [],
   "source": [
    "#création de rural. 1 si l'individu n'habite pas dans un grande aire urbaine : 1/5 échantillon\n",
    "EEC_PCA[\"rural\"]=1\n",
    "EEC_PCA.loc[EEC_PCA[\"CATAU2010R\"]==1, \"rural\"]=0"
   ]
  },
  {
   "cell_type": "code",
   "execution_count": 16,
   "id": "5cd4f6f3-6b9c-419e-9edd-1d1b8237fb02",
   "metadata": {},
   "outputs": [],
   "source": [
    "#COURED : 1 si l'individu est en couple\n",
    "EEC_PCA[\"COUPLE\"]=0\n",
    "EEC_PCA.loc[EEC_PCA[\"COURED\"]==1, \"COUPLE\"]=1\n",
    "#2/3 en couple"
   ]
  },
  {
   "cell_type": "code",
   "execution_count": 17,
   "id": "fd88dfda-4cd2-4f0a-ad1c-fd39a53f5c2d",
   "metadata": {},
   "outputs": [],
   "source": [
    "#ENFRED : 1 si l'individu a un enfant\n",
    "EEC_PCA[\"ENF\"]=0\n",
    "EEC_PCA.loc[EEC_PCA[\"ENFRED\"]==1, \"ENF\"]=1\n",
    "#la moitié a un enfant"
   ]
  },
  {
   "cell_type": "code",
   "execution_count": 20,
   "id": "217fd80f-63fd-45b5-9e8a-2939d619490e",
   "metadata": {},
   "outputs": [],
   "source": [
    "from sklearn.preprocessing import MinMaxScaler #pour normaliser entre 0 et 1"
   ]
  },
  {
   "cell_type": "code",
   "execution_count": 21,
   "id": "5f4bb9e1-152c-4de5-b8ee-f8f99f1b25f4",
   "metadata": {},
   "outputs": [
    {
     "data": {
      "text/plain": [
       "count    9462.000000\n",
       "mean        0.629828\n",
       "std         0.230385\n",
       "min         0.000000\n",
       "25%         0.495798\n",
       "50%         0.647059\n",
       "75%         0.781513\n",
       "max         1.000000\n",
       "Name: NBTOTE, dtype: float64"
      ]
     },
     "execution_count": 21,
     "metadata": {},
     "output_type": "execute_result"
    }
   ],
   "source": [
    "#NBTOTE : Nbre d'heures travaillées par semaine en moyenne par l'individu\n",
    "col = EEC_PCA['NBTOTE']\n",
    "\n",
    "scaler = MinMaxScaler() # initialiser le scaler MinMax\n",
    "\n",
    "col_a_norm = col.values.reshape(-1, 1) # convertir la colonne en une matrice 2D (nécessaire pour le scaler)\n",
    "\n",
    "colonne_normalisee = scaler.fit_transform(col_a_norm)\n",
    "\n",
    "# Remplacer la colonne originale par la colonne normalisée et remplir NaN\n",
    "EEC_PCA['NBTOTE'] = colonne_normalisee\n",
    "EEC_PCA[\"NBTOTE\"].describe()\n",
    "#très peu d'entrées dans cette variable (à remédier)"
   ]
  },
  {
   "cell_type": "code",
   "execution_count": 22,
   "id": "a3555a45-9235-4518-b9f6-61b0abf7646a",
   "metadata": {},
   "outputs": [],
   "source": [
    "#HPLUSA (pour les personnes à qui leur charge horraire convient, on remplace NA par leur charge horraire actuelle)\n",
    "EEC_PCA[\"HHCE\"]=EEC_PCA[\"HHCE\"].fillna(0)\n",
    "EEC_PCA.loc[EEC_PCA['HPLUSA'].isna(), \"HPLUSA\"]=EEC_PCA[EEC_PCA['HPLUSA'].isna()][\"HHCE\"]"
   ]
  },
  {
   "cell_type": "code",
   "execution_count": 23,
   "id": "af24e8d4-76eb-4dbc-bbd4-ccf11983689e",
   "metadata": {},
   "outputs": [
    {
     "data": {
      "text/plain": [
       "count    416298.000000\n",
       "mean          0.174642\n",
       "std           0.201204\n",
       "min           0.000000\n",
       "25%           0.000000\n",
       "50%           0.000000\n",
       "75%           0.361809\n",
       "max           1.000000\n",
       "Name: HPLUSA, dtype: float64"
      ]
     },
     "execution_count": 23,
     "metadata": {},
     "output_type": "execute_result"
    }
   ],
   "source": [
    "col = EEC_PCA['HPLUSA']\n",
    "\n",
    "scaler = MinMaxScaler() # initialiser le scaler MinMax\n",
    "\n",
    "col_a_norm = col.values.reshape(-1, 1) # convertir la colonne en une matrice 2D (nécessaire pour le scaler)\n",
    "\n",
    "colonne_normalisee = scaler.fit_transform(col_a_norm)\n",
    "\n",
    "# Remplacer la colonne originale par la colonne normalisée et remplir NaN\n",
    "EEC_PCA['HPLUSA'] = colonne_normalisee\n",
    "EEC_PCA[\"HPLUSA\"].describe()"
   ]
  },
  {
   "cell_type": "code",
   "execution_count": 24,
   "id": "93e75e65-493d-48c2-874a-0e57acab12ea",
   "metadata": {},
   "outputs": [
    {
     "data": {
      "text/plain": [
       "count    416298.000000\n",
       "mean          0.680171\n",
       "std           4.274341\n",
       "min           0.000000\n",
       "25%           0.000000\n",
       "50%           0.000000\n",
       "75%           0.000000\n",
       "max          40.000000\n",
       "Name: ANCCH, dtype: float64"
      ]
     },
     "execution_count": 24,
     "metadata": {},
     "output_type": "execute_result"
    }
   ],
   "source": [
    "#ANCCHOM : ancienneté du chômage, recodage en mois pour normaliser\n",
    "EEC_PCA[\"ANCCH\"]=0.0#en emploi\n",
    "EEC_PCA.loc[EEC_PCA[\"ANCCHOM\"]==1, \"ANCCH\"]=1.0\n",
    "EEC_PCA.loc[EEC_PCA[\"ANCCHOM\"]==2, \"ANCCH\"]=2.0\n",
    "EEC_PCA.loc[EEC_PCA[\"ANCCHOM\"]==3, \"ANCCH\"]=4.5\n",
    "EEC_PCA.loc[EEC_PCA[\"ANCCHOM\"]==4, \"ANCCH\"]=9.0\n",
    "EEC_PCA.loc[EEC_PCA[\"ANCCHOM\"]==5, \"ANCCH\"]=15.0\n",
    "EEC_PCA.loc[EEC_PCA[\"ANCCHOM\"]==6, \"ANCCH\"]=21.0\n",
    "EEC_PCA.loc[EEC_PCA[\"ANCCHOM\"]==7, \"ANCCH\"]=30.0\n",
    "EEC_PCA.loc[EEC_PCA[\"ANCCHOM\"]==8, \"ANCCH\"]=40.0\n",
    "EEC_PCA[\"ANCCH\"].describe()"
   ]
  },
  {
   "cell_type": "code",
   "execution_count": 25,
   "id": "6c927e7e-a649-44ba-8204-330c1f8e8b4c",
   "metadata": {},
   "outputs": [
    {
     "data": {
      "text/plain": [
       "count    416298.000000\n",
       "mean          0.017004\n",
       "std           0.106859\n",
       "min           0.000000\n",
       "25%           0.000000\n",
       "50%           0.000000\n",
       "75%           0.000000\n",
       "max           1.000000\n",
       "Name: ANCCH, dtype: float64"
      ]
     },
     "execution_count": 25,
     "metadata": {},
     "output_type": "execute_result"
    }
   ],
   "source": [
    "col = EEC_PCA['ANCCH']\n",
    "\n",
    "scaler = MinMaxScaler() # initialiser le scaler MinMax\n",
    "\n",
    "col_a_norm = col.values.reshape(-1, 1) # convertir la colonne en une matrice 2D (nécessaire pour le scaler)\n",
    "\n",
    "colonne_normalisee = scaler.fit_transform(col_a_norm)\n",
    "\n",
    "# Remplacer la colonne originale par la colonne normalisée et remplir NaN\n",
    "EEC_PCA['ANCCH'] = colonne_normalisee\n",
    "EEC_PCA[\"ANCCH\"].describe()"
   ]
  },
  {
   "cell_type": "markdown",
   "id": "b842db80-8d3f-4144-b198-190ccc1a6d9a",
   "metadata": {},
   "source": [
    "## Matrice de covariances"
   ]
  },
  {
   "cell_type": "markdown",
   "id": "24133186-ef5c-40fa-a772-d307ca6e3452",
   "metadata": {},
   "source": [
    "Avec ces variables normalisées, on réalise maintenant la matrice de covariances et sa heatmap. On veille à respecter la pondération de chaque individu."
   ]
  },
  {
   "cell_type": "code",
   "execution_count": 26,
   "id": "ddaedbea-31a5-43dd-a6d8-894df9bd9f40",
   "metadata": {},
   "outputs": [
    {
     "data": {
      "text/html": [
       "<div>\n",
       "<style scoped>\n",
       "    .dataframe tbody tr th:only-of-type {\n",
       "        vertical-align: middle;\n",
       "    }\n",
       "\n",
       "    .dataframe tbody tr th {\n",
       "        vertical-align: top;\n",
       "    }\n",
       "\n",
       "    .dataframe thead th {\n",
       "        text-align: right;\n",
       "    }\n",
       "</style>\n",
       "<table border=\"1\" class=\"dataframe\">\n",
       "  <thead>\n",
       "    <tr style=\"text-align: right;\">\n",
       "      <th></th>\n",
       "      <th>HPLUSA</th>\n",
       "      <th>CHOM</th>\n",
       "      <th>INAC</th>\n",
       "      <th>infcollege</th>\n",
       "      <th>P_E</th>\n",
       "      <th>ANCCH</th>\n",
       "      <th>secondaireplus</th>\n",
       "      <th>sup</th>\n",
       "      <th>SEXE_bin</th>\n",
       "      <th>employe</th>\n",
       "      <th>employeur</th>\n",
       "      <th>NAT</th>\n",
       "      <th>JEUNE</th>\n",
       "      <th>ANCIEN</th>\n",
       "      <th>rural</th>\n",
       "      <th>COUPLE</th>\n",
       "      <th>ENF</th>\n",
       "    </tr>\n",
       "  </thead>\n",
       "  <tbody>\n",
       "    <tr>\n",
       "      <th>0</th>\n",
       "      <td>0.00000</td>\n",
       "      <td>0</td>\n",
       "      <td>1</td>\n",
       "      <td>1</td>\n",
       "      <td>0</td>\n",
       "      <td>0.0</td>\n",
       "      <td>0</td>\n",
       "      <td>0</td>\n",
       "      <td>1.0</td>\n",
       "      <td>0</td>\n",
       "      <td>0</td>\n",
       "      <td>1</td>\n",
       "      <td>0</td>\n",
       "      <td>1</td>\n",
       "      <td>0</td>\n",
       "      <td>0</td>\n",
       "      <td>0</td>\n",
       "    </tr>\n",
       "    <tr>\n",
       "      <th>1</th>\n",
       "      <td>0.01005</td>\n",
       "      <td>0</td>\n",
       "      <td>0</td>\n",
       "      <td>0</td>\n",
       "      <td>0</td>\n",
       "      <td>0.0</td>\n",
       "      <td>1</td>\n",
       "      <td>0</td>\n",
       "      <td>0.0</td>\n",
       "      <td>1</td>\n",
       "      <td>0</td>\n",
       "      <td>1</td>\n",
       "      <td>0</td>\n",
       "      <td>1</td>\n",
       "      <td>0</td>\n",
       "      <td>1</td>\n",
       "      <td>0</td>\n",
       "    </tr>\n",
       "    <tr>\n",
       "      <th>2</th>\n",
       "      <td>0.00000</td>\n",
       "      <td>0</td>\n",
       "      <td>1</td>\n",
       "      <td>1</td>\n",
       "      <td>0</td>\n",
       "      <td>0.0</td>\n",
       "      <td>0</td>\n",
       "      <td>0</td>\n",
       "      <td>1.0</td>\n",
       "      <td>0</td>\n",
       "      <td>0</td>\n",
       "      <td>1</td>\n",
       "      <td>0</td>\n",
       "      <td>1</td>\n",
       "      <td>0</td>\n",
       "      <td>1</td>\n",
       "      <td>0</td>\n",
       "    </tr>\n",
       "    <tr>\n",
       "      <th>3</th>\n",
       "      <td>0.01005</td>\n",
       "      <td>0</td>\n",
       "      <td>0</td>\n",
       "      <td>0</td>\n",
       "      <td>0</td>\n",
       "      <td>0.0</td>\n",
       "      <td>1</td>\n",
       "      <td>0</td>\n",
       "      <td>0.0</td>\n",
       "      <td>1</td>\n",
       "      <td>0</td>\n",
       "      <td>1</td>\n",
       "      <td>0</td>\n",
       "      <td>1</td>\n",
       "      <td>0</td>\n",
       "      <td>1</td>\n",
       "      <td>0</td>\n",
       "    </tr>\n",
       "    <tr>\n",
       "      <th>4</th>\n",
       "      <td>0.00000</td>\n",
       "      <td>0</td>\n",
       "      <td>1</td>\n",
       "      <td>1</td>\n",
       "      <td>0</td>\n",
       "      <td>0.0</td>\n",
       "      <td>0</td>\n",
       "      <td>0</td>\n",
       "      <td>1.0</td>\n",
       "      <td>0</td>\n",
       "      <td>0</td>\n",
       "      <td>1</td>\n",
       "      <td>0</td>\n",
       "      <td>1</td>\n",
       "      <td>0</td>\n",
       "      <td>1</td>\n",
       "      <td>0</td>\n",
       "    </tr>\n",
       "  </tbody>\n",
       "</table>\n",
       "</div>"
      ],
      "text/plain": [
       "    HPLUSA  CHOM  INAC  infcollege  P_E  ANCCH  secondaireplus  sup  SEXE_bin  \\\n",
       "0  0.00000     0     1           1    0    0.0               0    0       1.0   \n",
       "1  0.01005     0     0           0    0    0.0               1    0       0.0   \n",
       "2  0.00000     0     1           1    0    0.0               0    0       1.0   \n",
       "3  0.01005     0     0           0    0    0.0               1    0       0.0   \n",
       "4  0.00000     0     1           1    0    0.0               0    0       1.0   \n",
       "\n",
       "   employe  employeur  NAT  JEUNE  ANCIEN  rural  COUPLE  ENF  \n",
       "0        0          0    1      0       1      0       0    0  \n",
       "1        1          0    1      0       1      0       1    0  \n",
       "2        0          0    1      0       1      0       1    0  \n",
       "3        1          0    1      0       1      0       1    0  \n",
       "4        0          0    1      0       1      0       1    0  "
      ]
     },
     "execution_count": 26,
     "metadata": {},
     "output_type": "execute_result"
    }
   ],
   "source": [
    "EEC_PCA1=EEC_PCA[['HPLUSA', 'CHOM','INAC', 'infcollege', 'P_E',\"ANCCH\",\n",
    "       'secondaireplus', 'sup', 'SEXE_bin', 'employe', 'employeur', 'NAT',\n",
    "       'JEUNE', 'ANCIEN', 'rural', 'COUPLE', 'ENF']] #on omet NBTOTE pas assez d'ind.\n",
    "noms_var=EEC_PCA1.columns\n",
    "EEC_PCAW=EEC_PCA[\"EXTRIAN\"].to_numpy()\n",
    "EEC_PCA1.head()"
   ]
  },
  {
   "cell_type": "code",
   "execution_count": 27,
   "id": "247523f9-fadd-48a5-ac92-a9e69bb4020c",
   "metadata": {},
   "outputs": [
    {
     "data": {
      "text/html": [
       "<div>\n",
       "<style scoped>\n",
       "    .dataframe tbody tr th:only-of-type {\n",
       "        vertical-align: middle;\n",
       "    }\n",
       "\n",
       "    .dataframe tbody tr th {\n",
       "        vertical-align: top;\n",
       "    }\n",
       "\n",
       "    .dataframe thead th {\n",
       "        text-align: right;\n",
       "    }\n",
       "</style>\n",
       "<table border=\"1\" class=\"dataframe\">\n",
       "  <thead>\n",
       "    <tr style=\"text-align: right;\">\n",
       "      <th></th>\n",
       "      <th>HPLUSA</th>\n",
       "      <th>CHOM</th>\n",
       "      <th>INAC</th>\n",
       "      <th>infcollege</th>\n",
       "      <th>P_E</th>\n",
       "      <th>ANCCH</th>\n",
       "      <th>secondaireplus</th>\n",
       "      <th>sup</th>\n",
       "      <th>SEXE_bin</th>\n",
       "      <th>employe</th>\n",
       "      <th>employeur</th>\n",
       "      <th>NAT</th>\n",
       "      <th>JEUNE</th>\n",
       "      <th>ANCIEN</th>\n",
       "      <th>rural</th>\n",
       "      <th>COUPLE</th>\n",
       "      <th>ENF</th>\n",
       "    </tr>\n",
       "  </thead>\n",
       "  <tbody>\n",
       "    <tr>\n",
       "      <th>HPLUSA</th>\n",
       "      <td>0.041428</td>\n",
       "      <td>-0.008964</td>\n",
       "      <td>-0.085715</td>\n",
       "      <td>-0.031662</td>\n",
       "      <td>-0.002925</td>\n",
       "      <td>-0.003011</td>\n",
       "      <td>0.013564</td>\n",
       "      <td>0.017932</td>\n",
       "      <td>-0.013064</td>\n",
       "      <td>0.054870</td>\n",
       "      <td>0.029508</td>\n",
       "      <td>0.001684</td>\n",
       "      <td>-0.006544</td>\n",
       "      <td>-0.032863</td>\n",
       "      <td>-0.002920</td>\n",
       "      <td>0.018821</td>\n",
       "      <td>0.034300</td>\n",
       "    </tr>\n",
       "    <tr>\n",
       "      <th>CHOM</th>\n",
       "      <td>-0.008964</td>\n",
       "      <td>0.044535</td>\n",
       "      <td>-0.020869</td>\n",
       "      <td>-0.000803</td>\n",
       "      <td>0.012456</td>\n",
       "      <td>0.014957</td>\n",
       "      <td>0.002101</td>\n",
       "      <td>-0.001355</td>\n",
       "      <td>-0.001936</td>\n",
       "      <td>0.015565</td>\n",
       "      <td>-0.001420</td>\n",
       "      <td>-0.002415</td>\n",
       "      <td>0.007148</td>\n",
       "      <td>-0.011807</td>\n",
       "      <td>-0.000966</td>\n",
       "      <td>-0.007126</td>\n",
       "      <td>0.001146</td>\n",
       "    </tr>\n",
       "    <tr>\n",
       "      <th>INAC</th>\n",
       "      <td>-0.085715</td>\n",
       "      <td>-0.020869</td>\n",
       "      <td>0.247160</td>\n",
       "      <td>0.079704</td>\n",
       "      <td>-0.005615</td>\n",
       "      <td>-0.007009</td>\n",
       "      <td>-0.038920</td>\n",
       "      <td>-0.040319</td>\n",
       "      <td>0.020878</td>\n",
       "      <td>-0.178377</td>\n",
       "      <td>-0.061053</td>\n",
       "      <td>-0.000551</td>\n",
       "      <td>0.005604</td>\n",
       "      <td>0.096678</td>\n",
       "      <td>0.008756</td>\n",
       "      <td>-0.037614</td>\n",
       "      <td>-0.087091</td>\n",
       "    </tr>\n",
       "    <tr>\n",
       "      <th>infcollege</th>\n",
       "      <td>-0.031662</td>\n",
       "      <td>-0.000803</td>\n",
       "      <td>0.079704</td>\n",
       "      <td>0.208357</td>\n",
       "      <td>-0.000811</td>\n",
       "      <td>0.000647</td>\n",
       "      <td>-0.150956</td>\n",
       "      <td>-0.056733</td>\n",
       "      <td>0.008364</td>\n",
       "      <td>-0.046182</td>\n",
       "      <td>-0.032312</td>\n",
       "      <td>-0.013112</td>\n",
       "      <td>0.003213</td>\n",
       "      <td>0.041956</td>\n",
       "      <td>0.009851</td>\n",
       "      <td>-0.028624</td>\n",
       "      <td>-0.032177</td>\n",
       "    </tr>\n",
       "    <tr>\n",
       "      <th>P_E</th>\n",
       "      <td>-0.002925</td>\n",
       "      <td>0.012456</td>\n",
       "      <td>-0.005615</td>\n",
       "      <td>-0.000811</td>\n",
       "      <td>0.026948</td>\n",
       "      <td>0.004723</td>\n",
       "      <td>0.002093</td>\n",
       "      <td>-0.001358</td>\n",
       "      <td>-0.000013</td>\n",
       "      <td>0.005873</td>\n",
       "      <td>-0.001267</td>\n",
       "      <td>-0.001316</td>\n",
       "      <td>0.001312</td>\n",
       "      <td>-0.005720</td>\n",
       "      <td>0.000012</td>\n",
       "      <td>-0.002581</td>\n",
       "      <td>0.002626</td>\n",
       "    </tr>\n",
       "    <tr>\n",
       "      <th>ANCCH</th>\n",
       "      <td>-0.003011</td>\n",
       "      <td>0.014957</td>\n",
       "      <td>-0.007009</td>\n",
       "      <td>0.000647</td>\n",
       "      <td>0.004723</td>\n",
       "      <td>0.009866</td>\n",
       "      <td>0.000281</td>\n",
       "      <td>-0.000941</td>\n",
       "      <td>-0.000745</td>\n",
       "      <td>0.005101</td>\n",
       "      <td>-0.000570</td>\n",
       "      <td>-0.000973</td>\n",
       "      <td>0.000714</td>\n",
       "      <td>-0.002454</td>\n",
       "      <td>-0.000276</td>\n",
       "      <td>-0.002567</td>\n",
       "      <td>0.000701</td>\n",
       "    </tr>\n",
       "    <tr>\n",
       "      <th>secondaireplus</th>\n",
       "      <td>0.013564</td>\n",
       "      <td>0.002101</td>\n",
       "      <td>-0.038920</td>\n",
       "      <td>-0.150956</td>\n",
       "      <td>0.002093</td>\n",
       "      <td>0.000281</td>\n",
       "      <td>0.249899</td>\n",
       "      <td>-0.097790</td>\n",
       "      <td>-0.010525</td>\n",
       "      <td>0.060223</td>\n",
       "      <td>-0.022868</td>\n",
       "      <td>0.013658</td>\n",
       "      <td>-0.001734</td>\n",
       "      <td>-0.016560</td>\n",
       "      <td>0.005361</td>\n",
       "      <td>0.014673</td>\n",
       "      <td>0.018450</td>\n",
       "    </tr>\n",
       "    <tr>\n",
       "      <th>sup</th>\n",
       "      <td>0.017932</td>\n",
       "      <td>-0.001355</td>\n",
       "      <td>-0.040319</td>\n",
       "      <td>-0.056733</td>\n",
       "      <td>-0.001358</td>\n",
       "      <td>-0.000941</td>\n",
       "      <td>-0.097790</td>\n",
       "      <td>0.154956</td>\n",
       "      <td>0.002329</td>\n",
       "      <td>-0.013622</td>\n",
       "      <td>0.055321</td>\n",
       "      <td>-0.000477</td>\n",
       "      <td>-0.002097</td>\n",
       "      <td>-0.024736</td>\n",
       "      <td>-0.014976</td>\n",
       "      <td>0.014304</td>\n",
       "      <td>0.013745</td>\n",
       "    </tr>\n",
       "    <tr>\n",
       "      <th>SEXE_bin</th>\n",
       "      <td>-0.013064</td>\n",
       "      <td>-0.001936</td>\n",
       "      <td>0.020878</td>\n",
       "      <td>0.008364</td>\n",
       "      <td>-0.000013</td>\n",
       "      <td>-0.000745</td>\n",
       "      <td>-0.010525</td>\n",
       "      <td>0.002329</td>\n",
       "      <td>0.249493</td>\n",
       "      <td>-0.000091</td>\n",
       "      <td>-0.018542</td>\n",
       "      <td>-0.000008</td>\n",
       "      <td>-0.004576</td>\n",
       "      <td>0.007778</td>\n",
       "      <td>-0.001049</td>\n",
       "      <td>-0.013818</td>\n",
       "      <td>0.012492</td>\n",
       "    </tr>\n",
       "    <tr>\n",
       "      <th>employe</th>\n",
       "      <td>0.054870</td>\n",
       "      <td>0.015565</td>\n",
       "      <td>-0.178377</td>\n",
       "      <td>-0.046182</td>\n",
       "      <td>0.005873</td>\n",
       "      <td>0.005101</td>\n",
       "      <td>0.060223</td>\n",
       "      <td>-0.013622</td>\n",
       "      <td>-0.000091</td>\n",
       "      <td>0.239865</td>\n",
       "      <td>-0.054577</td>\n",
       "      <td>-0.000556</td>\n",
       "      <td>0.004219</td>\n",
       "      <td>-0.076915</td>\n",
       "      <td>-0.002042</td>\n",
       "      <td>0.019490</td>\n",
       "      <td>0.061240</td>\n",
       "    </tr>\n",
       "    <tr>\n",
       "      <th>employeur</th>\n",
       "      <td>0.029508</td>\n",
       "      <td>-0.001420</td>\n",
       "      <td>-0.061053</td>\n",
       "      <td>-0.032312</td>\n",
       "      <td>-0.001267</td>\n",
       "      <td>-0.000570</td>\n",
       "      <td>-0.022868</td>\n",
       "      <td>0.055321</td>\n",
       "      <td>-0.018542</td>\n",
       "      <td>-0.054577</td>\n",
       "      <td>0.117995</td>\n",
       "      <td>0.001150</td>\n",
       "      <td>-0.012847</td>\n",
       "      <td>-0.016629</td>\n",
       "      <td>-0.008955</td>\n",
       "      <td>0.019794</td>\n",
       "      <td>0.025718</td>\n",
       "    </tr>\n",
       "    <tr>\n",
       "      <th>NAT</th>\n",
       "      <td>0.001684</td>\n",
       "      <td>-0.002415</td>\n",
       "      <td>-0.000551</td>\n",
       "      <td>-0.013112</td>\n",
       "      <td>-0.001316</td>\n",
       "      <td>-0.000973</td>\n",
       "      <td>0.013658</td>\n",
       "      <td>-0.000477</td>\n",
       "      <td>-0.000008</td>\n",
       "      <td>-0.000556</td>\n",
       "      <td>0.001150</td>\n",
       "      <td>0.065089</td>\n",
       "      <td>0.002690</td>\n",
       "      <td>0.005267</td>\n",
       "      <td>0.004683</td>\n",
       "      <td>-0.005100</td>\n",
       "      <td>-0.009784</td>\n",
       "    </tr>\n",
       "    <tr>\n",
       "      <th>JEUNE</th>\n",
       "      <td>-0.006544</td>\n",
       "      <td>0.007148</td>\n",
       "      <td>0.005604</td>\n",
       "      <td>0.003213</td>\n",
       "      <td>0.001312</td>\n",
       "      <td>0.000714</td>\n",
       "      <td>-0.001734</td>\n",
       "      <td>-0.002097</td>\n",
       "      <td>-0.004576</td>\n",
       "      <td>0.004219</td>\n",
       "      <td>-0.012847</td>\n",
       "      <td>0.002690</td>\n",
       "      <td>0.166956</td>\n",
       "      <td>-0.101121</td>\n",
       "      <td>-0.007827</td>\n",
       "      <td>-0.072676</td>\n",
       "      <td>-0.049894</td>\n",
       "    </tr>\n",
       "    <tr>\n",
       "      <th>ANCIEN</th>\n",
       "      <td>-0.032863</td>\n",
       "      <td>-0.011807</td>\n",
       "      <td>0.096678</td>\n",
       "      <td>0.041956</td>\n",
       "      <td>-0.005720</td>\n",
       "      <td>-0.002454</td>\n",
       "      <td>-0.016560</td>\n",
       "      <td>-0.024736</td>\n",
       "      <td>0.007778</td>\n",
       "      <td>-0.076915</td>\n",
       "      <td>-0.016629</td>\n",
       "      <td>0.005267</td>\n",
       "      <td>-0.101121</td>\n",
       "      <td>0.249489</td>\n",
       "      <td>0.013596</td>\n",
       "      <td>0.029800</td>\n",
       "      <td>-0.060198</td>\n",
       "    </tr>\n",
       "    <tr>\n",
       "      <th>rural</th>\n",
       "      <td>-0.002920</td>\n",
       "      <td>-0.000966</td>\n",
       "      <td>0.008756</td>\n",
       "      <td>0.009851</td>\n",
       "      <td>0.000012</td>\n",
       "      <td>-0.000276</td>\n",
       "      <td>0.005361</td>\n",
       "      <td>-0.014976</td>\n",
       "      <td>-0.001049</td>\n",
       "      <td>-0.002042</td>\n",
       "      <td>-0.008955</td>\n",
       "      <td>0.004683</td>\n",
       "      <td>-0.007827</td>\n",
       "      <td>0.013596</td>\n",
       "      <td>0.137370</td>\n",
       "      <td>0.005191</td>\n",
       "      <td>-0.005040</td>\n",
       "    </tr>\n",
       "    <tr>\n",
       "      <th>COUPLE</th>\n",
       "      <td>0.018821</td>\n",
       "      <td>-0.007126</td>\n",
       "      <td>-0.037614</td>\n",
       "      <td>-0.028624</td>\n",
       "      <td>-0.002581</td>\n",
       "      <td>-0.002567</td>\n",
       "      <td>0.014673</td>\n",
       "      <td>0.014304</td>\n",
       "      <td>-0.013818</td>\n",
       "      <td>0.019490</td>\n",
       "      <td>0.019794</td>\n",
       "      <td>-0.005100</td>\n",
       "      <td>-0.072676</td>\n",
       "      <td>0.029800</td>\n",
       "      <td>0.005191</td>\n",
       "      <td>0.242865</td>\n",
       "      <td>0.081949</td>\n",
       "    </tr>\n",
       "    <tr>\n",
       "      <th>ENF</th>\n",
       "      <td>0.034300</td>\n",
       "      <td>0.001146</td>\n",
       "      <td>-0.087091</td>\n",
       "      <td>-0.032177</td>\n",
       "      <td>0.002626</td>\n",
       "      <td>0.000701</td>\n",
       "      <td>0.018450</td>\n",
       "      <td>0.013745</td>\n",
       "      <td>0.012492</td>\n",
       "      <td>0.061240</td>\n",
       "      <td>0.025718</td>\n",
       "      <td>-0.009784</td>\n",
       "      <td>-0.049894</td>\n",
       "      <td>-0.060198</td>\n",
       "      <td>-0.005040</td>\n",
       "      <td>0.081949</td>\n",
       "      <td>0.225309</td>\n",
       "    </tr>\n",
       "  </tbody>\n",
       "</table>\n",
       "</div>"
      ],
      "text/plain": [
       "                  HPLUSA      CHOM      INAC  infcollege       P_E     ANCCH  \\\n",
       "HPLUSA          0.041428 -0.008964 -0.085715   -0.031662 -0.002925 -0.003011   \n",
       "CHOM           -0.008964  0.044535 -0.020869   -0.000803  0.012456  0.014957   \n",
       "INAC           -0.085715 -0.020869  0.247160    0.079704 -0.005615 -0.007009   \n",
       "infcollege     -0.031662 -0.000803  0.079704    0.208357 -0.000811  0.000647   \n",
       "P_E            -0.002925  0.012456 -0.005615   -0.000811  0.026948  0.004723   \n",
       "ANCCH          -0.003011  0.014957 -0.007009    0.000647  0.004723  0.009866   \n",
       "secondaireplus  0.013564  0.002101 -0.038920   -0.150956  0.002093  0.000281   \n",
       "sup             0.017932 -0.001355 -0.040319   -0.056733 -0.001358 -0.000941   \n",
       "SEXE_bin       -0.013064 -0.001936  0.020878    0.008364 -0.000013 -0.000745   \n",
       "employe         0.054870  0.015565 -0.178377   -0.046182  0.005873  0.005101   \n",
       "employeur       0.029508 -0.001420 -0.061053   -0.032312 -0.001267 -0.000570   \n",
       "NAT             0.001684 -0.002415 -0.000551   -0.013112 -0.001316 -0.000973   \n",
       "JEUNE          -0.006544  0.007148  0.005604    0.003213  0.001312  0.000714   \n",
       "ANCIEN         -0.032863 -0.011807  0.096678    0.041956 -0.005720 -0.002454   \n",
       "rural          -0.002920 -0.000966  0.008756    0.009851  0.000012 -0.000276   \n",
       "COUPLE          0.018821 -0.007126 -0.037614   -0.028624 -0.002581 -0.002567   \n",
       "ENF             0.034300  0.001146 -0.087091   -0.032177  0.002626  0.000701   \n",
       "\n",
       "                secondaireplus       sup  SEXE_bin   employe  employeur  \\\n",
       "HPLUSA                0.013564  0.017932 -0.013064  0.054870   0.029508   \n",
       "CHOM                  0.002101 -0.001355 -0.001936  0.015565  -0.001420   \n",
       "INAC                 -0.038920 -0.040319  0.020878 -0.178377  -0.061053   \n",
       "infcollege           -0.150956 -0.056733  0.008364 -0.046182  -0.032312   \n",
       "P_E                   0.002093 -0.001358 -0.000013  0.005873  -0.001267   \n",
       "ANCCH                 0.000281 -0.000941 -0.000745  0.005101  -0.000570   \n",
       "secondaireplus        0.249899 -0.097790 -0.010525  0.060223  -0.022868   \n",
       "sup                  -0.097790  0.154956  0.002329 -0.013622   0.055321   \n",
       "SEXE_bin             -0.010525  0.002329  0.249493 -0.000091  -0.018542   \n",
       "employe               0.060223 -0.013622 -0.000091  0.239865  -0.054577   \n",
       "employeur            -0.022868  0.055321 -0.018542 -0.054577   0.117995   \n",
       "NAT                   0.013658 -0.000477 -0.000008 -0.000556   0.001150   \n",
       "JEUNE                -0.001734 -0.002097 -0.004576  0.004219  -0.012847   \n",
       "ANCIEN               -0.016560 -0.024736  0.007778 -0.076915  -0.016629   \n",
       "rural                 0.005361 -0.014976 -0.001049 -0.002042  -0.008955   \n",
       "COUPLE                0.014673  0.014304 -0.013818  0.019490   0.019794   \n",
       "ENF                   0.018450  0.013745  0.012492  0.061240   0.025718   \n",
       "\n",
       "                     NAT     JEUNE    ANCIEN     rural    COUPLE       ENF  \n",
       "HPLUSA          0.001684 -0.006544 -0.032863 -0.002920  0.018821  0.034300  \n",
       "CHOM           -0.002415  0.007148 -0.011807 -0.000966 -0.007126  0.001146  \n",
       "INAC           -0.000551  0.005604  0.096678  0.008756 -0.037614 -0.087091  \n",
       "infcollege     -0.013112  0.003213  0.041956  0.009851 -0.028624 -0.032177  \n",
       "P_E            -0.001316  0.001312 -0.005720  0.000012 -0.002581  0.002626  \n",
       "ANCCH          -0.000973  0.000714 -0.002454 -0.000276 -0.002567  0.000701  \n",
       "secondaireplus  0.013658 -0.001734 -0.016560  0.005361  0.014673  0.018450  \n",
       "sup            -0.000477 -0.002097 -0.024736 -0.014976  0.014304  0.013745  \n",
       "SEXE_bin       -0.000008 -0.004576  0.007778 -0.001049 -0.013818  0.012492  \n",
       "employe        -0.000556  0.004219 -0.076915 -0.002042  0.019490  0.061240  \n",
       "employeur       0.001150 -0.012847 -0.016629 -0.008955  0.019794  0.025718  \n",
       "NAT             0.065089  0.002690  0.005267  0.004683 -0.005100 -0.009784  \n",
       "JEUNE           0.002690  0.166956 -0.101121 -0.007827 -0.072676 -0.049894  \n",
       "ANCIEN          0.005267 -0.101121  0.249489  0.013596  0.029800 -0.060198  \n",
       "rural           0.004683 -0.007827  0.013596  0.137370  0.005191 -0.005040  \n",
       "COUPLE         -0.005100 -0.072676  0.029800  0.005191  0.242865  0.081949  \n",
       "ENF            -0.009784 -0.049894 -0.060198 -0.005040  0.081949  0.225309  "
      ]
     },
     "execution_count": 27,
     "metadata": {},
     "output_type": "execute_result"
    }
   ],
   "source": [
    "EEC_COV_NP=np.cov(EEC_PCA1.to_numpy(), rowvar=False, aweights=EEC_PCAW)\n",
    "EEC_COV=pd.DataFrame(EEC_COV_NP) #matrice de covariance pondérée\n",
    "EEC_COV.columns = noms_var #on affiche le nom des variables correspondantes en x et y\n",
    "EEC_COV.set_index(EEC_COV.columns, inplace=True)\n",
    "EEC_COV"
   ]
  },
  {
   "cell_type": "code",
   "execution_count": 28,
   "id": "cb0eee1e-5da2-4b33-b909-8bdb59730a4b",
   "metadata": {},
   "outputs": [
    {
     "data": {
      "image/png": "[encoded data removed]",
      "text/plain": [
       "<Figure size 640x480 with 2 Axes>"
      ]
     },
     "metadata": {},
     "output_type": "display_data"
    }
   ],
   "source": [
    "import seaborn as sns\n",
    "\n",
    "# Utiliser seaborn pour créer la heatmap\n",
    "sns.set(style=\"white\")\n",
    "sns.heatmap(EEC_COV, annot=False, cmap=\"coolwarm\", fmt=\".2f\", linewidths=.5)\n",
    "\n",
    "# Afficher la heatmap\n",
    "plt.title('Heatmap de la Matrice de Covariance')\n",
    "plt.show()"
   ]
  },
  {
   "cell_type": "markdown",
   "id": "244e69f4-79d4-4592-92ac-f6c8fc837363",
   "metadata": {},
   "source": [
    "## PCA"
   ]
  },
  {
   "cell_type": "markdown",
   "id": "7463432a-c1b9-4574-81a1-420a99be51a1",
   "metadata": {},
   "source": [
    "On réalise maintenant l'analyse en composantes principales."
   ]
  },
  {
   "cell_type": "code",
   "execution_count": 29,
   "id": "86aa195a-891c-4338-b726-514a2b78241f",
   "metadata": {},
   "outputs": [],
   "source": [
    "from sklearn.decomposition import PCA\n",
    "\n",
    "# Appliquer la PCA\n",
    "pca = PCA()\n",
    "composantes_principales = pca.fit(EEC_COV).components_"
   ]
  },
  {
   "cell_type": "code",
   "execution_count": 31,
   "id": "50c96840-b4a6-4ab6-9ca7-0931631bd34e",
   "metadata": {},
   "outputs": [
    {
     "data": {
      "image/png": "[encoded data removed]",
      "text/plain": [
       "<Figure size 640x480 with 1 Axes>"
      ]
     },
     "metadata": {},
     "output_type": "display_data"
    }
   ],
   "source": [
    "# Graphique des valeurs propres\n",
    "valeurs_propres = pca.explained_variance_ratio_\n",
    "plt.bar(range(1, len(valeurs_propres) + 1), valeurs_propres)\n",
    "plt.xlabel('Composantes principales')\n",
    "plt.ylabel('Variance expliquée')\n",
    "plt.title('Graphique des valeurs propres (Scree Plot)')\n",
    "plt.show()"
   ]
  },
  {
   "cell_type": "markdown",
   "id": "a8636d15-63b5-4390-a441-c20846a6073b",
   "metadata": {},
   "source": [
    "On remarque que la première composante est très \"explicative\" de la répartition de nos individus selon ces variables."
   ]
  },
  {
   "cell_type": "code",
   "execution_count": 32,
   "id": "1bec0676-2e89-40dc-bc8f-d37cafd49346",
   "metadata": {},
   "outputs": [
    {
     "data": {
      "image/png": "[encoded data removed]",
      "text/plain": [
       "<Figure size 1000x600 with 1 Axes>"
      ]
     },
     "metadata": {},
     "output_type": "display_data"
    }
   ],
   "source": [
    "# Sélectionner les deux premiers vecteurs propres\n",
    "first_pc = composantes_principales[:, 0]\n",
    "second_pc = composantes_principales[:, 1]\n",
    "variable_names = EEC_COV.columns.tolist()\n",
    "\n",
    "# Tracer le graphique de dispersion des deux premières composantes principales\n",
    "plt.figure(figsize=(10, 6))\n",
    "plt.scatter(first_pc, second_pc)\n",
    "\n",
    "# Annoter chaque point avec le nom de la variable\n",
    "for i, variable in enumerate(variable_names):\n",
    "    plt.annotate(f'Var {variable}', (first_pc[i], second_pc[i]), color='r', rotation=45)\n",
    "\n",
    "# Ajouter des labels et un titre au graphique\n",
    "plt.title('Contribution des variables aux deux premières composantes principales (Matrice de Covariance)')\n",
    "plt.xlabel('Première Composante Principale')\n",
    "plt.ylabel('Deuxième Composante Principale')\n",
    "\n",
    "# Afficher le graphique\n",
    "plt.show()"
   ]
  },
  {
   "cell_type": "markdown",
   "id": "55078b90",
   "metadata": {},
   "source": [
    "# Modélisation"
   ]
  },
  {
   "cell_type": "markdown",
   "id": "e908bc11",
   "metadata": {
    "jp-MarkdownHeadingCollapsed": true
   },
   "source": [
    "## Partie I: Preparation des données (preprocessing)"
   ]
  },
  {
   "cell_type": "code",
   "execution_count": null,
   "id": "c0cc90cc",
   "metadata": {},
   "outputs": [],
   "source": [
    "# On choisit un set de features qui ne comprend que données sociodémographiques, géographiques associées à l'individu\n",
    "# et au ménage étudié + qui sont disponibles sur les deux années étudiées\n",
    "\n",
    "# label -> ACTEU\n",
    "\n",
    "# features à inclure dans le modèle -> AGE3 ;  AGE5 ; ANNEE ;TRIM ;  CATAU2010R ; COURED ;\n",
    "# DIP11; ENFRED ; METRODOM ; NFRRED ; SEXE ; TYPMEN7 \n",
    "\n",
    "# Il faut supprimer CSTOT /  CSTOTPRM / CSTOTR puisque ce sont des variables après filtre sur actifs/ inactifs\n",
    "\n",
    "# Rajouter CSA + CSP ? Catégorie d'emploi mais dispo pour tout le monde\n",
    "\n",
    "# Meme si les variables sont colinéaires (AGE3, AGE5), on peut les garder et faire en sorte que le predicteur\n",
    "# choisisse la plus pertinente\n",
    "\n",
    "# Je pense que le problème principal vient du fait qu'on a en fait trop peu de variable, et donc rien qui ne puisse être vraiment pertinent en fait\n",
    "#c'est pour cela que les algorithmes ne trouvent rien je pense.\n",
    "\n",
    "list_var_selected = [\"ACTEU\",\"ANNEE\" ,\"TRIM\", \"AGE3\" ,  \"AGE5\"  , \"CATAU2010R\" ,\n",
    "\"COURED\" ,\"CSA\" ,\"CSP\" , \"DIP11\",\"ENFRED\" , \"METRODOM\" , \"NFRRED\" , \"SEXE\" , \"TYPMEN7\"]\n",
    "\n",
    "EEC_2019 = EEC_2019[list_var_selected]\n",
    "EEC_2020 = EEC_2020[list_var_selected]\n",
    "\n",
    "list_var = list(EEC_2019.columns.values)\n",
    "print(list_var)"
   ]
  },
  {
   "cell_type": "markdown",
   "id": "aae39d26",
   "metadata": {},
   "source": [
    "### Une série de recodages pour les PCS"
   ]
  },
  {
   "cell_type": "code",
   "execution_count": null,
   "id": "d7c51d03",
   "metadata": {},
   "outputs": [],
   "source": [
    "#Création d'une variable de PCS avec la PCS des actifs occupés et l'ancienne des inactifs et chômeurs.\n",
    "non_nan_csp = EEC_2019['CSP'].notna()\n",
    "non_nan_csa = EEC_2019['CSA'].notna()\n",
    "\n",
    "# Vérifiez si les variables sont renseignées pour les mêmes individus\n",
    "positions_differentes = (non_nan_csp != non_nan_csa).any()\n",
    "\n",
    "# Affichez le résultat\n",
    "if positions_differentes:\n",
    "    print(\"Les variables ne sont pas renseignées pour les mêmes individus\")\n",
    "else:\n",
    "    print(\"Les variables sont renseignées pour les mêmes individus\")"
   ]
  },
  {
   "cell_type": "code",
   "execution_count": null,
   "id": "56b2a4a0",
   "metadata": {},
   "outputs": [],
   "source": [
    "#On peut donc sommer les deux colonnes\n",
    "EEC_2019['PCS'] = EEC_2019['CSA'].add(EEC_2019['CSP'], fill_value=0)\n",
    "\n",
    "pcs_manquante = EEC_2019['PCS'].isna().sum()\n",
    "\n",
    "print(pcs_manquante)\n",
    "#1260 valeurs manquantes, donc assez peu"
   ]
  },
  {
   "cell_type": "code",
   "execution_count": null,
   "id": "9acaa6cf",
   "metadata": {},
   "outputs": [],
   "source": [
    "#Idem pour EEC_2020\n",
    "#Création d'une variable de PCS avec la PCS des actifs occupés et l'ancienne des inactifs et chômeurs.\n",
    "non_nan_csp = EEC_2020['CSP'].notna()\n",
    "non_nan_csa = EEC_2020['CSA'].notna()\n",
    "\n",
    "# Vérifiez si les variables sont renseignées pour les mêmes individus\n",
    "positions_differentes = (non_nan_csp != non_nan_csa).any()\n",
    "\n",
    "# Affichez le résultat\n",
    "if positions_differentes:\n",
    "    print(\"Les variables ne sont pas renseignées pour les mêmes individus\")\n",
    "else:\n",
    "    print(\"Les variables sont renseignées pour les mêmes individus\")\n",
    "\n",
    "#On peut donc sommer les deux colonnes\n",
    "EEC_2020['PCS'] = EEC_2020['CSA'].add(EEC_2020['CSP'], fill_value=0)\n",
    "\n",
    "pcs_manquante = EEC_2020['PCS'].isna().sum()\n",
    "\n",
    "print(pcs_manquante)\n",
    "#864 valeurs manquantes, donc très peu"
   ]
  },
  {
   "cell_type": "code",
   "execution_count": null,
   "id": "4f20cd94",
   "metadata": {},
   "outputs": [],
   "source": [
    "EEC_2019 = EEC_2019.drop(['CSA', 'CSP'], axis=1)\n",
    "EEC_2020 = EEC_2020.drop(['CSA', 'CSP'], axis=1)"
   ]
  },
  {
   "cell_type": "markdown",
   "id": "8dfca855",
   "metadata": {},
   "source": [
    "### Gestion des NAN"
   ]
  },
  {
   "cell_type": "code",
   "execution_count": null,
   "id": "bae9d29a",
   "metadata": {},
   "outputs": [],
   "source": [
    "#Comptons le nombre de NaN dans nos df\n",
    "nombre_lignes_nan_2019 = EEC_2019.isnull().any(axis=1).sum()\n",
    "nombre_lignes_nan_2020 = EEC_2020.isnull().any(axis=1).sum()\n",
    "print(nombre_lignes_nan_2019)\n",
    "print(nombre_lignes_nan_2020)"
   ]
  },
  {
   "cell_type": "code",
   "execution_count": null,
   "id": "0c3ed031",
   "metadata": {},
   "outputs": [],
   "source": [
    "#Isolons nos observations avec des NAN\n",
    "EEC_2019_with_nulls = EEC_2019[EEC_2019.isna().any(axis=1)]\n",
    "EEC_2020_with_nulls = EEC_2020[EEC_2020.isna().any(axis=1)]"
   ]
  },
  {
   "cell_type": "code",
   "execution_count": null,
   "id": "5497d77a",
   "metadata": {},
   "outputs": [],
   "source": [
    "print(EEC_2019_with_nulls.shape)\n",
    "print(EEC_2020_with_nulls.shape)"
   ]
  },
  {
   "cell_type": "code",
   "execution_count": null,
   "id": "c8a8d694",
   "metadata": {},
   "outputs": [],
   "source": [
    "EEC_2019_with_nulls['total_nan'] = EEC_2019_with_nulls.isna().sum(axis=1)"
   ]
  },
  {
   "cell_type": "code",
   "execution_count": null,
   "id": "71a9df98",
   "metadata": {},
   "outputs": [],
   "source": [
    "print(EEC_2019_with_nulls['total_nan'].mean())\n",
    "#En moyenne, 1,79 valeurs manquantes, sur 14 variables"
   ]
  },
  {
   "cell_type": "code",
   "execution_count": null,
   "id": "09b026c0",
   "metadata": {},
   "outputs": [],
   "source": [
    "nan_count_variable_2019 = EEC_2019_with_nulls.isna().sum()\n",
    "print(nan_count_variable_2019)\n",
    "nan_percentage_variable_2019 = (EEC_2019_with_nulls.isna().sum() / len(EEC_2019_with_nulls)) * 100\n",
    "print(nan_percentage_variable_2019)\n",
    "#A chaque fois il nous manque donc le diplôme, et dans environ un tiers des cas la PCS recodée et la variable d'intérêt, un cinquième des nationalités"
   ]
  },
  {
   "cell_type": "code",
   "execution_count": null,
   "id": "35fdb014",
   "metadata": {},
   "outputs": [],
   "source": [
    "EEC_2020_with_nulls['total_nan'] = EEC_2020_with_nulls.isna().sum(axis=1)\n",
    "print(EEC_2020_with_nulls['total_nan'].mean())\n",
    "#En moyenne, 1,67 valeurs manquantes, sur 14 variables\n",
    "nan_count_variable_2020 = EEC_2020_with_nulls.isna().sum()\n",
    "print(nan_count_variable_2020)\n",
    "nan_percentage_variable_2020 = (EEC_2020_with_nulls.isna().sum() / len(EEC_2020_with_nulls)) * 100\n",
    "print(nan_percentage_variable_2020)\n",
    "#On retrouve des choses très semblables sur 2020, avec encore une fois surtout le diplôme qui manque"
   ]
  },
  {
   "cell_type": "code",
   "execution_count": null,
   "id": "13572ddf",
   "metadata": {},
   "outputs": [],
   "source": [
    "#Commençons par supprimer les observations pour lesquelles notre variable d'intérêt n'est pas renseignée --> inutilisables\n",
    "EEC_2019_with_nulls_non_ACTEU = EEC_2019_with_nulls.dropna(subset=['ACTEU'])\n",
    "EEC_2019_with_nulls_non_ACTEU['total_nan'] = EEC_2019_with_nulls_non_ACTEU.isna().sum(axis=1)\n",
    "print(EEC_2019_with_nulls_non_ACTEU['total_nan'].mean())\n",
    "#En moyenne, 1,01 valeurs manquantes, sur 13 variables\n",
    "nan_count_variable_2019_non_ACTEU = EEC_2019_with_nulls_non_ACTEU.isna().sum()\n",
    "print(nan_count_variable_2019_non_ACTEU)\n",
    "nan_percentage_variable_2019_non_ACTEU = (EEC_2019_with_nulls_non_ACTEU.isna().sum() / len(EEC_2019_with_nulls_non_ACTEU)) * 100\n",
    "print(nan_percentage_variable_2019_non_ACTEU)\n",
    "#A part une poignée de nationalités, il ne manque plus que le diplôme, pour tout le monde."
   ]
  },
  {
   "cell_type": "code",
   "execution_count": null,
   "id": "84794012",
   "metadata": {},
   "outputs": [],
   "source": [
    "#Commençons par supprimer les observations pour lesquelles notre variable d'intérêt n'est pas renseignée --> inutilisables\n",
    "EEC_2020_with_nulls_non_ACTEU = EEC_2020_with_nulls.dropna(subset=['ACTEU'])\n",
    "EEC_2020_with_nulls_non_ACTEU['total_nan'] = EEC_2020_with_nulls_non_ACTEU.isna().sum(axis=1)\n",
    "print(EEC_2020_with_nulls_non_ACTEU['total_nan'].mean())\n",
    "#En moyenne, 1,01 valeurs manquantes, sur 13 variables\n",
    "nan_count_variable_2020_non_ACTEU = EEC_2020_with_nulls_non_ACTEU.isna().sum()\n",
    "print(nan_count_variable_2020_non_ACTEU)\n",
    "nan_percentage_variable_2020_non_ACTEU = (EEC_2020_with_nulls_non_ACTEU.isna().sum() / len(EEC_2020_with_nulls_non_ACTEU)) * 100\n",
    "print(nan_percentage_variable_2020_non_ACTEU)\n",
    "#A part une poignée de nationalités, il ne manque plus que le diplôme, pour tout le monde."
   ]
  },
  {
   "cell_type": "code",
   "execution_count": null,
   "id": "27221af1",
   "metadata": {},
   "outputs": [],
   "source": [
    "# Il y a très peu de valeurs manquantes dans les variables, 4205 variables concernées en 2019, 3379 en 2020.\n",
    "#Si on supprime d'office les observations pour lesquelles manquent la variable d'intérêt, on tombe à 2945 et 2515, et c'est systématiquement le diplôme qui manque\n",
    "#On choisit donc de les supprimer de la base pour le moment\n",
    "print(EEC_2019.shape)\n",
    "print(EEC_2020.shape)\n",
    "EEC_2019 = EEC_2019.dropna() \n",
    "EEC_2020 = EEC_2020.dropna() \n",
    "print(EEC_2019.shape)\n",
    "print(EEC_2020.shape)"
   ]
  },
  {
   "cell_type": "markdown",
   "id": "3317cc1b",
   "metadata": {
    "jp-MarkdownHeadingCollapsed": true
   },
   "source": [
    "### Suite et fin du préprocessing"
   ]
  },
  {
   "cell_type": "code",
   "execution_count": null,
   "id": "ff0daedb",
   "metadata": {},
   "outputs": [],
   "source": [
    "# Converti l'ensemble des variables catégorielles en dummies\n",
    "# Oui oui faut le faire, par contre pour les variables qui sont DEJA des dummies, c'est pas la peine, faut juste les recoder en 0 et 1\n",
    "EEC_2019 = pd.get_dummies(EEC_2019, columns=[\"AGE3\" ,  \"AGE5\"  , \"CATAU2010R\" ,\n",
    "\"PCS\", \"DIP11\", \"NFRRED\" , \"TYPMEN7\"])\n",
    "EEC_2020 = pd.get_dummies(EEC_2020, columns=[\"AGE3\" ,  \"AGE5\"  , \"CATAU2010R\" ,\n",
    "\"PCS\" , \"DIP11\", \"NFRRED\" , \"TYPMEN7\"])\n",
    "\n",
    "#RECODAGE variables binaires (dummies)\n",
    "\n",
    "EEC_2019['EMPLOI'] = EEC_2019['ACTEU'].apply(lambda x: x == 1)\n",
    "EEC_2020['EMPLOI'] = EEC_2020['ACTEU'].apply(lambda x: x == 1)\n",
    "\n",
    "EEC_2019['ACTIF'] = EEC_2019['ACTEU'].apply(lambda x: (x == 1) or (x == 2))\n",
    "EEC_2020['ACTIF'] = EEC_2020['ACTEU'].apply(lambda x: (x == 1) or (x == 2))\n",
    "\n",
    "EEC_2019['FEMME'] = EEC_2019['SEXE'].apply(lambda x: x == 2)\n",
    "EEC_2020['FEMME'] = EEC_2020['SEXE'].apply(lambda x: x == 2)\n",
    "\n",
    "EEC_2019['COUPLE'] = EEC_2019['COURED'].apply(lambda x: x == 2)\n",
    "EEC_2020['COUPLE'] = EEC_2020['COURED'].apply(lambda x: x == 2)\n",
    "\n",
    "EEC_2019['ENFANT'] = EEC_2019['ENFRED'].apply(lambda x: x == 2)\n",
    "EEC_2020['ENFANT'] = EEC_2020['ENFRED'].apply(lambda x: x == 2)\n",
    "\n",
    "\n",
    "EEC_2019['DOM'] = EEC_2019['METRODOM'].apply(lambda x: x == 2)\n",
    "EEC_2020['DOM'] = EEC_2020['METRODOM'].apply(lambda x: x == 2)\n",
    "\n",
    "#Vire les anciennes\n",
    "EEC_2019 = EEC_2019.drop(['METRODOM', 'ENFRED' , 'COURED', 'SEXE',\"ACTEU\"], axis=1)\n",
    "EEC_2020 = EEC_2020.drop(['METRODOM', 'ENFRED' , 'COURED', 'SEXE',\"ACTEU\"], axis=1)\n",
    "\n",
    "# 74 variables\n",
    "print(EEC_2019.shape)"
   ]
  },
  {
   "cell_type": "code",
   "execution_count": null,
   "id": "95cb2351",
   "metadata": {},
   "outputs": [],
   "source": [
    "EEC_2019_subsample = EEC_2019.sample(n=10000, random_state=3) "
   ]
  },
  {
   "cell_type": "code",
   "execution_count": null,
   "id": "e86693e7",
   "metadata": {},
   "outputs": [],
   "source": [
    "# Balanced sample avec prediction emploi\n",
    "proportion_values = EEC_2019_subsample['EMPLOI'].value_counts(normalize=True)\n",
    "print(proportion_values)"
   ]
  },
  {
   "cell_type": "code",
   "execution_count": null,
   "id": "d73abf51",
   "metadata": {},
   "outputs": [],
   "source": [
    "# Description d'une feature pour check booléen\n",
    "variable_description = EEC_2019_subsample[\"FEMME\"].describe()\n",
    "\n",
    "print(variable_description)"
   ]
  },
  {
   "cell_type": "code",
   "execution_count": null,
   "id": "79b8b718",
   "metadata": {},
   "outputs": [],
   "source": [
    "# On transforme nos dataframes en array car sklearn est bien adapté pour travailler sur ce type de données\n",
    "\n",
    "# Array contentant l'ensemble des variables explicatives (on exclut donc CHOMAGE/ANNEE/TRIM)\n",
    "X = np.array(EEC_2019_subsample.drop(columns=[\"ACTIF\",\"EMPLOI\",\"ANNEE\", \"TRIM\"]))\n",
    "print(X.shape)\n",
    "\n",
    "# Array contentant la variable expliquée\n",
    "y = np.array(EEC_2019_subsample[\"EMPLOI\"])\n",
    "print(y.shape)\n",
    "\n",
    "\n",
    "print(X[:10])\n",
    "print(y[:10])\n"
   ]
  },
  {
   "cell_type": "code",
   "execution_count": null,
   "id": "1490bdea",
   "metadata": {},
   "outputs": [],
   "source": [
    "# Choisit un set de variables qui ne comprend que données sociodémographiques, géographiques associées à l'individu\n",
    "# et au ménage étudié + qui soit disponible sur les deux années étudiées\n",
    "\n",
    "# Var d'interet -> ACTEU\n",
    "\n",
    "# Var explicatives : AGE3 ;  AGE5 ; ANNEE ;TRIM ;  CATAU2010R ; COURED ; CSTOT (pour avoir actifs et inactifs) ;CSTOTR ;\n",
    "# CSTOTPRM ; DIP11; ENFRED ; METRODOM ; NFRRED ; SEXE ; TYPMEN7 \n",
    "\n",
    "# USE? -> AIDFAM , CHPUB?? (Employeur de la profession principale?), EXTRIAN? (pondération)\n",
    "\n",
    "# Meme si les variables sont colinéaires (AGE3, AGE5), on peut les garder et faire en sorte que le predicteur\n",
    "# choisisse la plus pertinente\n",
    "\n",
    "list_var_selected = [\"ACTEU\",\"ANNEE\" ,\"TRIM\", \"AGE3\" ,  \"AGE5\"  , \"CATAU2010R\" ,\n",
    "\"COURED\" ,\"CSTOT\" ,\"CSTOTR\" ,\"CSTOTPRM\" , \"DIP11\",\"ENFRED\" , \"METRODOM\" , \"NFRRED\" , \"SEXE\" , \"TYPMEN7\"]\n",
    "\n",
    "EEC_2019 = EEC_2019[list_var_selected]\n",
    "EEC_2020 = EEC_2020[list_var_selected]\n",
    "\n",
    "list_var = list(EEC_2019.columns.values)\n",
    "print(list_var)\n",
    "\n",
    "EEC_2019 = EEC_2019[EEC_2019['TRIM'] ==1]\n",
    "EEC_2020 = EEC_2020[EEC_2020['TRIM'] ==4]\n",
    "\n",
    "# This method does not remove any observations here which indicates that there isn't any missing values in any variables\n",
    "EEC_2019.dropna() \n",
    "EEC_2020.dropna() \n",
    "\n",
    "EEC_2019_subsample = EEC_2019.sample(n=1000, random_state=3) \n",
    "\n"
   ]
  },
  {
   "cell_type": "code",
   "execution_count": null,
   "id": "3851369e",
   "metadata": {},
   "outputs": [],
   "source": [
    "import numpy as np\n",
    "import matplotlib.pyplot as plt\n",
    "\n",
    "X = np.array(EEC_2019_subsample.drop(columns=[\"ACTEU\",\"ANNEE\", \"TRIM\"]))\n",
    "X.shape\n",
    "n_features = X.shape[1]\n",
    "\n",
    "y = np.array(EEC_2019_subsample[\"ACTEU\"])\n",
    "# convert \"Chomage\" in 1 and the other labels (here, \"Inactif\", \"Actif occupé\") into 1\n",
    "y = np.where(y==2, 1, 0)\n",
    "y.shape\n",
    "\n",
    "# ATTENTION -> TRANSFORMATION EN ARRAY SEMBLE INTRODUIRE DES NA? PAS BCP MAIS COMPRENDRE PQ\n"
   ]
  },
  {
   "cell_type": "code",
   "execution_count": null,
   "id": "4e9b3fb5",
   "metadata": {},
   "outputs": [],
   "source": [
    "from sklearn.model_selection import train_test_split\n",
    "X_train, X_test, y_train, y_test = train_test_split(X, \n",
    "                                                    y, \n",
    "                                                    test_size=.2, random_state=3)"
   ]
  },
  {
   "cell_type": "code",
   "execution_count": null,
   "id": "9b112285",
   "metadata": {},
   "outputs": [],
   "source": [
    "from sklearn.preprocessing import StandardScaler\n",
    "\n",
    "std_scale = StandardScaler().fit(X_train)\n",
    "X_train_scaled = std_scale.transform(X_train)\n",
    "X_test_scaled = std_scale.transform(X_test)\n",
    "\n",
    "print(X_test_scaled.shape)\n",
    "\n",
    "# Identify rows with NaN values\n",
    "nan_rows_train = np.isnan(X_train_scaled).any(axis=1)\n",
    "# Remove rows with NaN values from both X_train_scaled and y_train\n",
    "X_train_scaled = X_train_scaled[~nan_rows_train]\n",
    "y_train = y_train[~nan_rows_train]\n",
    "\n",
    "# Repeat the process for X_test_scaled and y_test\n",
    "nan_rows_test = np.isnan(X_test_scaled).any(axis=1)\n",
    "X_test_scaled = X_test_scaled[~nan_rows_test]\n",
    "y_test = y_test[~nan_rows_test]\n",
    "\n",
    "print(X_test_scaled.shape)\n",
    "\n",
    "# Suppression d'un nombre très réduit d'observations"
   ]
  },
  {
   "cell_type": "markdown",
   "id": "db77f2b1",
   "metadata": {
    "jp-MarkdownHeadingCollapsed": true
   },
   "source": [
    "## Partie II : Support Vector Machine"
   ]
  },
  {
   "cell_type": "code",
   "execution_count": null,
   "id": "bc5ee874",
   "metadata": {},
   "outputs": [],
   "source": [
    "from sklearn.svm import SVC\n",
    "from sklearn.metrics import confusion_matrix\n",
    "from sklearn.metrics import ConfusionMatrixDisplay\n",
    "from sklearn.metrics import f1_score\n",
    "\n",
    "\n",
    "acc_train, acc_test = list(), list()\n",
    "f1_train, f1_test = [], []\n",
    "\n",
    "C_range = np.linspace(0.1, 20, 50)\n",
    "for param in C_range:\n",
    "    clf = SVC( C=param, random_state=3)\n",
    "    clf.fit(X_train, y_train)\n",
    "    acc_train.append(clf.score(X_train, y_train))\n",
    "    acc_test.append(clf.score(X_test, y_test))\n",
    "    \n",
    "    y_pred_train = clf.predict(X_train)\n",
    "    f1_train.append(f1_score(y_train, y_pred_train, average='binary'))  \n",
    "    \n",
    "    y_pred_test = clf.predict(X_test)\n",
    "    f1_test.append(f1_score(y_test, y_pred_test, average='binary'))\n"
   ]
  },
  {
   "cell_type": "code",
   "execution_count": null,
   "id": "007a0a1e",
   "metadata": {},
   "outputs": [],
   "source": [
    "plt.figure(figsize=(10, 5))\n",
    "\n",
    "plt.plot(C_range, f1_train, label='F1 score train', lw=6)\n",
    "plt.plot(C_range, f1_test, label='F1 score test', lw=6)\n",
    "\n",
    "plt.plot(C_range, acc_train, label='Accuracy train ', lw=6)\n",
    "plt.plot(C_range, acc_test, label='Accuracy test', lw=6)\n",
    "\n",
    "plt.legend(loc='best', fontsize=12)\n",
    "\n",
    "plt.xlabel(\"C\", fontweight=\"bold\", fontsize=20)\n",
    "plt.ylabel(\"Performance\", fontweight=\"bold\", fontsize=20)\n",
    "plt.xticks(fontweight=\"bold\", fontsize=15)\n",
    "plt.yticks(fontweight=\"bold\", fontsize=15)\n",
    "plt.tight_layout()\n",
    "\n",
    "plt.show()\n"
   ]
  },
  {
   "cell_type": "code",
   "execution_count": null,
   "id": "8414be22",
   "metadata": {},
   "outputs": [],
   "source": [
    "from sklearn.model_selection import GridSearchCV\n",
    "\n",
    "params= { 'C':np.linspace(0.001, 5, 50) }\n",
    "gs = GridSearchCV(estimator=SVC( C=params, random_state=3), \n",
    "                   param_grid=params,\n",
    "                   cv=5)\n",
    "\n",
    "gs.fit(X_train, y_train)\n",
    "\n",
    "#Calcule accuracy du meilleur model trouvé par grid search sur le sample choisi\n",
    "print(gs.best_params_)\n",
    "print(gs.score(X_train, y_train))\n",
    "print(gs.score(X_test, y_test))"
   ]
  },
  {
   "cell_type": "code",
   "execution_count": null,
   "id": "4277054d",
   "metadata": {},
   "outputs": [],
   "source": [
    "clf = SVC( C=gs.best_params_['C'], random_state=3)\n",
    "clf.fit(X_train, y_train)\n",
    "y_pred = clf.predict(X_test)\n",
    "\n",
    "cm= confusion_matrix(y_test, y_pred)\n",
    "disp = ConfusionMatrixDisplay(\n",
    "            confusion_matrix=cm,\n",
    "            display_labels=clf.classes_\n",
    "       )\n",
    "disp.plot()"
   ]
  },
  {
   "cell_type": "markdown",
   "id": "97acc4ec",
   "metadata": {
    "jp-MarkdownHeadingCollapsed": true
   },
   "source": [
    "## Partie III - Regression logistique"
   ]
  },
  {
   "cell_type": "code",
   "execution_count": null,
   "id": "d9e0cddf",
   "metadata": {},
   "outputs": [],
   "source": [
    "from sklearn.metrics import f1_score\n",
    "from sklearn.linear_model import LogisticRegression\n",
    "\n",
    "acc_train, acc_test = list(), list()\n",
    "f1_train, f1_test = [], []\n",
    "\n",
    "                        \n",
    "C_range = np.linspace(0.1, 20, 50)\n",
    "\n",
    "for param in C_range:\n",
    "    clf = LogisticRegression(C=param,random_state=3, penalty=\"l1\",solver='liblinear' )\n",
    "    clf.fit(X_train, y_train)\n",
    "    acc_train.append(clf.score(X_train, y_train))\n",
    "    acc_test.append(clf.score(X_test, y_test))\n",
    "    \n",
    "    y_pred_train = clf.predict(X_train)\n",
    "    f1_train.append(f1_score(y_train, y_pred_train, average='binary'))  \n",
    "    \n",
    "    y_pred_test = clf.predict(X_test)\n",
    "    f1_test.append(f1_score(y_test, y_pred_test, average='binary'))\n",
    "    \n",
    "plt.figure(figsize=(10, 5))\n",
    "\n",
    "plt.plot(C_range, f1_train, label='F1 score train', lw=6)\n",
    "plt.plot(C_range, f1_test, label='F1 score test', lw=6)\n",
    "\n",
    "plt.plot(C_range, acc_train, label='Accuracy train ', lw=6)\n",
    "plt.plot(C_range, acc_test, label='Accuracy test', lw=6)\n",
    "\n",
    "plt.legend(loc='best', fontsize=12)\n",
    "\n",
    "plt.xlabel(\"C\", fontweight=\"bold\", fontsize=20)\n",
    "plt.ylabel(\"Performance\", fontweight=\"bold\", fontsize=20)\n",
    "plt.xticks(fontweight=\"bold\", fontsize=15)\n",
    "plt.yticks(fontweight=\"bold\", fontsize=15)\n",
    "plt.tight_layout()\n",
    "\n",
    "plt.show()\n",
    "\n",
    "#TOUJOURS GRAPH UN PEU BIZARRE -> PQ PERFORMANCE MEILLEURE SUR TEST QUE SUR TRAIN???\n",
    "# Pas de diminution de la performance quand regularisation diminue?"
   ]
  },
  {
   "cell_type": "code",
   "execution_count": null,
   "id": "92e751c4",
   "metadata": {},
   "outputs": [],
   "source": [
    "# Processus de cross-validation qui découpe notre échantillon en 5 et détermine le paramètre de régularisation optimal\n",
    "# ATTENTION -> gain de selection des paramètres via cross validation est marginal par rapport à la selection des bonnes variables \n",
    "# On utilise GridSearch ici parce qu'on veut combiner plusieurs paramètres\n",
    "\n",
    "#  By default, scikit-learn's GridSearchCV does not select the most parsimonious model (fewer features)\n",
    "# when multiple models have equal scores. GridSearchCV uses the mean cross-validated score to select\n",
    "# the best model based on the specified scoring metric.\n",
    "# If there are multiple models with the same highest mean score, GridSearchCV selects\n",
    "# the one with the smallest value of the parameters.\n",
    "\n",
    "# If we want to select the most parsimonious model among those with equal scores,\n",
    "# you may need to implement a custom scoring function\n",
    "\n",
    "params= { 'C':np.linspace(0.001, 5, 50) }\n",
    "gs = GridSearchCV(estimator=LogisticRegression(random_state=3, penalty =\"l1\",  solver='liblinear'), \n",
    "                   param_grid=params,\n",
    "                   cv=5)\n",
    "\n",
    "gs.fit(X_train, y_train)\n",
    "\n",
    "results_df = pd.DataFrame(gs.cv_results_)\n",
    "print(results_df[['params', 'mean_test_score', 'std_test_score']])"
   ]
  },
  {
   "cell_type": "code",
   "execution_count": null,
   "id": "3cda6e4c",
   "metadata": {},
   "outputs": [],
   "source": [
    "# On refait meme process en jouant en + sur le critère de penalty et le tol\n",
    "# tol = tolerance for stopping criteria. It defines the stopping criterion for the solver to converge to a solution.\n",
    "\n",
    "params= { 'C':np.linspace(0.001, 5, 50),'tol': [0.01, 0.1, 1, 10] }\n",
    "\n",
    "\n",
    "gs = GridSearchCV(estimator=LogisticRegression(random_state=3, penalty =\"l1\",  solver='liblinear'), \n",
    "                   param_grid=params,\n",
    "                   cv=5)\n",
    "\n",
    "gs.fit(X_train, y_train)\n",
    "\n",
    "# calcule accuracy du meilleur model trouvé par grid search sur le sample choisi\n",
    "print(gs.best_params_)\n",
    "print(gs.score(X_train, y_train))\n",
    "print(gs.score(X_test, y_test))"
   ]
  },
  {
   "cell_type": "code",
   "execution_count": null,
   "id": "50e7d799",
   "metadata": {},
   "outputs": [],
   "source": [
    "clf = LogisticRegression( tol=gs.best_params_['tol'], C=gs.best_params_['C'], random_state=3,\n",
    "                         penalty =\"l1\", solver='liblinear')\n",
    "\n",
    "clf.fit(X_train, y_train)\n",
    "y_pred = clf.predict(X_test)\n",
    "\n",
    "\n",
    "cm= confusion_matrix(y_test, y_pred)\n",
    "disp = ConfusionMatrixDisplay(\n",
    "            confusion_matrix=cm,\n",
    "            display_labels=clf.classes_\n",
    "       )\n",
    "disp.plot()"
   ]
  },
  {
   "cell_type": "code",
   "execution_count": null,
   "id": "fa4c4977",
   "metadata": {},
   "outputs": [],
   "source": [
    "num_variables = np.sum(np.abs(clf.coef_) > 1e-10)\n",
    "print(\"Number of variables considered:\", num_variables)\n",
    "#All variables are kept "
   ]
  },
  {
   "cell_type": "code",
   "execution_count": null,
   "id": "87877ca0",
   "metadata": {},
   "outputs": [],
   "source": [
    "from sklearn.model_selection import GridSearchCV\n",
    "import warnings\n",
    "from sklearn.linear_model import LogisticRegression\n",
    "\n",
    "warnings.filterwarnings(\"ignore\", category=FutureWarning)\n",
    "\n",
    "params= { 'C':[ 0.000001,0.001, 50]}\n",
    "\n",
    "# j'essaie des valeurs de C très faible pour régulariser un maximum\n",
    "\n",
    "lr =LogisticRegression(penalty='l2', dual=False, tol=0.0001, C=1.0, fit_intercept=True, \n",
    "                   intercept_scaling=1, class_weight=None, random_state=3, solver='liblinear',\n",
    "                   max_iter=100, multi_class='auto', verbose=0, warm_start=False, n_jobs=None,\n",
    "                   l1_ratio=None)\n",
    "\n",
    "# On découpe notre échantillon en 5 pour la cross-validation \n",
    "\n",
    "gs = GridSearchCV(estimator=lr, \n",
    "                   param_grid=params,\n",
    "                   cv=5)\n",
    "\n",
    "gs.fit(X_train_scaled, y_train)\n",
    "\n",
    "print(gs.best_params_)\n",
    "print(gs.score(X_train_scaled, y_train))\n",
    "print(gs.score(X_test_scaled, y_test))"
   ]
  },
  {
   "cell_type": "code",
   "execution_count": null,
   "id": "f348df5b",
   "metadata": {},
   "outputs": [],
   "source": [
    "plt.figure(figsize=(10, 5))\n",
    "\n",
    "plt.plot(C_range, acc_train, label='train set', lw=4)\n",
    "plt.plot(C_range, acc_test, label='test set', lw=4)\n",
    "\n",
    "plt.legend(loc='best', fontsize=12)\n",
    "\n",
    "plt.xlabel(\"C\", fontweight=\"bold\", fontsize=20)\n",
    "plt.ylabel(\"Performance\", fontweight=\"bold\", fontsize=20)\n",
    "plt.xticks(fontweight=\"bold\", fontsize=15)\n",
    "plt.yticks(fontweight=\"bold\", fontsize=15)\n",
    "plt.tight_layout()\n",
    "\n",
    "plt.show()\n"
   ]
  },
  {
   "cell_type": "markdown",
   "id": "471cf014",
   "metadata": {
    "jp-MarkdownHeadingCollapsed": true
   },
   "source": [
    "## Partie IV : Selections de variables"
   ]
  },
  {
   "cell_type": "code",
   "execution_count": null,
   "id": "dd54fdc9",
   "metadata": {},
   "outputs": [],
   "source": [
    "from sklearn.linear_model import LassoCV\n",
    "from sklearn.feature_selection import SelectFromModel\n",
    "\n",
    "#  Lasso linear model with cross-validated selection of the regularization parameter (alpha) to find the optimal\n",
    "clf = LassoCV()\n",
    "clf.fit(X, y)\n",
    "\n",
    "# Je m'impose un maximum de 10 features selectionnées\n",
    "sfm = SelectFromModel(clf, prefit=False, max_features=10)\n",
    "\n",
    "# X transform contient un nombre réduit de caractéristiques basé sur la sélection\n",
    "# des caractéristiques par régression Lasso\n",
    "sfm.fit(X,y)\n",
    "X_transform = sfm.transform(X)\n",
    "print(\"Transformed data shape:\", X_transform.shape)\n",
    "print(\"Original data shape:\", X.shape)"
   ]
  },
  {
   "cell_type": "code",
   "execution_count": null,
   "id": "95ac1d4d",
   "metadata": {},
   "outputs": [],
   "source": [
    "from sklearn.linear_model import LogisticRegression\n",
    "from sklearn.model_selection import train_test_split\n",
    "from sklearn.model_selection import GridSearchCV\n",
    "\n",
    "\n",
    "X_train_2, X_test_2, y_train_2, y_test_2 = train_test_split(X_transform, \n",
    "                                                    y, \n",
    "                                                    test_size=.2, random_state=3)\n",
    "\n",
    "\n",
    "params= { 'C':np.linspace(0.001, 1, 50), 'tol': [0.01, 0.1, 1, 10] }\n",
    "\n",
    "\n",
    "\n",
    "gs = GridSearchCV(estimator=LogisticRegression( random_state=3, penalty = \"l1\", solver='liblinear'), \n",
    "                   param_grid=params,\n",
    "                   cv=5)\n",
    "\n",
    "gs.fit(X_train_2, y_train_2)\n",
    "\n",
    "print(gs.best_params_)\n",
    "print(gs.score(X_train_2, y_train_2))\n",
    "print(gs.score(X_test_2, y_test_2))\n",
    "\n",
    "#Perd un peu en performance avec 10 variables max"
   ]
  },
  {
   "cell_type": "code",
   "execution_count": null,
   "id": "9a4ff3f7",
   "metadata": {},
   "outputs": [],
   "source": [
    "from sklearn.metrics import confusion_matrix, ConfusionMatrixDisplay\n",
    "\n",
    "clf = LogisticRegression(tol=gs.best_params_['tol'], C=gs.best_params_['C'],\n",
    "                         random_state=3, penalty=\"l1\", solver='liblinear')\n",
    "\n",
    "clf.fit(X_train_2, y_train_2)\n",
    "y_pred_2 = clf.predict(X_test_2)\n",
    "\n",
    "cm= confusion_matrix(y_test_2, y_pred_2)\n",
    "disp = ConfusionMatrixDisplay(\n",
    "            confusion_matrix=cm,\n",
    "            display_labels=clf.classes_\n",
    "       )\n",
    "disp.plot()\n",
    "\n",
    "num_variables = np.sum(np.abs(clf.coef_) > 1e-10)\n",
    "print(\"Number of variables considered:\", num_variables)"
   ]
  },
  {
   "cell_type": "code",
   "execution_count": null,
   "id": "2db91fd8",
   "metadata": {},
   "outputs": [],
   "source": [
    "#Identify the indices of the variables used for prediction in X_transform\n",
    "variables_indices = np.where(np.abs(clf.coef_) > 1e-10)[1]\n",
    "\n",
    "X_transform_useful_variables = X_transform[:,variables_indices]\n",
    "\n",
    "# X_transform n'a pas les meme indices pour les colonnes que X ou EEC_2019 -> Je verifie quelle colonne a les meme \n",
    "# valeurs\n",
    "for j in range(X_transform_useful_variables.shape[1]):\n",
    "    for column_name in EEC_2019_subsample.columns:\n",
    "        # Check if the corresponding column in X_transform_bis has equal values\n",
    "        is_equal = np.all(X_transform_useful_variables[:, j] == EEC_2019_subsample[column_name].values)\n",
    "        \n",
    "        if is_equal:\n",
    "            print(f\"The {j+1} column  is equal to the {column_name} column in EEC_2019_subsample\")"
   ]
  },
  {
   "cell_type": "code",
   "execution_count": null,
   "id": "77851951",
   "metadata": {},
   "outputs": [],
   "source": [
    "# J'essaie de reconstruire la variable predite à partir des 3 variables et des coefs associés\n",
    "linear_pred_3 = clf.intercept_ + np.dot(X_test_2[:, variables_indices], clf.coef_[:, variables_indices].T) \n",
    "y_pred_3 = 1 / (1 + np.exp(-linear_pred_3))\n",
    "threshold = 0.5  \n",
    "y_pred_3_binary = (y_pred_3 > threshold).astype(bool).ravel()\n",
    "\n",
    "comparison = np.equal(y_pred_2, y_pred_3_binary)\n",
    "equal_predictions = np.sum(comparison)\n",
    "percentage_equal = (equal_predictions / len(y_pred_2)) * 100 \n",
    "print(\"% same predictor\",percentage_equal)"
   ]
  },
  {
   "cell_type": "markdown",
   "id": "d2b5e0c0",
   "metadata": {},
   "source": [
    "## Partie V : Compréhension du problème de prédiction"
   ]
  },
  {
   "cell_type": "markdown",
   "id": "5d26bbd1",
   "metadata": {},
   "source": [
    "Je pense que les problèmes de prédiction proviennent des chômeurs de courte durée qui ont donc des caractéristiques très similaires aux actifs de ma base, et sont donc prédits comme tels. Pour vérifier cela, je vais maintenant étudier la prédiction du fait d'être actif pour voir si nous parvenons à construire un meilleur prédicteur.\n",
    "\r\n",
    "\r\n",
    "\r\n"
   ]
  },
  {
   "cell_type": "code",
   "execution_count": null,
   "id": "a4bf0fc7",
   "metadata": {},
   "outputs": [],
   "source": [
    "# Array contentant la variable expliquée\n",
    "y_bis = np.array(EEC_2019_subsample[\"ACTIF\"])\n",
    "print(y_bis.shape)\n",
    "\n",
    "print(y_bis[:10])"
   ]
  },
  {
   "cell_type": "code",
   "execution_count": null,
   "id": "e0b06299",
   "metadata": {},
   "outputs": [],
   "source": [
    "y_pred = clf.predict(X_transform)\n",
    "\n",
    "cm= confusion_matrix(y_bis,y_pred)\n",
    "disp = ConfusionMatrixDisplay(\n",
    "            confusion_matrix=cm,\n",
    "            display_labels=clf.classes_\n",
    "       )\n",
    "disp.plot()\n",
    "\n",
    "# Prédicteur de l'emploi déjà très bon pour prédire actif/pas actif => logique"
   ]
  },
  {
   "cell_type": "code",
   "execution_count": null,
   "id": "71587919",
   "metadata": {},
   "outputs": [],
   "source": [
    "from sklearn.linear_model import LassoCV\n",
    "from sklearn.feature_selection import SelectFromModel\n",
    "\n",
    "#  Lasso linear model with cross-validated selection of the regularization parameter (alpha) to find the optimal\n",
    "clf = LassoCV()\n",
    "clf.fit(X, y_bis)\n",
    "\n",
    "# Je m'impose un maximum de 3 features selectionnées\n",
    "sfm = SelectFromModel(clf, prefit=False, max_features=10)\n",
    "\n",
    "sfm.fit(X,y_bis)\n",
    "\n",
    "X_transform_bis = sfm.transform(X)\n",
    "print(X_transform_bis.shape)\n",
    "\n",
    "from sklearn.linear_model import LogisticRegression\n",
    "from sklearn.model_selection import train_test_split\n",
    "from sklearn.model_selection import GridSearchCV\n",
    "\n",
    "\n",
    "X_train_2, X_test_2, y_train_2, y_test_2 = train_test_split(X_transform_bis, \n",
    "                                                    y_bis, \n",
    "                                                    test_size=.2, random_state=3)\n",
    "\n",
    "\n",
    "params= { 'C':np.linspace(0.001, 1, 50), 'tol': [0.01, 0.1, 1, 10] }\n",
    "\n",
    "gs = GridSearchCV(estimator=LogisticRegression( random_state=3, penalty = \"l1\", solver='liblinear'), \n",
    "                   param_grid=params,\n",
    "                   cv=5)\n",
    "\n",
    "gs.fit(X_train_2, y_train_2)\n",
    "\n",
    "from sklearn.metrics import confusion_matrix, ConfusionMatrixDisplay\n",
    "\n",
    "clf = LogisticRegression(tol=gs.best_params_['tol'], C=gs.best_params_['C'],\n",
    "                         random_state=3, penalty=\"l1\", solver='liblinear')\n",
    "\n",
    "clf.fit(X_train_2, y_train_2)\n",
    "y_pred_2 = clf.predict(X_test_2)\n",
    "\n",
    "cm= confusion_matrix(y_test_2, y_pred_2)\n",
    "disp = ConfusionMatrixDisplay(\n",
    "            confusion_matrix=cm,\n",
    "            display_labels=clf.classes_\n",
    "       )\n",
    "disp.plot()\n",
    "\n",
    "print(clf.coef_)\n",
    "num_variables = np.sum(np.abs(clf.coef_) > 1e-10)\n",
    "print(\"Number of variables considered:\", num_variables)"
   ]
  },
  {
   "cell_type": "code",
   "execution_count": null,
   "id": "c7835b10",
   "metadata": {},
   "outputs": [],
   "source": [
    "\n",
    "#=> ON dirait que les indices des colonnes change lorsqu'on passe de X à X_transform\n",
    "# => ['AGE3_15' 'AGE3_30' 'AGE3_50'] ne sont pas les \"bonnes\" variables\n",
    "# Iterate over a range of columns in X_transform_bis\n",
    "for j in range(X_transform_bis.shape[1]):\n",
    "    for column_name in EEC_2019_subsample.columns:\n",
    "        # Check if the corresponding column in X_transform_bis has equal values\n",
    "        is_equal = np.all(X_transform_bis[:, j] == EEC_2019_subsample[column_name].values)\n",
    "        \n",
    "        if is_equal:\n",
    "            print(f\"The {j+1} column in X_transform_bis is equal to the {column_name} column in EEC_2019_subsample\")"
   ]
  },
  {
   "cell_type": "markdown",
   "id": "fa1cdacd",
   "metadata": {},
   "source": [
    "Il semblerait que le problème vienne effectivement de la distinction qui peut être parfois difficile à faire entre les chomeurs et les actifs occupés puisque les résultats s'améliorent grandement"
   ]
  },
  {
   "cell_type": "code",
   "execution_count": null,
   "id": "16b42e98",
   "metadata": {},
   "outputs": [],
   "source": [
    "y_pred_4 = clf.predict(X_transform_bis)\n",
    "\n",
    "cm= confusion_matrix(y_bis,y_pred_4)\n",
    "disp = ConfusionMatrixDisplay(\n",
    "            confusion_matrix=cm,\n",
    "            display_labels=clf.classes_\n",
    "       )\n",
    "disp.plot()"
   ]
  },
  {
   "cell_type": "code",
   "execution_count": null,
   "id": "6c4c1d41",
   "metadata": {},
   "outputs": [],
   "source": [
    "X_2020 = np.array(EEC_2020.drop(columns=[\"ACTIF\",\"EMPLOI\",\"ANNEE\", \"TRIM\"]))\n",
    "y_2020 = np.array(EEC_2020[\"ACTIF\"])\n",
    "\n",
    "X_2020_transform = sfm.transform(X_2020)\n",
    "print(X_2020_transform.shape)\n",
    "\n",
    "y_pred_2020 = clf.predict(X_2020_transform)\n",
    "\n",
    "\n",
    "cm= confusion_matrix(y_2020,y_pred_2020)\n",
    "disp = ConfusionMatrixDisplay(\n",
    "            confusion_matrix=cm,\n",
    "            display_labels=clf.classes_\n",
    "       )\n",
    "disp.plot()"
   ]
  },
  {
   "cell_type": "code",
   "execution_count": null,
   "id": "be88f9ca",
   "metadata": {},
   "outputs": [],
   "source": [
    "print(X[:100]) "
   ]
  },
  {
   "cell_type": "code",
   "execution_count": null,
   "id": "41893615",
   "metadata": {},
   "outputs": [],
   "source": [
    "\n",
    "from sklearn.linear_model import LassoCV\n",
    "from sklearn.feature_selection import SelectFromModel\n",
    "\n",
    "# Identify rows with NaN values\n",
    "nan_rows_train = np.isnan(X).any(axis=1)\n",
    "# Remove rows with NaN values from both X_train_scaled and y_train\n",
    "X_corrected = X[~nan_rows_train]\n",
    "y_corrected = y[~nan_rows_train]\n",
    "\n",
    "clf = LassoCV()\n",
    "\n",
    "sfm = SelectFromModel(clf, threshold=None, prefit=False, norm_order=1, max_features=10)\n",
    "# Je m'impose un maximum de 10 features\n",
    "\n",
    "sfm.fit(X_corrected,y_corrected)\n",
    "X_transform = sfm.transform(X_corrected)\n",
    "print(X_transform.shape)"
   ]
  },
  {
   "cell_type": "code",
   "execution_count": null,
   "id": "d8a1e33e",
   "metadata": {},
   "outputs": [],
   "source": [
    "X_train_2, X_test_2, y_train_2, y_test_2 = train_test_split(X_transform, \n",
    "                                                    y, \n",
    "                                                    test_size=.2)\n",
    "\n",
    "print(X_train_2.shape)\n",
    "\n",
    "std_scale = StandardScaler().fit(X_train_2)\n",
    "X_train_scaled_2 = std_scale.transform(X_train_2)\n",
    "X_test_scaled_2 = std_scale.transform(X_test_2)\n",
    "from sklearn.linear_model import LogisticRegression\n",
    "\n",
    "acc_train, acc_test = list(), list()\n",
    "C_range = np.linspace(0.1, 5, 20)\n",
    "for param in C_range:\n",
    "    clf = LogisticRegression(penalty='l2', dual=False, tol=0.001, C=param, fit_intercept=True, \n",
    "                   intercept_scaling=1, class_weight=None, random_state=3, solver='liblinear',\n",
    "                   max_iter=100, multi_class='auto', verbose=0, warm_start=False, n_jobs=None,\n",
    "                   l1_ratio=None)\n",
    "    \n",
    "    clf.fit(X_train_scaled_2, y_train_2)\n",
    "    acc_train.append(clf.score(X_train_scaled_2, y_train_2))\n",
    "    acc_test.append(clf.score(X_test_scaled_2, y_test_2))\n",
    "    \n",
    "plt.figure(figsize=(10, 5))\n",
    "\n",
    "plt.plot(C_range, acc_train, label='train set', lw=4)\n",
    "plt.plot(C_range, acc_test, label='test set', lw=4)\n",
    "\n",
    "plt.legend(loc='best', fontsize=12)\n",
    "\n",
    "plt.xlabel(\"C\", fontweight=\"bold\", fontsize=20)\n",
    "plt.ylabel(\"Performance\", fontweight=\"bold\", fontsize=20)\n",
    "plt.xticks(fontweight=\"bold\", fontsize=15)\n",
    "plt.yticks(fontweight=\"bold\", fontsize=15)\n",
    "plt.tight_layout()\n",
    "\n",
    "plt.show()\n",
    "\n",
    "\n",
    "params= { 'C':[0.001, 1, 2], 'penalty': ['l1','l2'],'tol': [0.001,0.0001,0.1] }\n",
    "\n",
    "# j'essaie des valeurs de C très faible pour régulariser un maximum\n",
    "\n",
    "lr =LogisticRegression( dual=False, fit_intercept=True, \n",
    "                   intercept_scaling=1, class_weight=None, random_state=3, solver='liblinear',\n",
    "                   max_iter=100, multi_class='auto', verbose=0, warm_start=False, n_jobs=None,\n",
    "                   l1_ratio=None)\n",
    "\n",
    "# On découpe notre échantillon en 3 pour la cross-validation (je pense qu'on peut difficilement faire plus car\n",
    "# nous ne possédons que 542 observations)\n",
    "\n",
    "gs = GridSearchCV(estimator=lr, \n",
    "                   param_grid=params,\n",
    "                   cv=3)\n",
    "\n",
    "gs.fit(X_train_scaled_2, y_train_2)\n",
    "\n",
    "print(gs.best_params_)\n",
    "print(gs.score(X_train_scaled_2, y_train_2))\n",
    "print(gs.score(X_test_scaled_2, y_test_2))\n"
   ]
  }
 ],
 "metadata": {
  "kernelspec": {
   "display_name": "Python 3 (ipykernel)",
   "language": "python",
   "name": "python3"
  },
  "language_info": {
   "codemirror_mode": {
    "name": "ipython",
    "version": 3
   },
   "file_extension": ".py",
   "mimetype": "text/x-python",
   "name": "python",
   "nbconvert_exporter": "python",
   "pygments_lexer": "ipython3",
   "version": "3.10.13"
  }
 },
 "nbformat": 4,
 "nbformat_minor": 5
}

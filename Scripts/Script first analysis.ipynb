{
 "cells": [
  {
   "cell_type": "code",
   "execution_count": 1,
   "id": "e0babe79-7030-40e6-bf08-31c98d7b056f",
   "metadata": {},
   "outputs": [],
   "source": [
    "import pandas as pd\n",
    "import requests\n",
    "from io import BytesIO #permet de stocker en mémoire\n",
    "from zipfile import ZipFile\n",
    "import matplotlib.pyplot as plt\n"
   ]
  },
  {
   "cell_type": "code",
   "execution_count": 2,
   "id": "5ccba860-7152-4ac8-9e6c-0d05d3a489a5",
   "metadata": {},
   "outputs": [],
   "source": [
    "url2019 = \"https://www.insee.fr/fr/statistiques/fichier/4809583/fd_eec19_csv.zip\" #enquete 2019\n",
    "url2020=\"https://www.insee.fr/fr/statistiques/fichier/5393560/fd_eec20_csv.zip\" #enquête 2020 en exemple\n",
    "\n",
    "# Télécharge le fichier ZIP\n",
    "requete = requests.get(url2019)\n",
    "zip_df = ZipFile(BytesIO(requete.content)) #créer un fichier ZIP\n",
    "\n",
    "# Extraire le fichier CSV du ZIP\n",
    "with zip_df.open(zip_df.namelist()[0]) as extrait:\n",
    "    EEC_2019 = pd.read_csv(extrait, delimiter=\";\") # Lire le fichier CSV avec pandas\n",
    "\n",
    "# Télécharge le fichier ZIP\n",
    "requete = requests.get(url2020)\n",
    "zip_df = ZipFile(BytesIO(requete.content)) #créer un fichier ZIP\n",
    "\n",
    "# Extraire le fichier CSV du ZIP\n",
    "with zip_df.open(zip_df.namelist()[0]) as extrait:\n",
    "    EEC_2020 = pd.read_csv(extrait, delimiter=\";\") # Lire le fichier CSV avec pandas"
   ]
  },
  {
   "cell_type": "markdown",
   "id": "da634a28-1d5d-454c-a9c5-30d724492902",
   "metadata": {},
   "source": [
    "## Statistique desc"
   ]
  },
  {
   "cell_type": "code",
   "execution_count": 3,
   "id": "e309a885-aabd-41a0-bcd7-e2ef5dae8552",
   "metadata": {},
   "outputs": [
    {
     "data": {
      "text/html": [
       "<div>\n",
       "<style scoped>\n",
       "    .dataframe tbody tr th:only-of-type {\n",
       "        vertical-align: middle;\n",
       "    }\n",
       "\n",
       "    .dataframe tbody tr th {\n",
       "        vertical-align: top;\n",
       "    }\n",
       "\n",
       "    .dataframe thead th {\n",
       "        text-align: right;\n",
       "    }\n",
       "</style>\n",
       "<table border=\"1\" class=\"dataframe\">\n",
       "  <thead>\n",
       "    <tr style=\"text-align: right;\">\n",
       "      <th></th>\n",
       "      <th>ANNEE</th>\n",
       "      <th>TRIM</th>\n",
       "      <th>CATAU2010R</th>\n",
       "      <th>METRODOM</th>\n",
       "      <th>TYPMEN7</th>\n",
       "      <th>AGE3</th>\n",
       "      <th>AGE5</th>\n",
       "      <th>COURED</th>\n",
       "      <th>ENFRED</th>\n",
       "      <th>NFRRED</th>\n",
       "      <th>...</th>\n",
       "      <th>DIP11</th>\n",
       "      <th>CSTOTPRM</th>\n",
       "      <th>IDENTM</th>\n",
       "      <th>EXTRIAN</th>\n",
       "      <th>EMPNBH</th>\n",
       "      <th>HREC</th>\n",
       "      <th>HHCE</th>\n",
       "      <th>HPLUSA</th>\n",
       "      <th>JOURTR</th>\n",
       "      <th>NBTOTE</th>\n",
       "    </tr>\n",
       "  </thead>\n",
       "  <tbody>\n",
       "    <tr>\n",
       "      <th>0</th>\n",
       "      <td>2019</td>\n",
       "      <td>1</td>\n",
       "      <td>1</td>\n",
       "      <td>1</td>\n",
       "      <td>1</td>\n",
       "      <td>50</td>\n",
       "      <td>60</td>\n",
       "      <td>2</td>\n",
       "      <td>2</td>\n",
       "      <td>1.0</td>\n",
       "      <td>...</td>\n",
       "      <td>70.0</td>\n",
       "      <td>86.0</td>\n",
       "      <td>1</td>\n",
       "      <td>107.749722</td>\n",
       "      <td>NaN</td>\n",
       "      <td>NaN</td>\n",
       "      <td>NaN</td>\n",
       "      <td>NaN</td>\n",
       "      <td>NaN</td>\n",
       "      <td>NaN</td>\n",
       "    </tr>\n",
       "    <tr>\n",
       "      <th>1</th>\n",
       "      <td>2019</td>\n",
       "      <td>2</td>\n",
       "      <td>1</td>\n",
       "      <td>1</td>\n",
       "      <td>3</td>\n",
       "      <td>50</td>\n",
       "      <td>60</td>\n",
       "      <td>1</td>\n",
       "      <td>2</td>\n",
       "      <td>1.0</td>\n",
       "      <td>...</td>\n",
       "      <td>50.0</td>\n",
       "      <td>64.0</td>\n",
       "      <td>2</td>\n",
       "      <td>46.173848</td>\n",
       "      <td>1.0</td>\n",
       "      <td>NaN</td>\n",
       "      <td>1.0</td>\n",
       "      <td>NaN</td>\n",
       "      <td>1.0</td>\n",
       "      <td>NaN</td>\n",
       "    </tr>\n",
       "    <tr>\n",
       "      <th>2</th>\n",
       "      <td>2019</td>\n",
       "      <td>2</td>\n",
       "      <td>1</td>\n",
       "      <td>1</td>\n",
       "      <td>3</td>\n",
       "      <td>50</td>\n",
       "      <td>60</td>\n",
       "      <td>1</td>\n",
       "      <td>2</td>\n",
       "      <td>1.0</td>\n",
       "      <td>...</td>\n",
       "      <td>70.0</td>\n",
       "      <td>64.0</td>\n",
       "      <td>2</td>\n",
       "      <td>46.173848</td>\n",
       "      <td>NaN</td>\n",
       "      <td>NaN</td>\n",
       "      <td>NaN</td>\n",
       "      <td>NaN</td>\n",
       "      <td>NaN</td>\n",
       "      <td>NaN</td>\n",
       "    </tr>\n",
       "    <tr>\n",
       "      <th>3</th>\n",
       "      <td>2019</td>\n",
       "      <td>3</td>\n",
       "      <td>1</td>\n",
       "      <td>1</td>\n",
       "      <td>3</td>\n",
       "      <td>50</td>\n",
       "      <td>60</td>\n",
       "      <td>1</td>\n",
       "      <td>2</td>\n",
       "      <td>1.0</td>\n",
       "      <td>...</td>\n",
       "      <td>50.0</td>\n",
       "      <td>64.0</td>\n",
       "      <td>3</td>\n",
       "      <td>44.329298</td>\n",
       "      <td>0.0</td>\n",
       "      <td>NaN</td>\n",
       "      <td>1.0</td>\n",
       "      <td>NaN</td>\n",
       "      <td>1.0</td>\n",
       "      <td>NaN</td>\n",
       "    </tr>\n",
       "    <tr>\n",
       "      <th>4</th>\n",
       "      <td>2019</td>\n",
       "      <td>3</td>\n",
       "      <td>1</td>\n",
       "      <td>1</td>\n",
       "      <td>3</td>\n",
       "      <td>50</td>\n",
       "      <td>60</td>\n",
       "      <td>1</td>\n",
       "      <td>2</td>\n",
       "      <td>1.0</td>\n",
       "      <td>...</td>\n",
       "      <td>70.0</td>\n",
       "      <td>64.0</td>\n",
       "      <td>3</td>\n",
       "      <td>44.329298</td>\n",
       "      <td>NaN</td>\n",
       "      <td>NaN</td>\n",
       "      <td>NaN</td>\n",
       "      <td>NaN</td>\n",
       "      <td>NaN</td>\n",
       "      <td>NaN</td>\n",
       "    </tr>\n",
       "  </tbody>\n",
       "</table>\n",
       "<p>5 rows × 124 columns</p>\n",
       "</div>"
      ],
      "text/plain": [
       "   ANNEE  TRIM  CATAU2010R  METRODOM  TYPMEN7  AGE3  AGE5  COURED  ENFRED  \\\n",
       "0   2019     1           1         1        1    50    60       2       2   \n",
       "1   2019     2           1         1        3    50    60       1       2   \n",
       "2   2019     2           1         1        3    50    60       1       2   \n",
       "3   2019     3           1         1        3    50    60       1       2   \n",
       "4   2019     3           1         1        3    50    60       1       2   \n",
       "\n",
       "   NFRRED  ...  DIP11  CSTOTPRM  IDENTM     EXTRIAN  EMPNBH  HREC  HHCE  \\\n",
       "0     1.0  ...   70.0      86.0       1  107.749722     NaN   NaN   NaN   \n",
       "1     1.0  ...   50.0      64.0       2   46.173848     1.0   NaN   1.0   \n",
       "2     1.0  ...   70.0      64.0       2   46.173848     NaN   NaN   NaN   \n",
       "3     1.0  ...   50.0      64.0       3   44.329298     0.0   NaN   1.0   \n",
       "4     1.0  ...   70.0      64.0       3   44.329298     NaN   NaN   NaN   \n",
       "\n",
       "   HPLUSA  JOURTR  NBTOTE  \n",
       "0     NaN     NaN     NaN  \n",
       "1     NaN     1.0     NaN  \n",
       "2     NaN     NaN     NaN  \n",
       "3     NaN     1.0     NaN  \n",
       "4     NaN     NaN     NaN  \n",
       "\n",
       "[5 rows x 124 columns]"
      ]
     },
     "execution_count": 3,
     "metadata": {},
     "output_type": "execute_result"
    }
   ],
   "source": [
    "EEC_2019.head()"
   ]
  },
  {
   "cell_type": "code",
   "execution_count": 4,
   "id": "15ce64a6-2923-4cff-8e2d-e362f1562798",
   "metadata": {},
   "outputs": [
    {
     "data": {
      "text/plain": [
       "count    415038.000000\n",
       "mean          2.024899\n",
       "std           0.977017\n",
       "min           1.000000\n",
       "25%           1.000000\n",
       "50%           2.000000\n",
       "75%           3.000000\n",
       "max           3.000000\n",
       "Name: ACTEU, dtype: float64"
      ]
     },
     "execution_count": 4,
     "metadata": {},
     "output_type": "execute_result"
    }
   ],
   "source": [
    "EEC_2019[\"ACTEU\"].describe()"
   ]
  },
  {
   "cell_type": "code",
   "execution_count": 5,
   "id": "af8ec10f-9d83-4615-9470-a124de24148d",
   "metadata": {},
   "outputs": [
    {
     "data": {
      "text/plain": [
       "count    18458.000000\n",
       "mean         4.558024\n",
       "std          2.187459\n",
       "min          1.000000\n",
       "25%          3.000000\n",
       "50%          4.000000\n",
       "75%          7.000000\n",
       "max          8.000000\n",
       "Name: ANCCHOM, dtype: float64"
      ]
     },
     "execution_count": 5,
     "metadata": {},
     "output_type": "execute_result"
    }
   ],
   "source": [
    "#répartiton de la durée de chômage avec la variable ANCCHOM (on pondère par EXTRIAN)\n",
    "EEC_chom_2019=EEC_2019[EEC_2019[\"ACTEU\"]==2]\n",
    "EEC_chom_2020=EEC_2020[EEC_2020[\"ACTEU\"]==2]\n",
    "EEC_chom_2019[\"ANCCHOM\"].describe()"
   ]
  },
  {
   "cell_type": "code",
   "execution_count": 6,
   "id": "a5daa685-3269-41ba-96c0-f12de8180a96",
   "metadata": {},
   "outputs": [
    {
     "data": {
      "image/png": "[encoded data removed]",
      "text/plain": [
       "<Figure size 640x480 with 1 Axes>"
      ]
     },
     "metadata": {},
     "output_type": "display_data"
    }
   ],
   "source": [
    "plt.hist([EEC_chom_2019[\"ANCCHOM\"],EEC_chom_2020[\"ANCCHOM\"]],bins=[i - 0.5 for i in range(1, 10)], weights = [EEC_chom_2019[\"EXTRIAN\"],EEC_chom_2020[\"EXTRIAN\"]], align='mid',width=0.4, density=True,label=[\"2019\",\"2020\"])\n",
    "plt.title('Histogramme de la durée du chômage')\n",
    "plt.xticks(range(1,10), [\"< 1 mo\",\"1< <3mo\",\"3< <6mo\",\"6< <12 mo\",\"12< <18 mo\",\"18 mo< <2 y\",\"2< <3 y\",\">3 y\",\"\"], rotation=45, ha=\"right\")\n",
    "plt.xlabel('Durée du chômage')\n",
    "plt.ylabel('Fréquence')\n",
    "plt.legend()\n",
    "plt.show()"
   ]
  },
  {
   "cell_type": "code",
   "execution_count": 8,
   "id": "b2ffe707-5d3b-4564-a1ad-422eb88a4c8f",
   "metadata": {},
   "outputs": [
    {
     "ename": "ValueError",
     "evalue": "Invalid RGBA argument: 3.0",
     "output_type": "error",
     "traceback": [
      "\u001b[0;31m---------------------------------------------------------------------------\u001b[0m",
      "\u001b[0;31mValueError\u001b[0m                                Traceback (most recent call last)",
      "Cell \u001b[0;32mIn[8], line 2\u001b[0m\n\u001b[1;32m      1\u001b[0m \u001b[38;5;66;03m#Pourcentage de chômage par niveau d'éducation et CSP\u001b[39;00m\n\u001b[0;32m----> 2\u001b[0m \u001b[43mplt\u001b[49m\u001b[38;5;241;43m.\u001b[39;49m\u001b[43mhist\u001b[49m\u001b[43m(\u001b[49m\u001b[43mEEC_2019\u001b[49m\u001b[43m[\u001b[49m\u001b[38;5;124;43m\"\u001b[39;49m\u001b[38;5;124;43mCSTOTR\u001b[39;49m\u001b[38;5;124;43m\"\u001b[39;49m\u001b[43m]\u001b[49m\u001b[43m,\u001b[49m\u001b[43mbins\u001b[49m\u001b[38;5;241;43m=\u001b[39;49m\u001b[43m[\u001b[49m\u001b[43mi\u001b[49m\u001b[43m \u001b[49m\u001b[38;5;241;43m-\u001b[39;49m\u001b[43m \u001b[49m\u001b[38;5;241;43m0.35\u001b[39;49m\u001b[43m \u001b[49m\u001b[38;5;28;43;01mfor\u001b[39;49;00m\u001b[43m \u001b[49m\u001b[43mi\u001b[49m\u001b[43m \u001b[49m\u001b[38;5;129;43;01min\u001b[39;49;00m\u001b[43m \u001b[49m\u001b[38;5;28;43mrange\u001b[39;49m\u001b[43m(\u001b[49m\u001b[38;5;241;43m0\u001b[39;49m\u001b[43m,\u001b[49m\u001b[43m \u001b[49m\u001b[38;5;241;43m9\u001b[39;49m\u001b[43m)\u001b[49m\u001b[43m]\u001b[49m\u001b[43m,\u001b[49m\u001b[43m \u001b[49m\u001b[43mweights\u001b[49m\u001b[43m \u001b[49m\u001b[38;5;241;43m=\u001b[39;49m\u001b[43m \u001b[49m\u001b[43mEEC_2019\u001b[49m\u001b[43m[\u001b[49m\u001b[38;5;124;43m\"\u001b[39;49m\u001b[38;5;124;43mEXTRIAN\u001b[39;49m\u001b[38;5;124;43m\"\u001b[39;49m\u001b[43m]\u001b[49m\u001b[43m,\u001b[49m\u001b[43m \u001b[49m\u001b[43malign\u001b[49m\u001b[38;5;241;43m=\u001b[39;49m\u001b[38;5;124;43m'\u001b[39;49m\u001b[38;5;124;43mmid\u001b[39;49m\u001b[38;5;124;43m'\u001b[39;49m\u001b[43m,\u001b[49m\u001b[43mwidth\u001b[49m\u001b[38;5;241;43m=\u001b[39;49m\u001b[38;5;241;43m0.7\u001b[39;49m\u001b[43m,\u001b[49m\u001b[43m \u001b[49m\u001b[43mdensity\u001b[49m\u001b[38;5;241;43m=\u001b[39;49m\u001b[38;5;28;43;01mTrue\u001b[39;49;00m\u001b[43m,\u001b[49m\u001b[43m \u001b[49m\u001b[43mlog\u001b[49m\u001b[38;5;241;43m=\u001b[39;49m\u001b[38;5;28;43;01mTrue\u001b[39;49;00m\u001b[43m,\u001b[49m\u001b[43m \u001b[49m\u001b[43mcolor\u001b[49m\u001b[38;5;241;43m=\u001b[39;49m\u001b[43mEEC_2019\u001b[49m\u001b[43m[\u001b[49m\u001b[38;5;124;43m\"\u001b[39;49m\u001b[38;5;124;43mACTEU\u001b[39;49m\u001b[38;5;124;43m\"\u001b[39;49m\u001b[43m]\u001b[49m\u001b[43m)\u001b[49m\n\u001b[1;32m      3\u001b[0m plt\u001b[38;5;241m.\u001b[39mtitle(\u001b[38;5;124m'\u001b[39m\u001b[38;5;124mFréquence du chômage en fonction de la catégorie socioprofessionnelle\u001b[39m\u001b[38;5;124m'\u001b[39m)\n\u001b[1;32m      4\u001b[0m plt\u001b[38;5;241m.\u001b[39mxticks(\u001b[38;5;28mrange\u001b[39m(\u001b[38;5;241m0\u001b[39m,\u001b[38;5;241m9\u001b[39m), [\u001b[38;5;124m\"\u001b[39m\u001b[38;5;124mNon-renseigné\u001b[39m\u001b[38;5;124m\"\u001b[39m,\u001b[38;5;124m\"\u001b[39m\u001b[38;5;124mAgriculteurs\u001b[39m\u001b[38;5;124m\"\u001b[39m,\u001b[38;5;124m\"\u001b[39m\u001b[38;5;124mArtisans, commerçants, chefs d\u001b[39m\u001b[38;5;124m'\u001b[39m\u001b[38;5;124mentreprise\u001b[39m\u001b[38;5;124m\"\u001b[39m,\u001b[38;5;124m\"\u001b[39m\u001b[38;5;124mCadres et professions intellectuelles supérieures\u001b[39m\u001b[38;5;124m\"\u001b[39m,\u001b[38;5;124m\"\u001b[39m\u001b[38;5;124mEmployés\u001b[39m\u001b[38;5;124m\"\u001b[39m,\u001b[38;5;124m\"\u001b[39m\u001b[38;5;124mOuvriers\u001b[39m\u001b[38;5;124m\"\u001b[39m,\u001b[38;5;124m\"\u001b[39m\u001b[38;5;124mInactifs ayant déja eu une activité pro\u001b[39m\u001b[38;5;124m\"\u001b[39m,\u001b[38;5;124m\"\u001b[39m\u001b[38;5;124mChômeurs et inactifs n\u001b[39m\u001b[38;5;124m'\u001b[39m\u001b[38;5;124mayant jamais travaillé\u001b[39m\u001b[38;5;124m\"\u001b[39m,\u001b[38;5;124m\"\u001b[39m\u001b[38;5;124m\"\u001b[39m], rotation\u001b[38;5;241m=\u001b[39m\u001b[38;5;241m45\u001b[39m, ha\u001b[38;5;241m=\u001b[39m\u001b[38;5;124m\"\u001b[39m\u001b[38;5;124mright\u001b[39m\u001b[38;5;124m\"\u001b[39m)\n",
      "File \u001b[0;32m/opt/mamba/lib/python3.10/site-packages/matplotlib/pyplot.py:3221\u001b[0m, in \u001b[0;36mhist\u001b[0;34m(x, bins, range, density, weights, cumulative, bottom, histtype, align, orientation, rwidth, log, color, label, stacked, data, **kwargs)\u001b[0m\n\u001b[1;32m   3196\u001b[0m \u001b[38;5;129m@_copy_docstring_and_deprecators\u001b[39m(Axes\u001b[38;5;241m.\u001b[39mhist)\n\u001b[1;32m   3197\u001b[0m \u001b[38;5;28;01mdef\u001b[39;00m \u001b[38;5;21mhist\u001b[39m(\n\u001b[1;32m   3198\u001b[0m     x: ArrayLike \u001b[38;5;241m|\u001b[39m Sequence[ArrayLike],\n\u001b[0;32m   (...)\u001b[0m\n\u001b[1;32m   3219\u001b[0m     BarContainer \u001b[38;5;241m|\u001b[39m Polygon \u001b[38;5;241m|\u001b[39m \u001b[38;5;28mlist\u001b[39m[BarContainer \u001b[38;5;241m|\u001b[39m Polygon],\n\u001b[1;32m   3220\u001b[0m ]:\n\u001b[0;32m-> 3221\u001b[0m     \u001b[38;5;28;01mreturn\u001b[39;00m \u001b[43mgca\u001b[49m\u001b[43m(\u001b[49m\u001b[43m)\u001b[49m\u001b[38;5;241;43m.\u001b[39;49m\u001b[43mhist\u001b[49m\u001b[43m(\u001b[49m\n\u001b[1;32m   3222\u001b[0m \u001b[43m        \u001b[49m\u001b[43mx\u001b[49m\u001b[43m,\u001b[49m\n\u001b[1;32m   3223\u001b[0m \u001b[43m        \u001b[49m\u001b[43mbins\u001b[49m\u001b[38;5;241;43m=\u001b[39;49m\u001b[43mbins\u001b[49m\u001b[43m,\u001b[49m\n\u001b[1;32m   3224\u001b[0m \u001b[43m        \u001b[49m\u001b[38;5;28;43mrange\u001b[39;49m\u001b[38;5;241;43m=\u001b[39;49m\u001b[38;5;28;43mrange\u001b[39;49m\u001b[43m,\u001b[49m\n\u001b[1;32m   3225\u001b[0m \u001b[43m        \u001b[49m\u001b[43mdensity\u001b[49m\u001b[38;5;241;43m=\u001b[39;49m\u001b[43mdensity\u001b[49m\u001b[43m,\u001b[49m\n\u001b[1;32m   3226\u001b[0m \u001b[43m        \u001b[49m\u001b[43mweights\u001b[49m\u001b[38;5;241;43m=\u001b[39;49m\u001b[43mweights\u001b[49m\u001b[43m,\u001b[49m\n\u001b[1;32m   3227\u001b[0m \u001b[43m        \u001b[49m\u001b[43mcumulative\u001b[49m\u001b[38;5;241;43m=\u001b[39;49m\u001b[43mcumulative\u001b[49m\u001b[43m,\u001b[49m\n\u001b[1;32m   3228\u001b[0m \u001b[43m        \u001b[49m\u001b[43mbottom\u001b[49m\u001b[38;5;241;43m=\u001b[39;49m\u001b[43mbottom\u001b[49m\u001b[43m,\u001b[49m\n\u001b[1;32m   3229\u001b[0m \u001b[43m        \u001b[49m\u001b[43mhisttype\u001b[49m\u001b[38;5;241;43m=\u001b[39;49m\u001b[43mhisttype\u001b[49m\u001b[43m,\u001b[49m\n\u001b[1;32m   3230\u001b[0m \u001b[43m        \u001b[49m\u001b[43malign\u001b[49m\u001b[38;5;241;43m=\u001b[39;49m\u001b[43malign\u001b[49m\u001b[43m,\u001b[49m\n\u001b[1;32m   3231\u001b[0m \u001b[43m        \u001b[49m\u001b[43morientation\u001b[49m\u001b[38;5;241;43m=\u001b[39;49m\u001b[43morientation\u001b[49m\u001b[43m,\u001b[49m\n\u001b[1;32m   3232\u001b[0m \u001b[43m        \u001b[49m\u001b[43mrwidth\u001b[49m\u001b[38;5;241;43m=\u001b[39;49m\u001b[43mrwidth\u001b[49m\u001b[43m,\u001b[49m\n\u001b[1;32m   3233\u001b[0m \u001b[43m        \u001b[49m\u001b[43mlog\u001b[49m\u001b[38;5;241;43m=\u001b[39;49m\u001b[43mlog\u001b[49m\u001b[43m,\u001b[49m\n\u001b[1;32m   3234\u001b[0m \u001b[43m        \u001b[49m\u001b[43mcolor\u001b[49m\u001b[38;5;241;43m=\u001b[39;49m\u001b[43mcolor\u001b[49m\u001b[43m,\u001b[49m\n\u001b[1;32m   3235\u001b[0m \u001b[43m        \u001b[49m\u001b[43mlabel\u001b[49m\u001b[38;5;241;43m=\u001b[39;49m\u001b[43mlabel\u001b[49m\u001b[43m,\u001b[49m\n\u001b[1;32m   3236\u001b[0m \u001b[43m        \u001b[49m\u001b[43mstacked\u001b[49m\u001b[38;5;241;43m=\u001b[39;49m\u001b[43mstacked\u001b[49m\u001b[43m,\u001b[49m\n\u001b[1;32m   3237\u001b[0m \u001b[43m        \u001b[49m\u001b[38;5;241;43m*\u001b[39;49m\u001b[38;5;241;43m*\u001b[39;49m\u001b[43m(\u001b[49m\u001b[43m{\u001b[49m\u001b[38;5;124;43m\"\u001b[39;49m\u001b[38;5;124;43mdata\u001b[39;49m\u001b[38;5;124;43m\"\u001b[39;49m\u001b[43m:\u001b[49m\u001b[43m \u001b[49m\u001b[43mdata\u001b[49m\u001b[43m}\u001b[49m\u001b[43m \u001b[49m\u001b[38;5;28;43;01mif\u001b[39;49;00m\u001b[43m \u001b[49m\u001b[43mdata\u001b[49m\u001b[43m \u001b[49m\u001b[38;5;129;43;01mis\u001b[39;49;00m\u001b[43m \u001b[49m\u001b[38;5;129;43;01mnot\u001b[39;49;00m\u001b[43m \u001b[49m\u001b[38;5;28;43;01mNone\u001b[39;49;00m\u001b[43m \u001b[49m\u001b[38;5;28;43;01melse\u001b[39;49;00m\u001b[43m \u001b[49m\u001b[43m{\u001b[49m\u001b[43m}\u001b[49m\u001b[43m)\u001b[49m\u001b[43m,\u001b[49m\n\u001b[1;32m   3238\u001b[0m \u001b[43m        \u001b[49m\u001b[38;5;241;43m*\u001b[39;49m\u001b[38;5;241;43m*\u001b[39;49m\u001b[43mkwargs\u001b[49m\u001b[43m,\u001b[49m\n\u001b[1;32m   3239\u001b[0m \u001b[43m    \u001b[49m\u001b[43m)\u001b[49m\n",
      "File \u001b[0;32m/opt/mamba/lib/python3.10/site-packages/matplotlib/__init__.py:1465\u001b[0m, in \u001b[0;36m_preprocess_data.<locals>.inner\u001b[0;34m(ax, data, *args, **kwargs)\u001b[0m\n\u001b[1;32m   1462\u001b[0m \u001b[38;5;129m@functools\u001b[39m\u001b[38;5;241m.\u001b[39mwraps(func)\n\u001b[1;32m   1463\u001b[0m \u001b[38;5;28;01mdef\u001b[39;00m \u001b[38;5;21minner\u001b[39m(ax, \u001b[38;5;241m*\u001b[39margs, data\u001b[38;5;241m=\u001b[39m\u001b[38;5;28;01mNone\u001b[39;00m, \u001b[38;5;241m*\u001b[39m\u001b[38;5;241m*\u001b[39mkwargs):\n\u001b[1;32m   1464\u001b[0m     \u001b[38;5;28;01mif\u001b[39;00m data \u001b[38;5;129;01mis\u001b[39;00m \u001b[38;5;28;01mNone\u001b[39;00m:\n\u001b[0;32m-> 1465\u001b[0m         \u001b[38;5;28;01mreturn\u001b[39;00m \u001b[43mfunc\u001b[49m\u001b[43m(\u001b[49m\u001b[43max\u001b[49m\u001b[43m,\u001b[49m\u001b[43m \u001b[49m\u001b[38;5;241;43m*\u001b[39;49m\u001b[38;5;28;43mmap\u001b[39;49m\u001b[43m(\u001b[49m\u001b[43msanitize_sequence\u001b[49m\u001b[43m,\u001b[49m\u001b[43m \u001b[49m\u001b[43margs\u001b[49m\u001b[43m)\u001b[49m\u001b[43m,\u001b[49m\u001b[43m \u001b[49m\u001b[38;5;241;43m*\u001b[39;49m\u001b[38;5;241;43m*\u001b[39;49m\u001b[43mkwargs\u001b[49m\u001b[43m)\u001b[49m\n\u001b[1;32m   1467\u001b[0m     bound \u001b[38;5;241m=\u001b[39m new_sig\u001b[38;5;241m.\u001b[39mbind(ax, \u001b[38;5;241m*\u001b[39margs, \u001b[38;5;241m*\u001b[39m\u001b[38;5;241m*\u001b[39mkwargs)\n\u001b[1;32m   1468\u001b[0m     auto_label \u001b[38;5;241m=\u001b[39m (bound\u001b[38;5;241m.\u001b[39marguments\u001b[38;5;241m.\u001b[39mget(label_namer)\n\u001b[1;32m   1469\u001b[0m                   \u001b[38;5;129;01mor\u001b[39;00m bound\u001b[38;5;241m.\u001b[39mkwargs\u001b[38;5;241m.\u001b[39mget(label_namer))\n",
      "File \u001b[0;32m/opt/mamba/lib/python3.10/site-packages/matplotlib/axes/_axes.py:6813\u001b[0m, in \u001b[0;36mAxes.hist\u001b[0;34m(self, x, bins, range, density, weights, cumulative, bottom, histtype, align, orientation, rwidth, log, color, label, stacked, **kwargs)\u001b[0m\n\u001b[1;32m   6811\u001b[0m     colors \u001b[38;5;241m=\u001b[39m [\u001b[38;5;28mself\u001b[39m\u001b[38;5;241m.\u001b[39m_get_lines\u001b[38;5;241m.\u001b[39mget_next_color() \u001b[38;5;28;01mfor\u001b[39;00m i \u001b[38;5;129;01min\u001b[39;00m \u001b[38;5;28mrange\u001b[39m(nx)]\n\u001b[1;32m   6812\u001b[0m \u001b[38;5;28;01melse\u001b[39;00m:\n\u001b[0;32m-> 6813\u001b[0m     colors \u001b[38;5;241m=\u001b[39m \u001b[43mmcolors\u001b[49m\u001b[38;5;241;43m.\u001b[39;49m\u001b[43mto_rgba_array\u001b[49m\u001b[43m(\u001b[49m\u001b[43mcolor\u001b[49m\u001b[43m)\u001b[49m\n\u001b[1;32m   6814\u001b[0m     \u001b[38;5;28;01mif\u001b[39;00m \u001b[38;5;28mlen\u001b[39m(colors) \u001b[38;5;241m!=\u001b[39m nx:\n\u001b[1;32m   6815\u001b[0m         \u001b[38;5;28;01mraise\u001b[39;00m \u001b[38;5;167;01mValueError\u001b[39;00m(\u001b[38;5;124mf\u001b[39m\u001b[38;5;124m\"\u001b[39m\u001b[38;5;124mThe \u001b[39m\u001b[38;5;124m'\u001b[39m\u001b[38;5;124mcolor\u001b[39m\u001b[38;5;124m'\u001b[39m\u001b[38;5;124m keyword argument must have one \u001b[39m\u001b[38;5;124m\"\u001b[39m\n\u001b[1;32m   6816\u001b[0m                          \u001b[38;5;124mf\u001b[39m\u001b[38;5;124m\"\u001b[39m\u001b[38;5;124mcolor per dataset, but \u001b[39m\u001b[38;5;132;01m{\u001b[39;00mnx\u001b[38;5;132;01m}\u001b[39;00m\u001b[38;5;124m datasets and \u001b[39m\u001b[38;5;124m\"\u001b[39m\n\u001b[1;32m   6817\u001b[0m                          \u001b[38;5;124mf\u001b[39m\u001b[38;5;124m\"\u001b[39m\u001b[38;5;132;01m{\u001b[39;00m\u001b[38;5;28mlen\u001b[39m(colors)\u001b[38;5;132;01m}\u001b[39;00m\u001b[38;5;124m colors were provided\u001b[39m\u001b[38;5;124m\"\u001b[39m)\n",
      "File \u001b[0;32m/opt/mamba/lib/python3.10/site-packages/matplotlib/colors.py:505\u001b[0m, in \u001b[0;36mto_rgba_array\u001b[0;34m(c, alpha)\u001b[0m\n\u001b[1;32m    503\u001b[0m         rgba \u001b[38;5;241m=\u001b[39m np\u001b[38;5;241m.\u001b[39marray([to_rgba(cc) \u001b[38;5;28;01mfor\u001b[39;00m cc \u001b[38;5;129;01min\u001b[39;00m c])\n\u001b[1;32m    504\u001b[0m \u001b[38;5;28;01melse\u001b[39;00m:\n\u001b[0;32m--> 505\u001b[0m     rgba \u001b[38;5;241m=\u001b[39m np\u001b[38;5;241m.\u001b[39marray([to_rgba(cc) \u001b[38;5;28;01mfor\u001b[39;00m cc \u001b[38;5;129;01min\u001b[39;00m c])\n\u001b[1;32m    507\u001b[0m \u001b[38;5;28;01mif\u001b[39;00m alpha \u001b[38;5;129;01mis\u001b[39;00m \u001b[38;5;129;01mnot\u001b[39;00m \u001b[38;5;28;01mNone\u001b[39;00m:\n\u001b[1;32m    508\u001b[0m     rgba[:, \u001b[38;5;241m3\u001b[39m] \u001b[38;5;241m=\u001b[39m alpha\n",
      "File \u001b[0;32m/opt/mamba/lib/python3.10/site-packages/matplotlib/colors.py:505\u001b[0m, in \u001b[0;36m<listcomp>\u001b[0;34m(.0)\u001b[0m\n\u001b[1;32m    503\u001b[0m         rgba \u001b[38;5;241m=\u001b[39m np\u001b[38;5;241m.\u001b[39marray([to_rgba(cc) \u001b[38;5;28;01mfor\u001b[39;00m cc \u001b[38;5;129;01min\u001b[39;00m c])\n\u001b[1;32m    504\u001b[0m \u001b[38;5;28;01melse\u001b[39;00m:\n\u001b[0;32m--> 505\u001b[0m     rgba \u001b[38;5;241m=\u001b[39m np\u001b[38;5;241m.\u001b[39marray([\u001b[43mto_rgba\u001b[49m\u001b[43m(\u001b[49m\u001b[43mcc\u001b[49m\u001b[43m)\u001b[49m \u001b[38;5;28;01mfor\u001b[39;00m cc \u001b[38;5;129;01min\u001b[39;00m c])\n\u001b[1;32m    507\u001b[0m \u001b[38;5;28;01mif\u001b[39;00m alpha \u001b[38;5;129;01mis\u001b[39;00m \u001b[38;5;129;01mnot\u001b[39;00m \u001b[38;5;28;01mNone\u001b[39;00m:\n\u001b[1;32m    508\u001b[0m     rgba[:, \u001b[38;5;241m3\u001b[39m] \u001b[38;5;241m=\u001b[39m alpha\n",
      "File \u001b[0;32m/opt/mamba/lib/python3.10/site-packages/matplotlib/colors.py:302\u001b[0m, in \u001b[0;36mto_rgba\u001b[0;34m(c, alpha)\u001b[0m\n\u001b[1;32m    300\u001b[0m     rgba \u001b[38;5;241m=\u001b[39m \u001b[38;5;28;01mNone\u001b[39;00m\n\u001b[1;32m    301\u001b[0m \u001b[38;5;28;01mif\u001b[39;00m rgba \u001b[38;5;129;01mis\u001b[39;00m \u001b[38;5;28;01mNone\u001b[39;00m:  \u001b[38;5;66;03m# Suppress exception chaining of cache lookup failure.\u001b[39;00m\n\u001b[0;32m--> 302\u001b[0m     rgba \u001b[38;5;241m=\u001b[39m \u001b[43m_to_rgba_no_colorcycle\u001b[49m\u001b[43m(\u001b[49m\u001b[43mc\u001b[49m\u001b[43m,\u001b[49m\u001b[43m \u001b[49m\u001b[43malpha\u001b[49m\u001b[43m)\u001b[49m\n\u001b[1;32m    303\u001b[0m     \u001b[38;5;28;01mtry\u001b[39;00m:\n\u001b[1;32m    304\u001b[0m         _colors_full_map\u001b[38;5;241m.\u001b[39mcache[c, alpha] \u001b[38;5;241m=\u001b[39m rgba\n",
      "File \u001b[0;32m/opt/mamba/lib/python3.10/site-packages/matplotlib/colors.py:391\u001b[0m, in \u001b[0;36m_to_rgba_no_colorcycle\u001b[0;34m(c, alpha)\u001b[0m\n\u001b[1;32m    389\u001b[0m \u001b[38;5;66;03m# tuple color.\u001b[39;00m\n\u001b[1;32m    390\u001b[0m \u001b[38;5;28;01mif\u001b[39;00m \u001b[38;5;129;01mnot\u001b[39;00m np\u001b[38;5;241m.\u001b[39miterable(c):\n\u001b[0;32m--> 391\u001b[0m     \u001b[38;5;28;01mraise\u001b[39;00m \u001b[38;5;167;01mValueError\u001b[39;00m(\u001b[38;5;124mf\u001b[39m\u001b[38;5;124m\"\u001b[39m\u001b[38;5;124mInvalid RGBA argument: \u001b[39m\u001b[38;5;132;01m{\u001b[39;00morig_c\u001b[38;5;132;01m!r}\u001b[39;00m\u001b[38;5;124m\"\u001b[39m)\n\u001b[1;32m    392\u001b[0m \u001b[38;5;28;01mif\u001b[39;00m \u001b[38;5;28mlen\u001b[39m(c) \u001b[38;5;129;01mnot\u001b[39;00m \u001b[38;5;129;01min\u001b[39;00m [\u001b[38;5;241m3\u001b[39m, \u001b[38;5;241m4\u001b[39m]:\n\u001b[1;32m    393\u001b[0m     \u001b[38;5;28;01mraise\u001b[39;00m \u001b[38;5;167;01mValueError\u001b[39;00m(\u001b[38;5;124m\"\u001b[39m\u001b[38;5;124mRGBA sequence should have length 3 or 4\u001b[39m\u001b[38;5;124m\"\u001b[39m)\n",
      "\u001b[0;31mValueError\u001b[0m: Invalid RGBA argument: 3.0"
     ]
    },
    {
     "data": {
      "image/png": "[encoded data removed]",
      "text/plain": [
       "<Figure size 640x480 with 1 Axes>"
      ]
     },
     "metadata": {},
     "output_type": "display_data"
    }
   ],
   "source": [
    "#Pourcentage de chômage par niveau d'éducation et CSP\n",
    "plt.hist(EEC_2019[\"CSTOTR\"],bins=[i - 0.35 for i in range(0, 9)], weights = EEC_2019[\"EXTRIAN\"], align='mid',width=0.7, density=True, log=True, color=EEC_2019[\"ACTEU\"])\n",
    "plt.title('Fréquence du chômage en fonction de la catégorie socioprofessionnelle')\n",
    "plt.xticks(range(0,9), [\"Non-renseigné\",\"Agriculteurs\",\"Artisans, commerçants, chefs d'entreprise\",\"Cadres et professions intellectuelles supérieures\",\"Employés\",\"Ouvriers\",\"Inactifs ayant déja eu une activité pro\",\"Chômeurs et inactifs n'ayant jamais travaillé\",\"\"], rotation=45, ha=\"right\")\n",
    "plt.xlabel('Catégorie socioprofessionnelle')\n",
    "plt.ylabel('Fréquence')\n",
    "plt.show()"
   ]
  },
  {
   "cell_type": "code",
   "execution_count": 58,
   "id": "c851ac70-bcd3-4788-8892-35fcb1d00283",
   "metadata": {},
   "outputs": [
    {
     "data": {
      "text/plain": [
       "(['Non-renseigné',\n",
       "  'Agriculteurs',\n",
       "  \"Artisans, commerçants, chefs d'entreprise\",\n",
       "  'Cadres et professions intellectuelles supérieures',\n",
       "  'Employés',\n",
       "  'Ouvriers',\n",
       "  'Inactifs ayant déjà eu une activité pro',\n",
       "  \"Chômeurs et inactifs n'ayant jamais travaillé\",\n",
       "  'NA'],\n",
       " array([ 8.,  6.,  7.,  4.,  3.,  5.,  1.,  2.,  0., nan]))"
      ]
     },
     "execution_count": 58,
     "metadata": {},
     "output_type": "execute_result"
    }
   ],
   "source": [
    "categories, value"
   ]
  },
  {
   "cell_type": "code",
   "execution_count": 59,
   "id": "9a372e87-0afb-4aa3-9fb2-10c0a435e6ce",
   "metadata": {},
   "outputs": [
    {
     "data": {
      "text/html": [
       "<div>\n",
       "<style scoped>\n",
       "    .dataframe tbody tr th:only-of-type {\n",
       "        vertical-align: middle;\n",
       "    }\n",
       "\n",
       "    .dataframe tbody tr th {\n",
       "        vertical-align: top;\n",
       "    }\n",
       "\n",
       "    .dataframe thead th {\n",
       "        text-align: right;\n",
       "    }\n",
       "</style>\n",
       "<table border=\"1\" class=\"dataframe\">\n",
       "  <thead>\n",
       "    <tr style=\"text-align: right;\">\n",
       "      <th></th>\n",
       "      <th>CSTOTR</th>\n",
       "      <th>Effectif_emploi</th>\n",
       "      <th>Effectif_chom</th>\n",
       "    </tr>\n",
       "  </thead>\n",
       "  <tbody>\n",
       "    <tr>\n",
       "      <th>0</th>\n",
       "      <td>0.0</td>\n",
       "      <td>120715.0</td>\n",
       "      <td>12660.0</td>\n",
       "    </tr>\n",
       "    <tr>\n",
       "      <th>1</th>\n",
       "      <td>1.0</td>\n",
       "      <td>403572.0</td>\n",
       "      <td>4811.0</td>\n",
       "    </tr>\n",
       "    <tr>\n",
       "      <th>2</th>\n",
       "      <td>2.0</td>\n",
       "      <td>1825004.0</td>\n",
       "      <td>75003.0</td>\n",
       "    </tr>\n",
       "    <tr>\n",
       "      <th>3</th>\n",
       "      <td>3.0</td>\n",
       "      <td>5240635.0</td>\n",
       "      <td>191348.0</td>\n",
       "    </tr>\n",
       "    <tr>\n",
       "      <th>4</th>\n",
       "      <td>4.0</td>\n",
       "      <td>6957339.0</td>\n",
       "      <td>345401.0</td>\n",
       "    </tr>\n",
       "    <tr>\n",
       "      <th>5</th>\n",
       "      <td>5.0</td>\n",
       "      <td>7291505.0</td>\n",
       "      <td>737501.0</td>\n",
       "    </tr>\n",
       "    <tr>\n",
       "      <th>6</th>\n",
       "      <td>6.0</td>\n",
       "      <td>5337259.0</td>\n",
       "      <td>752857.0</td>\n",
       "    </tr>\n",
       "    <tr>\n",
       "      <th>7</th>\n",
       "      <td>7.0</td>\n",
       "      <td>0.0</td>\n",
       "      <td>0.0</td>\n",
       "    </tr>\n",
       "    <tr>\n",
       "      <th>8</th>\n",
       "      <td>8.0</td>\n",
       "      <td>0.0</td>\n",
       "      <td>386600.0</td>\n",
       "    </tr>\n",
       "    <tr>\n",
       "      <th>9</th>\n",
       "      <td>NaN</td>\n",
       "      <td>0.0</td>\n",
       "      <td>0.0</td>\n",
       "    </tr>\n",
       "  </tbody>\n",
       "</table>\n",
       "</div>"
      ],
      "text/plain": [
       "   CSTOTR  Effectif_emploi  Effectif_chom\n",
       "0     0.0         120715.0        12660.0\n",
       "1     1.0         403572.0         4811.0\n",
       "2     2.0        1825004.0        75003.0\n",
       "3     3.0        5240635.0       191348.0\n",
       "4     4.0        6957339.0       345401.0\n",
       "5     5.0        7291505.0       737501.0\n",
       "6     6.0        5337259.0       752857.0\n",
       "7     7.0              0.0            0.0\n",
       "8     8.0              0.0       386600.0\n",
       "9     NaN              0.0            0.0"
      ]
     },
     "execution_count": 59,
     "metadata": {},
     "output_type": "execute_result"
    }
   ],
   "source": [
    "#Catégories possibles\n",
    "categories = [\"Non-renseigné\", \"Agriculteurs\", \"Artisans, commerçants, chefs d'entreprise\", \"Cadres et professions intellectuelles supérieures\", \"Professions intermédiaires\", \"Employés\", \"Ouvriers\", \"Inactifs ayant déjà eu une activité pro\", \"Chômeurs et inactifs n'ayant jamais travaillé\", \"NA\"]\n",
    "value = EEC_2019[\"CSTOTR\"].unique()\n",
    "\n",
    "#tableau avec CSTOR/Effectif en emploi/Effectif chômeur tout cela pondéré par EXTRIAN\n",
    "result_dict = {\"CSTOTR\": value, 'Effectif_emploi': [], 'Effectif_chom':[]}  #à chaque valeur on associe la somme des occurences pondérées\n",
    "for val in value :\n",
    "    somme_pond_E = EEC_2019[(EEC_2019[\"CSTOTR\"] == val) & (EEC_2019[\"ACTEU\"]==1)][\"EXTRIAN\"].sum()\n",
    "    somme_pond_C = EEC_2019[(EEC_2019[\"CSTOTR\"] == val)& (EEC_2019[\"ACTEU\"]==2)][\"EXTRIAN\"].sum()\n",
    "    result_dict['Effectif_emploi'].append(round(somme_pond_E,0))\n",
    "    result_dict['Effectif_chom'].append(round(somme_pond_C,0))\n",
    "data = pd.DataFrame(result_dict).sort_values(by=\"CSTOTR\").reset_index(drop=True)\n",
    "data"
   ]
  },
  {
   "cell_type": "code",
   "execution_count": 64,
   "id": "623eb8a1-8797-44fb-8c75-9945e12a0ff2",
   "metadata": {},
   "outputs": [
    {
     "data": {
      "image/png": "[encoded data removed]",
      "text/plain": [
       "<Figure size 640x480 with 1 Axes>"
      ]
     },
     "metadata": {},
     "output_type": "display_data"
    }
   ],
   "source": [
    "\n",
    "plt.bar(data[\"CSTOTR\"],data[\"Effectif_chom\"], color='orange', label='Chômeurs')\n",
    "plt.bar(data[\"CSTOTR\"],data[\"Effectif_emploi\"], color='blue', label='Au travail', bottom=data[\"Effectif_chom\"])\n",
    "plt.title('Fréquence du chômage en fonction de la catégorie socioprofessionnelle')\n",
    "plt.xlabel('Catégorie socioprofessionnelle')\n",
    "plt.ylabel('Effectif')\n",
    "plt.xticks(data[\"CSTOTR\"],categories, rotation=45, ha='right')\n",
    "plt.legend()\n",
    "plt.show()"
   ]
  },
  {
   "cell_type": "markdown",
   "id": "8f9e8d36-f431-41b9-9ae4-ee0edf1e6dac",
   "metadata": {},
   "source": [
    "# PCA"
   ]
  },
  {
   "cell_type": "markdown",
   "id": "db05903a-eaa7-4ea9-a8d6-91a984571f67",
   "metadata": {},
   "source": [
    "Variables à inclure dans la matrice de variance-covariance : ACTEU, SEXE,DIP11, type de ménages, CSTOTR, NFRRED,NBTOTE (heures travaillées usuellement) HPLUSA (nombre d'heures voulues), implication dans la recherche (CONTACT,DEM),accepterait temps partiel, ANCCHOM, AGE5, AIDFAM, CATAU2010R ruralité, COURED ENFRED couple"
   ]
  },
  {
   "cell_type": "markdown",
   "id": "3bf15900-1ed6-43dc-867f-cddc417a6917",
   "metadata": {},
   "source": [
    "## Normalisation"
   ]
  },
  {
   "cell_type": "markdown",
   "id": "fce855e6-3253-4a75-af7e-df6ddd56d464",
   "metadata": {},
   "source": [
    "Variables à transformer en indicatrices (attention ne pas mettre toutes les catégories) : ACTEU DIP11, CSTOTR, NFRRED, AGE5, CATAU2010R + plus variables à régler en 0,1\n",
    "\n",
    "Variables à normaliser : NBTOTE, HPLUSA, ANNCHOM (mettre unité)"
   ]
  },
  {
   "cell_type": "code",
   "execution_count": 94,
   "id": "17c9aff6-9a54-4467-b390-f9ff7a9efecd",
   "metadata": {},
   "outputs": [
    {
     "data": {
      "text/html": [
       "<div>\n",
       "<style scoped>\n",
       "    .dataframe tbody tr th:only-of-type {\n",
       "        vertical-align: middle;\n",
       "    }\n",
       "\n",
       "    .dataframe tbody tr th {\n",
       "        vertical-align: top;\n",
       "    }\n",
       "\n",
       "    .dataframe thead th {\n",
       "        text-align: right;\n",
       "    }\n",
       "</style>\n",
       "<table border=\"1\" class=\"dataframe\">\n",
       "  <thead>\n",
       "    <tr style=\"text-align: right;\">\n",
       "      <th></th>\n",
       "      <th>EXTRIAN</th>\n",
       "      <th>ACTEU</th>\n",
       "      <th>SEXE</th>\n",
       "      <th>DIP11</th>\n",
       "      <th>CSTOTR</th>\n",
       "      <th>NFRRED</th>\n",
       "      <th>NBTOTE</th>\n",
       "      <th>HPLUSA</th>\n",
       "      <th>CONTACT</th>\n",
       "      <th>DEM</th>\n",
       "      <th>ANCCHOM</th>\n",
       "      <th>AGE5</th>\n",
       "      <th>AIDFAM</th>\n",
       "      <th>CATAU2010R</th>\n",
       "      <th>COURED</th>\n",
       "      <th>ENFRED</th>\n",
       "    </tr>\n",
       "  </thead>\n",
       "  <tbody>\n",
       "    <tr>\n",
       "      <th>0</th>\n",
       "      <td>46.173848</td>\n",
       "      <td>1.0</td>\n",
       "      <td>1</td>\n",
       "      <td>50.0</td>\n",
       "      <td>6.0</td>\n",
       "      <td>1.0</td>\n",
       "      <td>NaN</td>\n",
       "      <td>NaN</td>\n",
       "      <td>NaN</td>\n",
       "      <td>0.0</td>\n",
       "      <td>NaN</td>\n",
       "      <td>60</td>\n",
       "      <td>NaN</td>\n",
       "      <td>1</td>\n",
       "      <td>1</td>\n",
       "      <td>2</td>\n",
       "    </tr>\n",
       "    <tr>\n",
       "      <th>1</th>\n",
       "      <td>44.329298</td>\n",
       "      <td>1.0</td>\n",
       "      <td>1</td>\n",
       "      <td>50.0</td>\n",
       "      <td>6.0</td>\n",
       "      <td>1.0</td>\n",
       "      <td>NaN</td>\n",
       "      <td>NaN</td>\n",
       "      <td>NaN</td>\n",
       "      <td>0.0</td>\n",
       "      <td>NaN</td>\n",
       "      <td>60</td>\n",
       "      <td>NaN</td>\n",
       "      <td>1</td>\n",
       "      <td>1</td>\n",
       "      <td>2</td>\n",
       "    </tr>\n",
       "    <tr>\n",
       "      <th>2</th>\n",
       "      <td>41.532486</td>\n",
       "      <td>1.0</td>\n",
       "      <td>1</td>\n",
       "      <td>50.0</td>\n",
       "      <td>6.0</td>\n",
       "      <td>1.0</td>\n",
       "      <td>NaN</td>\n",
       "      <td>NaN</td>\n",
       "      <td>NaN</td>\n",
       "      <td>0.0</td>\n",
       "      <td>NaN</td>\n",
       "      <td>60</td>\n",
       "      <td>NaN</td>\n",
       "      <td>1</td>\n",
       "      <td>1</td>\n",
       "      <td>2</td>\n",
       "    </tr>\n",
       "    <tr>\n",
       "      <th>3</th>\n",
       "      <td>32.747360</td>\n",
       "      <td>1.0</td>\n",
       "      <td>1</td>\n",
       "      <td>50.0</td>\n",
       "      <td>4.0</td>\n",
       "      <td>1.0</td>\n",
       "      <td>NaN</td>\n",
       "      <td>40.0</td>\n",
       "      <td>NaN</td>\n",
       "      <td>0.0</td>\n",
       "      <td>NaN</td>\n",
       "      <td>40</td>\n",
       "      <td>NaN</td>\n",
       "      <td>1</td>\n",
       "      <td>1</td>\n",
       "      <td>1</td>\n",
       "    </tr>\n",
       "    <tr>\n",
       "      <th>4</th>\n",
       "      <td>32.747360</td>\n",
       "      <td>1.0</td>\n",
       "      <td>2</td>\n",
       "      <td>33.0</td>\n",
       "      <td>4.0</td>\n",
       "      <td>1.0</td>\n",
       "      <td>NaN</td>\n",
       "      <td>NaN</td>\n",
       "      <td>NaN</td>\n",
       "      <td>0.0</td>\n",
       "      <td>NaN</td>\n",
       "      <td>40</td>\n",
       "      <td>NaN</td>\n",
       "      <td>1</td>\n",
       "      <td>1</td>\n",
       "      <td>1</td>\n",
       "    </tr>\n",
       "    <tr>\n",
       "      <th>5</th>\n",
       "      <td>166.662079</td>\n",
       "      <td>1.0</td>\n",
       "      <td>1</td>\n",
       "      <td>10.0</td>\n",
       "      <td>4.0</td>\n",
       "      <td>3.0</td>\n",
       "      <td>NaN</td>\n",
       "      <td>NaN</td>\n",
       "      <td>NaN</td>\n",
       "      <td>0.0</td>\n",
       "      <td>NaN</td>\n",
       "      <td>15</td>\n",
       "      <td>NaN</td>\n",
       "      <td>1</td>\n",
       "      <td>2</td>\n",
       "      <td>2</td>\n",
       "    </tr>\n",
       "    <tr>\n",
       "      <th>6</th>\n",
       "      <td>166.662079</td>\n",
       "      <td>1.0</td>\n",
       "      <td>2</td>\n",
       "      <td>10.0</td>\n",
       "      <td>3.0</td>\n",
       "      <td>3.0</td>\n",
       "      <td>NaN</td>\n",
       "      <td>NaN</td>\n",
       "      <td>NaN</td>\n",
       "      <td>0.0</td>\n",
       "      <td>NaN</td>\n",
       "      <td>15</td>\n",
       "      <td>NaN</td>\n",
       "      <td>1</td>\n",
       "      <td>2</td>\n",
       "      <td>2</td>\n",
       "    </tr>\n",
       "    <tr>\n",
       "      <th>7</th>\n",
       "      <td>216.015634</td>\n",
       "      <td>1.0</td>\n",
       "      <td>1</td>\n",
       "      <td>10.0</td>\n",
       "      <td>4.0</td>\n",
       "      <td>3.0</td>\n",
       "      <td>NaN</td>\n",
       "      <td>NaN</td>\n",
       "      <td>NaN</td>\n",
       "      <td>0.0</td>\n",
       "      <td>NaN</td>\n",
       "      <td>15</td>\n",
       "      <td>NaN</td>\n",
       "      <td>1</td>\n",
       "      <td>2</td>\n",
       "      <td>2</td>\n",
       "    </tr>\n",
       "    <tr>\n",
       "      <th>8</th>\n",
       "      <td>216.015634</td>\n",
       "      <td>1.0</td>\n",
       "      <td>2</td>\n",
       "      <td>10.0</td>\n",
       "      <td>3.0</td>\n",
       "      <td>3.0</td>\n",
       "      <td>NaN</td>\n",
       "      <td>NaN</td>\n",
       "      <td>NaN</td>\n",
       "      <td>0.0</td>\n",
       "      <td>NaN</td>\n",
       "      <td>15</td>\n",
       "      <td>NaN</td>\n",
       "      <td>1</td>\n",
       "      <td>2</td>\n",
       "      <td>2</td>\n",
       "    </tr>\n",
       "    <tr>\n",
       "      <th>9</th>\n",
       "      <td>231.257688</td>\n",
       "      <td>1.0</td>\n",
       "      <td>1</td>\n",
       "      <td>10.0</td>\n",
       "      <td>4.0</td>\n",
       "      <td>3.0</td>\n",
       "      <td>NaN</td>\n",
       "      <td>NaN</td>\n",
       "      <td>NaN</td>\n",
       "      <td>0.0</td>\n",
       "      <td>NaN</td>\n",
       "      <td>15</td>\n",
       "      <td>NaN</td>\n",
       "      <td>1</td>\n",
       "      <td>2</td>\n",
       "      <td>2</td>\n",
       "    </tr>\n",
       "  </tbody>\n",
       "</table>\n",
       "</div>"
      ],
      "text/plain": [
       "      EXTRIAN  ACTEU  SEXE  DIP11  CSTOTR  NFRRED  NBTOTE  HPLUSA  CONTACT  \\\n",
       "0   46.173848    1.0     1   50.0     6.0     1.0     NaN     NaN      NaN   \n",
       "1   44.329298    1.0     1   50.0     6.0     1.0     NaN     NaN      NaN   \n",
       "2   41.532486    1.0     1   50.0     6.0     1.0     NaN     NaN      NaN   \n",
       "3   32.747360    1.0     1   50.0     4.0     1.0     NaN    40.0      NaN   \n",
       "4   32.747360    1.0     2   33.0     4.0     1.0     NaN     NaN      NaN   \n",
       "5  166.662079    1.0     1   10.0     4.0     3.0     NaN     NaN      NaN   \n",
       "6  166.662079    1.0     2   10.0     3.0     3.0     NaN     NaN      NaN   \n",
       "7  216.015634    1.0     1   10.0     4.0     3.0     NaN     NaN      NaN   \n",
       "8  216.015634    1.0     2   10.0     3.0     3.0     NaN     NaN      NaN   \n",
       "9  231.257688    1.0     1   10.0     4.0     3.0     NaN     NaN      NaN   \n",
       "\n",
       "   DEM  ANCCHOM  AGE5  AIDFAM  CATAU2010R  COURED  ENFRED  \n",
       "0  0.0      NaN    60     NaN           1       1       2  \n",
       "1  0.0      NaN    60     NaN           1       1       2  \n",
       "2  0.0      NaN    60     NaN           1       1       2  \n",
       "3  0.0      NaN    40     NaN           1       1       1  \n",
       "4  0.0      NaN    40     NaN           1       1       1  \n",
       "5  0.0      NaN    15     NaN           1       2       2  \n",
       "6  0.0      NaN    15     NaN           1       2       2  \n",
       "7  0.0      NaN    15     NaN           1       2       2  \n",
       "8  0.0      NaN    15     NaN           1       2       2  \n",
       "9  0.0      NaN    15     NaN           1       2       2  "
      ]
     },
     "execution_count": 94,
     "metadata": {},
     "output_type": "execute_result"
    }
   ],
   "source": [
    "#Création d'une base avec uniquement ACTEU = 1 ou 2 (en emploi ou chômeur)\n",
    "EEC_PCA=EEC_2019[(EEC_2019[\"ACTEU\"]==1) | (EEC_2019[\"ACTEU\"]==2)]\n",
    "EEC_PCA=pd.DataFrame(EEC_PCA[[\"EXTRIAN\",\"ACTEU\",\"SEXE\",\"DIP11\",\"CSTOTR\",\"NFRRED\",\"NBTOTE\",\"HPLUSA\",\"CONTACT\",\"DEM\",\n",
    "\"ANCCHOM\",\"AGE5\",\"AIDFAM\",\"CATAU2010R\",\"COURED\",\"ENFRED\"]]).reset_index(drop=True)\n",
    "EEC_PCA.head(10)"
   ]
  },
  {
   "cell_type": "code",
   "execution_count": 95,
   "id": "34328127-cac8-4d09-8693-fe45cce20854",
   "metadata": {},
   "outputs": [
    {
     "data": {
      "text/plain": [
       "ACTEU\n",
       "1.0    193051\n",
       "2.0     18602\n",
       "Name: count, dtype: int64"
      ]
     },
     "execution_count": 95,
     "metadata": {},
     "output_type": "execute_result"
    }
   ],
   "source": [
    "#ACTEU\n",
    "EEC_PCA.loc[EEC_PCA[\"ACTEU\"]==1, \"ACTEU_bin\"]=0\n",
    "EEC_PCA.loc[EEC_PCA[\"ACTEU\"]==2, \"ACTEU_bin\"]=1"
   ]
  },
  {
   "cell_type": "code",
   "execution_count": 103,
   "id": "e692784d-f9c1-4df1-b122-adb5e787269f",
   "metadata": {},
   "outputs": [
    {
     "data": {
      "text/plain": [
       "sup\n",
       "0    160038\n",
       "1     51615\n",
       "Name: count, dtype: int64"
      ]
     },
     "execution_count": 103,
     "metadata": {},
     "output_type": "execute_result"
    }
   ],
   "source": [
    "#DIP11 que l'on va séparer en indicatrices pour enseignement sup, secondaire et en dessous\n",
    "EEC_PCA[\"infcollege\"]=0 #infcollege = aucun diplome, certif d'études, brevet\n",
    "EEC_PCA.loc[EEC_PCA[\"DIP11\"].isin([71,70,60]), \"infcollege\"]=1\n",
    "\n",
    "EEC_PCA[\"secondaireplus\"]=0 #secondaire plus = secondaire + BTS et DUT...\n",
    "EEC_PCA.loc[EEC_PCA[\"DIP11\"].isin([50,42,41,33,31]), \"secondaireplus\"]=1\n",
    "\n",
    "EEC_PCA[\"sup\"]=0 #le reste\n",
    "EEC_PCA.loc[EEC_PCA[\"DIP11\"].isin([30,11,10]), \"sup\"]=1"
   ]
  },
  {
   "cell_type": "code",
   "execution_count": null,
   "id": "8e3a738a-87f5-4a36-95d7-496dec193c37",
   "metadata": {},
   "outputs": [],
   "source": [
    "#SEXE (0 = H, 1 = F)"
   ]
  },
  {
   "cell_type": "markdown",
   "id": "dc52c19f-433d-49be-9d71-b0746c8921e7",
   "metadata": {},
   "source": [
    "## Matrice de covariances"
   ]
  },
  {
   "cell_type": "code",
   "execution_count": 69,
   "id": "7bba24c2-740b-49d0-9583-8c0c3f63b238",
   "metadata": {},
   "outputs": [
    {
     "data": {
      "text/plain": [
       "count    211653.000000\n",
       "mean          1.087889\n",
       "std           0.283134\n",
       "min           1.000000\n",
       "25%           1.000000\n",
       "50%           1.000000\n",
       "75%           1.000000\n",
       "max           2.000000\n",
       "Name: ACTEU, dtype: float64"
      ]
     },
     "execution_count": 69,
     "metadata": {},
     "output_type": "execute_result"
    }
   ],
   "source": []
  },
  {
   "cell_type": "markdown",
   "id": "4df2760d-4220-4fe4-857d-22fc9c9c782f",
   "metadata": {},
   "source": [
    "## PCA"
   ]
  },
  {
   "cell_type": "code",
   "execution_count": null,
   "id": "985bcbe0-16cb-4546-9a1d-403680d6a803",
   "metadata": {},
   "outputs": [],
   "source": []
  },
  {
   "cell_type": "markdown",
   "id": "5b2b6a08-1c4a-4408-a370-170f8c41fc73",
   "metadata": {
    "jp-MarkdownHeadingCollapsed": true
   },
   "source": [
    "# Modélisation"
   ]
  },
  {
   "cell_type": "code",
   "execution_count": null,
   "id": "aef38744-9012-49cc-9694-a086980b25e7",
   "metadata": {},
   "outputs": [],
   "source": [
    "# Choisit un set de variables qui ne comprend que données sociodémographiques, géographiques associées à l'individu\n",
    "# et au ménage étudié + qui soit disponible sur les deux années étudiées\n",
    "\n",
    "# Var d'interet -> ACTEU\n",
    "\n",
    "# Var explicatives : AGE3 ;  AGE5 ; ANNEE ;TRIM ;  CATAU2010R ; COURED ; CSTOT (pour avoir actifs et inactifs) ;CSTOTR ;\n",
    "# CSTOTPRM ; DIP11; ENFRED ; METRODOM ; NFRRED ; SEXE ; TYPMEN7 \n",
    "\n",
    "# USE? -> AIDFAM , CHPUB?? (Employeur de la profession principale?), EXTRIAN? (pondération)\n",
    "\n",
    "# Meme si les variables sont colinéaires (AGE3, AGE5), on peut les garder et faire en sorte que le predicteur\n",
    "# choisisse la plus pertinente\n",
    "\n",
    "list_var_selected = [\"ACTEU\",\"ANNEE\" ,\"TRIM\", \"AGE3\" ,  \"AGE5\"  , \"CATAU2010R\" ,\n",
    "\"COURED\" ,\"CSTOT\" ,\"CSTOTR\" ,\"CSTOTPRM\" , \"DIP11\",\"ENFRED\" , \"METRODOM\" , \"NFRRED\" , \"SEXE\" , \"TYPMEN7\"]\n",
    "\n",
    "EEC_2019 = EEC_2019[list_var_selected]\n",
    "EEC_2020 = EEC_2020[list_var_selected]\n",
    "\n",
    "list_var = list(EEC_2019.columns.values)\n",
    "print(list_var)\n",
    "\n",
    "EEC_2019 = EEC_2019[EEC_2019['TRIM'] ==1]\n",
    "EEC_2020 = EEC_2020[EEC_2020['TRIM'] ==4]\n",
    "\n",
    "# This method does not remove any observations here which indicates that there isn't any missing values in any variables\n",
    "EEC_2019.dropna() \n",
    "EEC_2020.dropna() \n",
    "\n",
    "EEC_2019_subsample = EEC_2019.sample(n=1000, random_state=3) \n",
    "\n"
   ]
  },
  {
   "cell_type": "code",
   "execution_count": null,
   "id": "9e458235-6217-4cbe-80f5-d5cd808d3ef6",
   "metadata": {},
   "outputs": [],
   "source": [
    "import numpy as np\n",
    "import matplotlib.pyplot as plt\n",
    "\n",
    "X = np.array(EEC_2019_subsample.drop(columns=[\"ACTEU\",\"ANNEE\", \"TRIM\"]))\n",
    "X.shape\n",
    "n_features = X.shape[1]\n",
    "\n",
    "y = np.array(EEC_2019_subsample[\"ACTEU\"])\n",
    "# convert \"Chomage\" in 1 and the other labels (here, \"Inactif\", \"Actif occupé\") into 1\n",
    "y = np.where(y==2, 1, 0)\n",
    "y.shape\n",
    "\n",
    "# ATTENTION -> TRANSFORMATION EN ARRAY SEMBLE INTRODUIRE DES NA? PAS BCP MAIS COMPRENDRE PQ\n"
   ]
  },
  {
   "cell_type": "markdown",
   "id": "acf6d4e2-869c-4899-9915-1b5cde3eb64a",
   "metadata": {},
   "source": [
    "## Partie I: Preparation des données"
   ]
  },
  {
   "cell_type": "code",
   "execution_count": null,
   "id": "8697dcf9-d388-4440-ae89-4441207bf865",
   "metadata": {},
   "outputs": [],
   "source": [
    "from sklearn.model_selection import train_test_split\n",
    "X_train, X_test, y_train, y_test = train_test_split(X, \n",
    "                                                    y, \n",
    "                                                    test_size=.2)"
   ]
  },
  {
   "cell_type": "code",
   "execution_count": null,
   "id": "baeb637e-a210-4bb0-8ff5-20a44d84967f",
   "metadata": {},
   "outputs": [],
   "source": [
    "from sklearn.preprocessing import StandardScaler\n",
    "\n",
    "std_scale = StandardScaler().fit(X_train)\n",
    "X_train_scaled = std_scale.transform(X_train)\n",
    "X_test_scaled = std_scale.transform(X_test)\n",
    "\n",
    "print(X_test_scaled.shape)\n",
    "\n",
    "# Identify rows with NaN values\n",
    "nan_rows_train = np.isnan(X_train_scaled).any(axis=1)\n",
    "# Remove rows with NaN values from both X_train_scaled and y_train\n",
    "X_train_scaled = X_train_scaled[~nan_rows_train]\n",
    "y_train = y_train[~nan_rows_train]\n",
    "\n",
    "# Repeat the process for X_test_scaled and y_test\n",
    "nan_rows_test = np.isnan(X_test_scaled).any(axis=1)\n",
    "X_test_scaled = X_test_scaled[~nan_rows_test]\n",
    "y_test = y_test[~nan_rows_test]\n",
    "\n",
    "print(X_test_scaled.shape)\n",
    "\n",
    "# Suppression d'un nombre très réduit d'observations"
   ]
  },
  {
   "cell_type": "markdown",
   "id": "ea46bb13-b54a-4f50-a23e-1463c0327a1b",
   "metadata": {},
   "source": [
    "On normalise nos données de train car les algorithmes apprennent mieux sur ce type de données"
   ]
  },
  {
   "cell_type": "markdown",
   "id": "adbb28ea-826e-425a-b29e-1fbbe82f8d9a",
   "metadata": {
    "jp-MarkdownHeadingCollapsed": true
   },
   "source": [
    "## Partie II : Support Vector Machine"
   ]
  },
  {
   "cell_type": "code",
   "execution_count": null,
   "id": "8361594f-4143-46dc-82d5-b11503f83b0e",
   "metadata": {},
   "outputs": [],
   "source": [
    "from sklearn.svm import SVC\n",
    "#SVC est le modèle SVM permettant la classification\n",
    "\n",
    "acc_train, acc_test = list(), list()\n",
    "\n",
    "C_range = np.linspace(0.01, 1, 20)\n",
    "for param in C_range:\n",
    "    clf = SVC( C=param)\n",
    "    clf.fit(X_train_scaled, y_train)\n",
    "    acc_train.append(clf.score(X_train_scaled, y_train))\n",
    "    acc_test.append(clf.score(X_test_scaled, y_test))\n"
   ]
  },
  {
   "cell_type": "markdown",
   "id": "69e1a734-449b-4bac-a17f-3de132c6231e",
   "metadata": {},
   "source": [
    "On choisit un modèle RBF car on ne connait pas la forme de la séparation dans nos données.\n",
    "On entraine un premier classifieur SVM sur le jeu de données et on test plusieurs valeurs de C qui mesurent le niveau de régularisation (petites valeurs de C pour beaucoup régulariser).\n"
   ]
  },
  {
   "cell_type": "code",
   "execution_count": null,
   "id": "6410f2fb-fb38-46e7-bb1b-474bee0c1236",
   "metadata": {},
   "outputs": [],
   "source": [
    "plt.figure(figsize=(10, 5))\n",
    "\n",
    "plt.plot(C_range, acc_train, label='train set', lw=4)\n",
    "plt.plot(C_range, acc_test, label='test set', lw=4)\n",
    "\n",
    "plt.legend(loc='best', fontsize=12)\n",
    "\n",
    "plt.xlabel(\"C\", fontweight=\"bold\", fontsize=20)\n",
    "plt.ylabel(\"Performance\", fontweight=\"bold\", fontsize=20)\n",
    "plt.xticks(fontweight=\"bold\", fontsize=15)\n",
    "plt.yticks(fontweight=\"bold\", fontsize=15)\n",
    "plt.tight_layout()\n",
    "\n",
    "plt.show()"
   ]
  },
  {
   "cell_type": "markdown",
   "id": "6784c01f-198a-4e83-853c-10285c7833cc",
   "metadata": {},
   "source": [
    "Le data-set compte peu de features par rapport au nombre d'observations.\n",
    "\n",
    "Je vais essayer la régression logistique qui effectue naturellement une selection de variables. C grandit -> pas de régularisatin"
   ]
  },
  {
   "cell_type": "markdown",
   "id": "4325542c-16ba-44a3-8d8c-16d6d59611b5",
   "metadata": {},
   "source": [
    " PB : Les résultats sont un peu bizarre car la performance sur le test set devrait évoluer quand C varie???\n"
   ]
  },
  {
   "cell_type": "markdown",
   "id": "64968301-a08c-4224-99ff-755ce1004cd5",
   "metadata": {
    "jp-MarkdownHeadingCollapsed": true
   },
   "source": [
    "## Partie III - Regression logistique"
   ]
  },
  {
   "cell_type": "code",
   "execution_count": null,
   "id": "a9c36000-bd5a-4607-b2ae-078764089f11",
   "metadata": {},
   "outputs": [],
   "source": [
    "from sklearn.model_selection import GridSearchCV\n",
    "import warnings\n",
    "from sklearn.linear_model import LogisticRegression\n",
    "\n",
    "warnings.filterwarnings(\"ignore\", category=FutureWarning)\n",
    "\n",
    "params= { 'C':[ 0.000001,0.001, 50]}\n",
    "\n",
    "# j'essaie des valeurs de C très faible pour régulariser un maximum\n",
    "\n",
    "lr =LogisticRegression(penalty='l2', dual=False, tol=0.0001, C=1.0, fit_intercept=True, \n",
    "                   intercept_scaling=1, class_weight=None, random_state=3, solver='liblinear',\n",
    "                   max_iter=100, multi_class='auto', verbose=0, warm_start=False, n_jobs=None,\n",
    "                   l1_ratio=None)\n",
    "\n",
    "# On découpe notre échantillon en 5 pour la cross-validation \n",
    "\n",
    "gs = GridSearchCV(estimator=lr, \n",
    "                   param_grid=params,\n",
    "                   cv=5)\n",
    "\n",
    "gs.fit(X_train_scaled, y_train)\n",
    "\n",
    "print(gs.best_params_)\n",
    "print(gs.score(X_train_scaled, y_train))\n",
    "print(gs.score(X_test_scaled, y_test))"
   ]
  },
  {
   "cell_type": "markdown",
   "id": "7552052a-7e83-48e2-9c58-1772fd4fe854",
   "metadata": {},
   "source": [
    "ATTENTION -> Best paramètre est toujours celui avec la régularisation la + forte -> ici C ~ 0 => BIZARRE"
   ]
  },
  {
   "cell_type": "code",
   "execution_count": null,
   "id": "6186e8d4-c3ba-48a7-a26e-60b8b0b5ad7a",
   "metadata": {},
   "outputs": [],
   "source": [
    "acc_train, acc_test = list(), list()\n",
    "C_range = np.linspace(0.01, 0.1, 20)\n",
    "for param in C_range:\n",
    "    clf = LogisticRegression(penalty='l1', dual=False, tol=0.0001, C=param, fit_intercept=True, \n",
    "                   intercept_scaling=1, class_weight=None, random_state=3, solver='liblinear',\n",
    "                   max_iter=100, multi_class='auto', verbose=0, warm_start=False, n_jobs=None,\n",
    "                   l1_ratio=None)\n",
    "    \n",
    "    clf.fit(X_train_scaled, y_train)\n",
    "    acc_train.append(clf.score(X_train_scaled, y_train))\n",
    "    acc_test.append(clf.score(X_test_scaled, y_test))"
   ]
  },
  {
   "cell_type": "code",
   "execution_count": null,
   "id": "2e8312a3-7a1a-4885-981c-fd95a7e4fa0a",
   "metadata": {},
   "outputs": [],
   "source": [
    "plt.figure(figsize=(10, 5))\n",
    "\n",
    "plt.plot(C_range, acc_train, label='train set', lw=4)\n",
    "plt.plot(C_range, acc_test, label='test set', lw=4)\n",
    "\n",
    "plt.legend(loc='best', fontsize=12)\n",
    "\n",
    "plt.xlabel(\"C\", fontweight=\"bold\", fontsize=20)\n",
    "plt.ylabel(\"Performance\", fontweight=\"bold\", fontsize=20)\n",
    "plt.xticks(fontweight=\"bold\", fontsize=15)\n",
    "plt.yticks(fontweight=\"bold\", fontsize=15)\n",
    "plt.tight_layout()\n",
    "\n",
    "plt.show()\n"
   ]
  },
  {
   "cell_type": "markdown",
   "id": "b2c4a616-b793-4909-946c-de22e43c4989",
   "metadata": {
    "jp-MarkdownHeadingCollapsed": true
   },
   "source": [
    "## Partie IV : Selections de variables"
   ]
  },
  {
   "cell_type": "code",
   "execution_count": null,
   "id": "845d0acf-b17e-46e3-b7ca-422365b244df",
   "metadata": {},
   "outputs": [],
   "source": [
    "print(X[:100]) "
   ]
  },
  {
   "cell_type": "code",
   "execution_count": null,
   "id": "56011860-33a9-4c8f-9d92-c3cb4dd7b5c5",
   "metadata": {},
   "outputs": [],
   "source": [
    "\n",
    "from sklearn.linear_model import LassoCV\n",
    "from sklearn.feature_selection import SelectFromModel\n",
    "\n",
    "# Identify rows with NaN values\n",
    "nan_rows_train = np.isnan(X).any(axis=1)\n",
    "# Remove rows with NaN values from both X_train_scaled and y_train\n",
    "X_corrected = X[~nan_rows_train]\n",
    "y_corrected = y[~nan_rows_train]\n",
    "\n",
    "clf = LassoCV()\n",
    "\n",
    "sfm = SelectFromModel(clf, threshold=None, prefit=False, norm_order=1, max_features=10)\n",
    "# Je m'impose un maximum de 10 features\n",
    "\n",
    "sfm.fit(X_corrected,y_corrected)\n",
    "X_transform = sfm.transform(X_corrected)\n",
    "print(X_transform.shape)"
   ]
  },
  {
   "cell_type": "markdown",
   "id": "16f05135-4391-41c1-b6a7-ceb3dcb22255",
   "metadata": {},
   "source": [
    "Nous allons tester les performances de la regression logistique sur ce nouveau dataset"
   ]
  },
  {
   "cell_type": "code",
   "execution_count": null,
   "id": "61fb0f02-5186-44ff-ae9c-b47730f6d48b",
   "metadata": {},
   "outputs": [],
   "source": [
    "X_train_2, X_test_2, y_train_2, y_test_2 = train_test_split(X_transform, \n",
    "                                                    y, \n",
    "                                                    test_size=.2)\n",
    "\n",
    "print(X_train_2.shape)\n",
    "\n",
    "std_scale = StandardScaler().fit(X_train_2)\n",
    "X_train_scaled_2 = std_scale.transform(X_train_2)\n",
    "X_test_scaled_2 = std_scale.transform(X_test_2)\n",
    "from sklearn.linear_model import LogisticRegression\n",
    "\n",
    "acc_train, acc_test = list(), list()\n",
    "C_range = np.linspace(0.1, 5, 20)\n",
    "for param in C_range:\n",
    "    clf = LogisticRegression(penalty='l2', dual=False, tol=0.001, C=param, fit_intercept=True, \n",
    "                   intercept_scaling=1, class_weight=None, random_state=3, solver='liblinear',\n",
    "                   max_iter=100, multi_class='auto', verbose=0, warm_start=False, n_jobs=None,\n",
    "                   l1_ratio=None)\n",
    "    \n",
    "    clf.fit(X_train_scaled_2, y_train_2)\n",
    "    acc_train.append(clf.score(X_train_scaled_2, y_train_2))\n",
    "    acc_test.append(clf.score(X_test_scaled_2, y_test_2))\n",
    "    \n",
    "plt.figure(figsize=(10, 5))\n",
    "\n",
    "plt.plot(C_range, acc_train, label='train set', lw=4)\n",
    "plt.plot(C_range, acc_test, label='test set', lw=4)\n",
    "\n",
    "plt.legend(loc='best', fontsize=12)\n",
    "\n",
    "plt.xlabel(\"C\", fontweight=\"bold\", fontsize=20)\n",
    "plt.ylabel(\"Performance\", fontweight=\"bold\", fontsize=20)\n",
    "plt.xticks(fontweight=\"bold\", fontsize=15)\n",
    "plt.yticks(fontweight=\"bold\", fontsize=15)\n",
    "plt.tight_layout()\n",
    "\n",
    "plt.show()\n",
    "\n",
    "\n",
    "params= { 'C':[0.001, 1, 2], 'penalty': ['l1','l2'],'tol': [0.001,0.0001,0.1] }\n",
    "\n",
    "# j'essaie des valeurs de C très faible pour régulariser un maximum\n",
    "\n",
    "lr =LogisticRegression( dual=False, fit_intercept=True, \n",
    "                   intercept_scaling=1, class_weight=None, random_state=3, solver='liblinear',\n",
    "                   max_iter=100, multi_class='auto', verbose=0, warm_start=False, n_jobs=None,\n",
    "                   l1_ratio=None)\n",
    "\n",
    "# On découpe notre échantillon en 3 pour la cross-validation (je pense qu'on peut difficilement faire plus car\n",
    "# nous ne possédons que 542 observations)\n",
    "\n",
    "gs = GridSearchCV(estimator=lr, \n",
    "                   param_grid=params,\n",
    "                   cv=3)\n",
    "\n",
    "gs.fit(X_train_scaled_2, y_train_2)\n",
    "\n",
    "print(gs.best_params_)\n",
    "print(gs.score(X_train_scaled_2, y_train_2))\n",
    "print(gs.score(X_test_scaled_2, y_test_2))\n"
   ]
  },
  {
   "cell_type": "markdown",
   "id": "8555a275-77cb-4afb-be20-8133b387ab84",
   "metadata": {},
   "source": [
    "Score baisse quand on impose un nombre fini de variables dans le modèle"
   ]
  }
 ],
 "metadata": {
  "kernelspec": {
   "display_name": "Python 3 (ipykernel)",
   "language": "python",
   "name": "python3"
  },
  "language_info": {
   "codemirror_mode": {
    "name": "ipython",
    "version": 3
   },
   "file_extension": ".py",
   "mimetype": "text/x-python",
   "name": "python",
   "nbconvert_exporter": "python",
   "pygments_lexer": "ipython3",
   "version": "3.10.13"
  }
 },
 "nbformat": 4,
 "nbformat_minor": 5
}

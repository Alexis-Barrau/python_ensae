{
 "cells": [
  {
   "cell_type": "code",
   "execution_count": 20,
   "id": "e0babe79-7030-40e6-bf08-31c98d7b056f",
   "metadata": {},
   "outputs": [],
   "source": [
    "import pandas as pd\n",
    "import requests\n",
    "from io import BytesIO #permet de stocker en mémoire\n",
    "from zipfile import ZipFile\n",
    "import matplotlib.pyplot as plt\n"
   ]
  },
  {
   "cell_type": "code",
   "execution_count": 4,
   "id": "5ccba860-7152-4ac8-9e6c-0d05d3a489a5",
   "metadata": {},
   "outputs": [],
   "source": [
    "url2019 = \"https://www.insee.fr/fr/statistiques/fichier/4809583/fd_eec19_csv.zip\" #enquete 2019\n",
    "url2020=\"https://www.insee.fr/fr/statistiques/fichier/5393560/fd_eec20_csv.zip\" #enquête 2020 en exemple\n",
    "\n",
    "# Télécharge le fichier ZIP\n",
    "requete = requests.get(url2019)\n",
    "zip_df = ZipFile(BytesIO(requete.content)) #créer un fichier ZIP\n",
    "\n",
    "# Extraire le fichier CSV du ZIP\n",
    "with zip_df.open(zip_df.namelist()[0]) as extrait:\n",
    "    EEC_2019 = pd.read_csv(extrait, delimiter=\";\") # Lire le fichier CSV avec pandas\n",
    "\n",
    "# Télécharge le fichier ZIP\n",
    "requete = requests.get(url2020)\n",
    "zip_df = ZipFile(BytesIO(requete.content)) #créer un fichier ZIP\n",
    "\n",
    "# Extraire le fichier CSV du ZIP\n",
    "with zip_df.open(zip_df.namelist()[0]) as extrait:\n",
    "    EEC_2020 = pd.read_csv(extrait, delimiter=\";\") # Lire le fichier CSV avec pandas"
   ]
  },
  {
   "cell_type": "markdown",
   "id": "da634a28-1d5d-454c-a9c5-30d724492902",
   "metadata": {},
   "source": [
    "## Statistique desc"
   ]
  },
  {
   "cell_type": "code",
   "execution_count": 8,
   "id": "e309a885-aabd-41a0-bcd7-e2ef5dae8552",
   "metadata": {},
   "outputs": [
    {
     "data": {
      "text/html": [
       "<div>\n",
       "<style scoped>\n",
       "    .dataframe tbody tr th:only-of-type {\n",
       "        vertical-align: middle;\n",
       "    }\n",
       "\n",
       "    .dataframe tbody tr th {\n",
       "        vertical-align: top;\n",
       "    }\n",
       "\n",
       "    .dataframe thead th {\n",
       "        text-align: right;\n",
       "    }\n",
       "</style>\n",
       "<table border=\"1\" class=\"dataframe\">\n",
       "  <thead>\n",
       "    <tr style=\"text-align: right;\">\n",
       "      <th></th>\n",
       "      <th>ANNEE</th>\n",
       "      <th>TRIM</th>\n",
       "      <th>CATAU2010R</th>\n",
       "      <th>METRODOM</th>\n",
       "      <th>TYPMEN7</th>\n",
       "      <th>AGE3</th>\n",
       "      <th>AGE5</th>\n",
       "      <th>COURED</th>\n",
       "      <th>ENFRED</th>\n",
       "      <th>NFRRED</th>\n",
       "      <th>...</th>\n",
       "      <th>DIP11</th>\n",
       "      <th>CSTOTPRM</th>\n",
       "      <th>IDENTM</th>\n",
       "      <th>EXTRIAN</th>\n",
       "      <th>EMPNBH</th>\n",
       "      <th>HREC</th>\n",
       "      <th>HHCE</th>\n",
       "      <th>HPLUSA</th>\n",
       "      <th>JOURTR</th>\n",
       "      <th>NBTOTE</th>\n",
       "    </tr>\n",
       "  </thead>\n",
       "  <tbody>\n",
       "    <tr>\n",
       "      <th>0</th>\n",
       "      <td>2019</td>\n",
       "      <td>1</td>\n",
       "      <td>1</td>\n",
       "      <td>1</td>\n",
       "      <td>1</td>\n",
       "      <td>50</td>\n",
       "      <td>60</td>\n",
       "      <td>2</td>\n",
       "      <td>2</td>\n",
       "      <td>1.0</td>\n",
       "      <td>...</td>\n",
       "      <td>70.0</td>\n",
       "      <td>86.0</td>\n",
       "      <td>1</td>\n",
       "      <td>107.749722</td>\n",
       "      <td>NaN</td>\n",
       "      <td>NaN</td>\n",
       "      <td>NaN</td>\n",
       "      <td>NaN</td>\n",
       "      <td>NaN</td>\n",
       "      <td>NaN</td>\n",
       "    </tr>\n",
       "    <tr>\n",
       "      <th>1</th>\n",
       "      <td>2019</td>\n",
       "      <td>2</td>\n",
       "      <td>1</td>\n",
       "      <td>1</td>\n",
       "      <td>3</td>\n",
       "      <td>50</td>\n",
       "      <td>60</td>\n",
       "      <td>1</td>\n",
       "      <td>2</td>\n",
       "      <td>1.0</td>\n",
       "      <td>...</td>\n",
       "      <td>50.0</td>\n",
       "      <td>64.0</td>\n",
       "      <td>2</td>\n",
       "      <td>46.173848</td>\n",
       "      <td>1.0</td>\n",
       "      <td>NaN</td>\n",
       "      <td>1.0</td>\n",
       "      <td>NaN</td>\n",
       "      <td>1.0</td>\n",
       "      <td>NaN</td>\n",
       "    </tr>\n",
       "    <tr>\n",
       "      <th>2</th>\n",
       "      <td>2019</td>\n",
       "      <td>2</td>\n",
       "      <td>1</td>\n",
       "      <td>1</td>\n",
       "      <td>3</td>\n",
       "      <td>50</td>\n",
       "      <td>60</td>\n",
       "      <td>1</td>\n",
       "      <td>2</td>\n",
       "      <td>1.0</td>\n",
       "      <td>...</td>\n",
       "      <td>70.0</td>\n",
       "      <td>64.0</td>\n",
       "      <td>2</td>\n",
       "      <td>46.173848</td>\n",
       "      <td>NaN</td>\n",
       "      <td>NaN</td>\n",
       "      <td>NaN</td>\n",
       "      <td>NaN</td>\n",
       "      <td>NaN</td>\n",
       "      <td>NaN</td>\n",
       "    </tr>\n",
       "    <tr>\n",
       "      <th>3</th>\n",
       "      <td>2019</td>\n",
       "      <td>3</td>\n",
       "      <td>1</td>\n",
       "      <td>1</td>\n",
       "      <td>3</td>\n",
       "      <td>50</td>\n",
       "      <td>60</td>\n",
       "      <td>1</td>\n",
       "      <td>2</td>\n",
       "      <td>1.0</td>\n",
       "      <td>...</td>\n",
       "      <td>50.0</td>\n",
       "      <td>64.0</td>\n",
       "      <td>3</td>\n",
       "      <td>44.329298</td>\n",
       "      <td>0.0</td>\n",
       "      <td>NaN</td>\n",
       "      <td>1.0</td>\n",
       "      <td>NaN</td>\n",
       "      <td>1.0</td>\n",
       "      <td>NaN</td>\n",
       "    </tr>\n",
       "    <tr>\n",
       "      <th>4</th>\n",
       "      <td>2019</td>\n",
       "      <td>3</td>\n",
       "      <td>1</td>\n",
       "      <td>1</td>\n",
       "      <td>3</td>\n",
       "      <td>50</td>\n",
       "      <td>60</td>\n",
       "      <td>1</td>\n",
       "      <td>2</td>\n",
       "      <td>1.0</td>\n",
       "      <td>...</td>\n",
       "      <td>70.0</td>\n",
       "      <td>64.0</td>\n",
       "      <td>3</td>\n",
       "      <td>44.329298</td>\n",
       "      <td>NaN</td>\n",
       "      <td>NaN</td>\n",
       "      <td>NaN</td>\n",
       "      <td>NaN</td>\n",
       "      <td>NaN</td>\n",
       "      <td>NaN</td>\n",
       "    </tr>\n",
       "  </tbody>\n",
       "</table>\n",
       "<p>5 rows × 124 columns</p>\n",
       "</div>"
      ],
      "text/plain": [
       "   ANNEE  TRIM  CATAU2010R  METRODOM  TYPMEN7  AGE3  AGE5  COURED  ENFRED  \\\n",
       "0   2019     1           1         1        1    50    60       2       2   \n",
       "1   2019     2           1         1        3    50    60       1       2   \n",
       "2   2019     2           1         1        3    50    60       1       2   \n",
       "3   2019     3           1         1        3    50    60       1       2   \n",
       "4   2019     3           1         1        3    50    60       1       2   \n",
       "\n",
       "   NFRRED  ...  DIP11  CSTOTPRM  IDENTM     EXTRIAN  EMPNBH  HREC  HHCE  \\\n",
       "0     1.0  ...   70.0      86.0       1  107.749722     NaN   NaN   NaN   \n",
       "1     1.0  ...   50.0      64.0       2   46.173848     1.0   NaN   1.0   \n",
       "2     1.0  ...   70.0      64.0       2   46.173848     NaN   NaN   NaN   \n",
       "3     1.0  ...   50.0      64.0       3   44.329298     0.0   NaN   1.0   \n",
       "4     1.0  ...   70.0      64.0       3   44.329298     NaN   NaN   NaN   \n",
       "\n",
       "   HPLUSA  JOURTR  NBTOTE  \n",
       "0     NaN     NaN     NaN  \n",
       "1     NaN     1.0     NaN  \n",
       "2     NaN     NaN     NaN  \n",
       "3     NaN     1.0     NaN  \n",
       "4     NaN     NaN     NaN  \n",
       "\n",
       "[5 rows x 124 columns]"
      ]
     },
     "execution_count": 8,
     "metadata": {},
     "output_type": "execute_result"
    }
   ],
   "source": [
    "EEC_2019.head()"
   ]
  },
  {
   "cell_type": "code",
   "execution_count": 12,
   "id": "15ce64a6-2923-4cff-8e2d-e362f1562798",
   "metadata": {},
   "outputs": [
    {
     "data": {
      "text/plain": [
       "count    415038.000000\n",
       "mean          2.024899\n",
       "std           0.977017\n",
       "min           1.000000\n",
       "25%           1.000000\n",
       "50%           2.000000\n",
       "75%           3.000000\n",
       "max           3.000000\n",
       "Name: ACTEU, dtype: float64"
      ]
     },
     "execution_count": 12,
     "metadata": {},
     "output_type": "execute_result"
    }
   ],
   "source": [
    "EEC_2019[\"ACTEU\"].describe()"
   ]
  },
  {
   "cell_type": "code",
   "execution_count": 22,
   "id": "af8ec10f-9d83-4615-9470-a124de24148d",
   "metadata": {},
   "outputs": [
    {
     "data": {
      "text/plain": [
       "count    18458.000000\n",
       "mean         4.558024\n",
       "std          2.187459\n",
       "min          1.000000\n",
       "25%          3.000000\n",
       "50%          4.000000\n",
       "75%          7.000000\n",
       "max          8.000000\n",
       "Name: ANCCHOM, dtype: float64"
      ]
     },
     "execution_count": 22,
     "metadata": {},
     "output_type": "execute_result"
    }
   ],
   "source": [
    "#répartiton de la durée de chômage avec la variable ANCCHOM (on pondère par EXTRIAN)\n",
    "EEC_chom_2019=EEC_2019[EEC_2019[\"ACTEU\"]==2]\n",
    "EEC_chom_2019[\"ANCCHOM\"].describe()"
   ]
  },
  {
   "cell_type": "code",
   "execution_count": 68,
   "id": "a5daa685-3269-41ba-96c0-f12de8180a96",
   "metadata": {},
   "outputs": [
    {
     "data": {
      "image/png": "[encoded data removed]",
      "text/plain": [
       "<Figure size 640x480 with 1 Axes>"
      ]
     },
     "metadata": {},
     "output_type": "display_data"
    }
   ],
   "source": [
    "plt.hist(EEC_chom_2019[\"ANCCHOM\"],bins=[i - 0.35 for i in range(1, 10)], weights = EEC_chom_2019[\"EXTRIAN\"], align='mid',width=0.7, density=True)\n",
    "plt.title('Histogramme de la durée du chômage')\n",
    "plt.xticks(range(1,10), [\"< 1 mo\",\"1< <3mo\",\"3< <6mo\",\"6< <12 mo\",\"12< <18 mo\",\"18 mo< <2 y\",\"2< <3 y\",\">3 y\",\"\"], rotation=45, ha=\"right\")\n",
    "plt.xlabel('Durée du chômage')\n",
    "plt.ylabel('Fréquence')\n",
    "plt.show()"
   ]
  },
  {
   "cell_type": "code",
   "execution_count": null,
   "id": "b2ffe707-5d3b-4564-a1ad-422eb88a4c8f",
   "metadata": {},
   "outputs": [],
   "source": [
    "#Pourcentage de chômage par niveau d'éducation et CSP\n"
   ]
  },
  {
   "cell_type": "code",
   "execution_count": 73,
   "id": "623eb8a1-8797-44fb-8c75-9945e12a0ff2",
   "metadata": {},
   "outputs": [
    {
     "data": {
      "text/html": [
       "<div>\n",
       "<style scoped>\n",
       "    .dataframe tbody tr th:only-of-type {\n",
       "        vertical-align: middle;\n",
       "    }\n",
       "\n",
       "    .dataframe tbody tr th {\n",
       "        vertical-align: top;\n",
       "    }\n",
       "\n",
       "    .dataframe thead th {\n",
       "        text-align: right;\n",
       "    }\n",
       "</style>\n",
       "<table border=\"1\" class=\"dataframe\">\n",
       "  <thead>\n",
       "    <tr style=\"text-align: right;\">\n",
       "      <th></th>\n",
       "      <th>ANNEE</th>\n",
       "      <th>TRIM</th>\n",
       "      <th>CATAU2010R</th>\n",
       "      <th>METRODOM</th>\n",
       "      <th>TYPMEN7</th>\n",
       "      <th>AGE3</th>\n",
       "      <th>AGE5</th>\n",
       "      <th>COURED</th>\n",
       "      <th>ENFRED</th>\n",
       "      <th>NFRRED</th>\n",
       "      <th>...</th>\n",
       "      <th>DIP11</th>\n",
       "      <th>CSTOTPRM</th>\n",
       "      <th>IDENTM</th>\n",
       "      <th>EXTRIAN</th>\n",
       "      <th>EMPNBH</th>\n",
       "      <th>HREC</th>\n",
       "      <th>HHCE</th>\n",
       "      <th>HPLUSA</th>\n",
       "      <th>JOURTR</th>\n",
       "      <th>NBTOTE</th>\n",
       "    </tr>\n",
       "  </thead>\n",
       "  <tbody>\n",
       "    <tr>\n",
       "      <th>35</th>\n",
       "      <td>2019</td>\n",
       "      <td>3</td>\n",
       "      <td>1</td>\n",
       "      <td>1</td>\n",
       "      <td>3</td>\n",
       "      <td>30</td>\n",
       "      <td>30</td>\n",
       "      <td>1</td>\n",
       "      <td>2</td>\n",
       "      <td>1.0</td>\n",
       "      <td>...</td>\n",
       "      <td>10.0</td>\n",
       "      <td>46.0</td>\n",
       "      <td>20</td>\n",
       "      <td>130.267891</td>\n",
       "      <td>0.0</td>\n",
       "      <td>NaN</td>\n",
       "      <td>0.0</td>\n",
       "      <td>40.0</td>\n",
       "      <td>1.0</td>\n",
       "      <td>30.0</td>\n",
       "    </tr>\n",
       "    <tr>\n",
       "      <th>36</th>\n",
       "      <td>2019</td>\n",
       "      <td>3</td>\n",
       "      <td>1</td>\n",
       "      <td>1</td>\n",
       "      <td>3</td>\n",
       "      <td>30</td>\n",
       "      <td>30</td>\n",
       "      <td>1</td>\n",
       "      <td>2</td>\n",
       "      <td>2.0</td>\n",
       "      <td>...</td>\n",
       "      <td>11.0</td>\n",
       "      <td>46.0</td>\n",
       "      <td>20</td>\n",
       "      <td>130.267891</td>\n",
       "      <td>0.0</td>\n",
       "      <td>NaN</td>\n",
       "      <td>0.0</td>\n",
       "      <td>NaN</td>\n",
       "      <td>1.0</td>\n",
       "      <td>50.0</td>\n",
       "    </tr>\n",
       "  </tbody>\n",
       "</table>\n",
       "<p>2 rows × 124 columns</p>\n",
       "</div>"
      ],
      "text/plain": [
       "    ANNEE  TRIM  CATAU2010R  METRODOM  TYPMEN7  AGE3  AGE5  COURED  ENFRED  \\\n",
       "35   2019     3           1         1        3    30    30       1       2   \n",
       "36   2019     3           1         1        3    30    30       1       2   \n",
       "\n",
       "    NFRRED  ...  DIP11  CSTOTPRM  IDENTM     EXTRIAN  EMPNBH  HREC  HHCE  \\\n",
       "35     1.0  ...   10.0      46.0      20  130.267891     0.0   NaN   0.0   \n",
       "36     2.0  ...   11.0      46.0      20  130.267891     0.0   NaN   0.0   \n",
       "\n",
       "    HPLUSA  JOURTR  NBTOTE  \n",
       "35    40.0     1.0    30.0  \n",
       "36     NaN     1.0    50.0  \n",
       "\n",
       "[2 rows x 124 columns]"
      ]
     },
     "execution_count": 73,
     "metadata": {},
     "output_type": "execute_result"
    }
   ],
   "source": [
    "EEC_2019[EEC_2019[\"IDENTM\"]==20]"
   ]
  },
  {
   "cell_type": "code",
   "execution_count": 3,
   "id": "4756570c-37ed-42dd-b8a1-a4b2636a0068",
   "metadata": {},
   "outputs": [],
   "source": [
    "# Modélisation"
   ]
  },
  {
   "cell_type": "code",
   "execution_count": 2,
   "id": "aef38744-9012-49cc-9694-a086980b25e7",
   "metadata": {},
   "outputs": [
    {
     "name": "stdout",
     "output_type": "stream",
     "text": [
      "['ACTEU', 'ANNEE', 'TRIM', 'AGE3', 'AGE5', 'CATAU2010R', 'COURED', 'CSTOT', 'CSTOTR', 'CSTOTPRM', 'DIP11', 'ENFRED', 'METRODOM', 'NFRRED', 'SEXE', 'TYPMEN7']\n"
     ]
    }
   ],
   "source": [
    "# Choisit un set de variables qui ne comprend que données sociodémographiques, géographiques associées à l'individu\n",
    "# et au ménage étudié + qui soit disponible sur les deux années étudiées\n",
    "\n",
    "# Var d'interet -> ACTEU\n",
    "\n",
    "# Var explicatives : AGE3 ;  AGE5 ; ANNEE ;TRIM ;  CATAU2010R ; COURED ; CSTOT (pour avoir actifs et inactifs) ;CSTOTR ;\n",
    "# CSTOTPRM ; DIP11; ENFRED ; METRODOM ; NFRRED ; SEXE ; TYPMEN7 \n",
    "\n",
    "# USE? -> AIDFAM , CHPUB?? (Employeur de la profession principale?), EXTRIAN? (pondération)\n",
    "\n",
    "# Meme si les variables sont colinéaires (AGE3, AGE5), on peut les garder et faire en sorte que le predicteur\n",
    "# choisisse la plus pertinente\n",
    "\n",
    "list_var_selected = [\"ACTEU\",\"ANNEE\" ,\"TRIM\", \"AGE3\" ,  \"AGE5\"  , \"CATAU2010R\" ,\n",
    "\"COURED\" ,\"CSTOT\" ,\"CSTOTR\" ,\"CSTOTPRM\" , \"DIP11\",\"ENFRED\" , \"METRODOM\" , \"NFRRED\" , \"SEXE\" , \"TYPMEN7\"]\n",
    "\n",
    "EEC_2019 = EEC_2019[list_var_selected]\n",
    "EEC_2020 = EEC_2020[list_var_selected]\n",
    "\n",
    "list_var = list(EEC_2019.columns.values)\n",
    "print(list_var)\n",
    "\n",
    "EEC_2019 = EEC_2019[EEC_2019['TRIM'] ==1]\n",
    "EEC_2020 = EEC_2020[EEC_2020['TRIM'] ==4]\n",
    "\n",
    "# This method does not remove any observations here which indicates that there isn't any missing values in any variables\n",
    "EEC_2019.dropna() \n",
    "EEC_2020.dropna() \n",
    "\n",
    "EEC_2019_subsample = EEC_2019.sample(n=1000, random_state=3) \n",
    "\n"
   ]
  },
  {
   "cell_type": "code",
   "execution_count": 3,
   "id": "9e458235-6217-4cbe-80f5-d5cd808d3ef6",
   "metadata": {},
   "outputs": [
    {
     "data": {
      "text/plain": [
       "(1000,)"
      ]
     },
     "execution_count": 3,
     "metadata": {},
     "output_type": "execute_result"
    }
   ],
   "source": [
    "import numpy as np\n",
    "import matplotlib.pyplot as plt\n",
    "\n",
    "X = np.array(EEC_2019_subsample.drop(columns=[\"ACTEU\",\"ANNEE\", \"TRIM\"]))\n",
    "X.shape\n",
    "n_features = X.shape[1]\n",
    "\n",
    "y = np.array(EEC_2019_subsample[\"ACTEU\"])\n",
    "# convert \"Chomage\" in 1 and the other labels (here, \"Inactif\", \"Actif occupé\") into 1\n",
    "y = np.where(y==2, 1, 0)\n",
    "y.shape\n",
    "\n",
    "# ATTENTION -> TRANSFORMATION EN ARRAY SEMBLE INTRODUIRE DES NA? PAS BCP MAIS COMPRENDRE PQ\n"
   ]
  },
  {
   "cell_type": "markdown",
   "id": "acf6d4e2-869c-4899-9915-1b5cde3eb64a",
   "metadata": {
    "jp-MarkdownHeadingCollapsed": true
   },
   "source": [
    "## Partie I: Preparation des données"
   ]
  },
  {
   "cell_type": "code",
   "execution_count": 4,
   "id": "8697dcf9-d388-4440-ae89-4441207bf865",
   "metadata": {},
   "outputs": [],
   "source": [
    "from sklearn.model_selection import train_test_split\n",
    "X_train, X_test, y_train, y_test = train_test_split(X, \n",
    "                                                    y, \n",
    "                                                    test_size=.2)"
   ]
  },
  {
   "cell_type": "code",
   "execution_count": 5,
   "id": "baeb637e-a210-4bb0-8ff5-20a44d84967f",
   "metadata": {},
   "outputs": [
    {
     "name": "stdout",
     "output_type": "stream",
     "text": [
      "(200, 13)\n",
      "(197, 13)\n"
     ]
    }
   ],
   "source": [
    "from sklearn.preprocessing import StandardScaler\n",
    "\n",
    "std_scale = StandardScaler().fit(X_train)\n",
    "X_train_scaled = std_scale.transform(X_train)\n",
    "X_test_scaled = std_scale.transform(X_test)\n",
    "\n",
    "print(X_test_scaled.shape)\n",
    "\n",
    "# Identify rows with NaN values\n",
    "nan_rows_train = np.isnan(X_train_scaled).any(axis=1)\n",
    "# Remove rows with NaN values from both X_train_scaled and y_train\n",
    "X_train_scaled = X_train_scaled[~nan_rows_train]\n",
    "y_train = y_train[~nan_rows_train]\n",
    "\n",
    "# Repeat the process for X_test_scaled and y_test\n",
    "nan_rows_test = np.isnan(X_test_scaled).any(axis=1)\n",
    "X_test_scaled = X_test_scaled[~nan_rows_test]\n",
    "y_test = y_test[~nan_rows_test]\n",
    "\n",
    "print(X_test_scaled.shape)\n",
    "\n",
    "# Suppression d'un nombre très réduit d'observations"
   ]
  },
  {
   "cell_type": "markdown",
   "id": "ea46bb13-b54a-4f50-a23e-1463c0327a1b",
   "metadata": {},
   "source": [
    "On normalise nos données de train car les algorithmes apprennent mieux sur ce type de données"
   ]
  },
  {
   "cell_type": "markdown",
   "id": "adbb28ea-826e-425a-b29e-1fbbe82f8d9a",
   "metadata": {
    "jp-MarkdownHeadingCollapsed": true
   },
   "source": [
    "## Partie II : Support Vector Machine"
   ]
  },
  {
   "cell_type": "code",
   "execution_count": 61,
   "id": "8361594f-4143-46dc-82d5-b11503f83b0e",
   "metadata": {},
   "outputs": [],
   "source": [
    "from sklearn.svm import SVC\n",
    "#SVC est le modèle SVM permettant la classification\n",
    "\n",
    "acc_train, acc_test = list(), list()\n",
    "\n",
    "C_range = np.linspace(0.01, 1, 20)\n",
    "for param in C_range:\n",
    "    clf = SVC( C=param)\n",
    "    clf.fit(X_train_scaled, y_train)\n",
    "    acc_train.append(clf.score(X_train_scaled, y_train))\n",
    "    acc_test.append(clf.score(X_test_scaled, y_test))\n"
   ]
  },
  {
   "cell_type": "markdown",
   "id": "69e1a734-449b-4bac-a17f-3de132c6231e",
   "metadata": {},
   "source": [
    "On choisit un modèle RBF car on ne connait pas la forme de la séparation dans nos données.\n",
    "On entraine un premier classifieur SVM sur le jeu de données et on test plusieurs valeurs de C qui mesurent le niveau de régularisation (petites valeurs de C pour beaucoup régulariser).\n"
   ]
  },
  {
   "cell_type": "code",
   "execution_count": 62,
   "id": "6410f2fb-fb38-46e7-bb1b-474bee0c1236",
   "metadata": {},
   "outputs": [
    {
     "data": {
      "image/png": "[encoded data removed]",
      "text/plain": [
       "<Figure size 1000x500 with 1 Axes>"
      ]
     },
     "metadata": {},
     "output_type": "display_data"
    }
   ],
   "source": [
    "plt.figure(figsize=(10, 5))\n",
    "\n",
    "plt.plot(C_range, acc_train, label='train set', lw=4)\n",
    "plt.plot(C_range, acc_test, label='test set', lw=4)\n",
    "\n",
    "plt.legend(loc='best', fontsize=12)\n",
    "\n",
    "plt.xlabel(\"C\", fontweight=\"bold\", fontsize=20)\n",
    "plt.ylabel(\"Performance\", fontweight=\"bold\", fontsize=20)\n",
    "plt.xticks(fontweight=\"bold\", fontsize=15)\n",
    "plt.yticks(fontweight=\"bold\", fontsize=15)\n",
    "plt.tight_layout()\n",
    "\n",
    "plt.show()"
   ]
  },
  {
   "cell_type": "markdown",
   "id": "6784c01f-198a-4e83-853c-10285c7833cc",
   "metadata": {},
   "source": [
    "Le data-set compte peu de features par rapport au nombre d'observations.\n",
    "\n",
    "Je vais essayer la régression logistique qui effectue naturellement une selection de variables. C grandit -> pas de régularisatin"
   ]
  },
  {
   "cell_type": "markdown",
   "id": "4325542c-16ba-44a3-8d8c-16d6d59611b5",
   "metadata": {},
   "source": [
    " PB : Les résultats sont un peu bizarre car la performance sur le test set devrait évoluer quand C varie???\n"
   ]
  },
  {
   "cell_type": "markdown",
   "id": "64968301-a08c-4224-99ff-755ce1004cd5",
   "metadata": {
    "jp-MarkdownHeadingCollapsed": true
   },
   "source": [
    "## Partie III - Regression logistique"
   ]
  },
  {
   "cell_type": "code",
   "execution_count": 63,
   "id": "a9c36000-bd5a-4607-b2ae-078764089f11",
   "metadata": {},
   "outputs": [
    {
     "name": "stdout",
     "output_type": "stream",
     "text": [
      "{'C': 1e-06}\n",
      "0.949685534591195\n",
      "0.9644670050761421\n"
     ]
    }
   ],
   "source": [
    "from sklearn.model_selection import GridSearchCV\n",
    "import warnings\n",
    "from sklearn.linear_model import LogisticRegression\n",
    "\n",
    "warnings.filterwarnings(\"ignore\", category=FutureWarning)\n",
    "\n",
    "params= { 'C':[ 0.000001,0.001, 50]}\n",
    "\n",
    "# j'essaie des valeurs de C très faible pour régulariser un maximum\n",
    "\n",
    "lr =LogisticRegression(penalty='l2', dual=False, tol=0.0001, C=1.0, fit_intercept=True, \n",
    "                   intercept_scaling=1, class_weight=None, random_state=3, solver='liblinear',\n",
    "                   max_iter=100, multi_class='auto', verbose=0, warm_start=False, n_jobs=None,\n",
    "                   l1_ratio=None)\n",
    "\n",
    "# On découpe notre échantillon en 5 pour la cross-validation \n",
    "\n",
    "gs = GridSearchCV(estimator=lr, \n",
    "                   param_grid=params,\n",
    "                   cv=5)\n",
    "\n",
    "gs.fit(X_train_scaled, y_train)\n",
    "\n",
    "print(gs.best_params_)\n",
    "print(gs.score(X_train_scaled, y_train))\n",
    "print(gs.score(X_test_scaled, y_test))"
   ]
  },
  {
   "cell_type": "markdown",
   "id": "7552052a-7e83-48e2-9c58-1772fd4fe854",
   "metadata": {},
   "source": [
    "ATTENTION -> Best paramètre est toujours celui avec la régularisation la + forte -> ici C ~ 0 => BIZARRE"
   ]
  },
  {
   "cell_type": "code",
   "execution_count": 51,
   "id": "6186e8d4-c3ba-48a7-a26e-60b8b0b5ad7a",
   "metadata": {},
   "outputs": [],
   "source": [
    "acc_train, acc_test = list(), list()\n",
    "C_range = np.linspace(0.01, 0.1, 20)\n",
    "for param in C_range:\n",
    "    clf = LogisticRegression(penalty='l1', dual=False, tol=0.0001, C=param, fit_intercept=True, \n",
    "                   intercept_scaling=1, class_weight=None, random_state=3, solver='liblinear',\n",
    "                   max_iter=100, multi_class='auto', verbose=0, warm_start=False, n_jobs=None,\n",
    "                   l1_ratio=None)\n",
    "    \n",
    "    clf.fit(X_train_scaled, y_train)\n",
    "    acc_train.append(clf.score(X_train_scaled, y_train))\n",
    "    acc_test.append(clf.score(X_test_scaled, y_test))"
   ]
  },
  {
   "cell_type": "code",
   "execution_count": 52,
   "id": "2e8312a3-7a1a-4885-981c-fd95a7e4fa0a",
   "metadata": {},
   "outputs": [
    {
     "data": {
      "image/png": "[encoded data removed]",
      "text/plain": [
       "<Figure size 1000x500 with 1 Axes>"
      ]
     },
     "metadata": {},
     "output_type": "display_data"
    }
   ],
   "source": [
    "plt.figure(figsize=(10, 5))\n",
    "\n",
    "plt.plot(C_range, acc_train, label='train set', lw=4)\n",
    "plt.plot(C_range, acc_test, label='test set', lw=4)\n",
    "\n",
    "plt.legend(loc='best', fontsize=12)\n",
    "\n",
    "plt.xlabel(\"C\", fontweight=\"bold\", fontsize=20)\n",
    "plt.ylabel(\"Performance\", fontweight=\"bold\", fontsize=20)\n",
    "plt.xticks(fontweight=\"bold\", fontsize=15)\n",
    "plt.yticks(fontweight=\"bold\", fontsize=15)\n",
    "plt.tight_layout()\n",
    "\n",
    "plt.show()\n"
   ]
  },
  {
   "cell_type": "markdown",
   "id": "b2c4a616-b793-4909-946c-de22e43c4989",
   "metadata": {
    "jp-MarkdownHeadingCollapsed": true
   },
   "source": [
    "## Partie IV : Selections de variables"
   ]
  },
  {
   "cell_type": "code",
   "execution_count": 53,
   "id": "845d0acf-b17e-46e3-b7ca-422365b244df",
   "metadata": {},
   "outputs": [
    {
     "name": "stdout",
     "output_type": "stream",
     "text": [
      "[[15. 15.  1. ...  1.  2.  4.]\n",
      " [30. 30.  1. ...  3.  1.  1.]\n",
      " [15. 15.  1. ...  1.  1.  2.]\n",
      " ...\n",
      " [30. 40.  4. ...  1.  1.  4.]\n",
      " [15. 15.  2. ...  1.  2.  2.]\n",
      " [15. 15.  1. ...  1.  1.  4.]]\n"
     ]
    }
   ],
   "source": [
    "print(X[:100]) "
   ]
  },
  {
   "cell_type": "code",
   "execution_count": 54,
   "id": "56011860-33a9-4c8f-9d92-c3cb4dd7b5c5",
   "metadata": {},
   "outputs": [
    {
     "name": "stdout",
     "output_type": "stream",
     "text": [
      "(992, 9)\n"
     ]
    }
   ],
   "source": [
    "\n",
    "from sklearn.linear_model import LassoCV\n",
    "from sklearn.feature_selection import SelectFromModel\n",
    "\n",
    "# Identify rows with NaN values\n",
    "nan_rows_train = np.isnan(X).any(axis=1)\n",
    "# Remove rows with NaN values from both X_train_scaled and y_train\n",
    "X_corrected = X[~nan_rows_train]\n",
    "y_corrected = y[~nan_rows_train]\n",
    "\n",
    "clf = LassoCV()\n",
    "\n",
    "sfm = SelectFromModel(clf, threshold=None, prefit=False, norm_order=1, max_features=10)\n",
    "# Je m'impose un maximum de 10 features\n",
    "\n",
    "sfm.fit(X_corrected,y_corrected)\n",
    "X_transform = sfm.transform(X_corrected)\n",
    "print(X_transform.shape)"
   ]
  },
  {
   "cell_type": "markdown",
   "id": "16f05135-4391-41c1-b6a7-ceb3dcb22255",
   "metadata": {},
   "source": [
    "Nous allons tester les performances de la regression logistique sur ce nouveau dataset"
   ]
  },
  {
   "cell_type": "code",
   "execution_count": 60,
   "id": "61fb0f02-5186-44ff-ae9c-b47730f6d48b",
   "metadata": {},
   "outputs": [
    {
     "name": "stdout",
     "output_type": "stream",
     "text": [
      "(793, 9)\n"
     ]
    },
    {
     "data": {
      "image/png": "[encoded data removed]",
      "text/plain": [
       "<Figure size 1000x500 with 1 Axes>"
      ]
     },
     "metadata": {},
     "output_type": "display_data"
    },
    {
     "name": "stdout",
     "output_type": "stream",
     "text": [
      "{'C': 0.001, 'penalty': 'l1', 'tol': 0.001}\n",
      "0.9508196721311475\n",
      "0.9597989949748744\n"
     ]
    }
   ],
   "source": [
    "X_train_2, X_test_2, y_train_2, y_test_2 = train_test_split(X_transform, \n",
    "                                                    y, \n",
    "                                                    test_size=.2)\n",
    "\n",
    "print(X_train_2.shape)\n",
    "\n",
    "std_scale = StandardScaler().fit(X_train_2)\n",
    "X_train_scaled_2 = std_scale.transform(X_train_2)\n",
    "X_test_scaled_2 = std_scale.transform(X_test_2)\n",
    "from sklearn.linear_model import LogisticRegression\n",
    "\n",
    "acc_train, acc_test = list(), list()\n",
    "C_range = np.linspace(0.1, 5, 20)\n",
    "for param in C_range:\n",
    "    clf = LogisticRegression(penalty='l2', dual=False, tol=0.001, C=param, fit_intercept=True, \n",
    "                   intercept_scaling=1, class_weight=None, random_state=3, solver='liblinear',\n",
    "                   max_iter=100, multi_class='auto', verbose=0, warm_start=False, n_jobs=None,\n",
    "                   l1_ratio=None)\n",
    "    \n",
    "    clf.fit(X_train_scaled_2, y_train_2)\n",
    "    acc_train.append(clf.score(X_train_scaled_2, y_train_2))\n",
    "    acc_test.append(clf.score(X_test_scaled_2, y_test_2))\n",
    "    \n",
    "plt.figure(figsize=(10, 5))\n",
    "\n",
    "plt.plot(C_range, acc_train, label='train set', lw=4)\n",
    "plt.plot(C_range, acc_test, label='test set', lw=4)\n",
    "\n",
    "plt.legend(loc='best', fontsize=12)\n",
    "\n",
    "plt.xlabel(\"C\", fontweight=\"bold\", fontsize=20)\n",
    "plt.ylabel(\"Performance\", fontweight=\"bold\", fontsize=20)\n",
    "plt.xticks(fontweight=\"bold\", fontsize=15)\n",
    "plt.yticks(fontweight=\"bold\", fontsize=15)\n",
    "plt.tight_layout()\n",
    "\n",
    "plt.show()\n",
    "\n",
    "\n",
    "params= { 'C':[0.001, 1, 2], 'penalty': ['l1','l2'],'tol': [0.001,0.0001,0.1] }\n",
    "\n",
    "# j'essaie des valeurs de C très faible pour régulariser un maximum\n",
    "\n",
    "lr =LogisticRegression( dual=False, fit_intercept=True, \n",
    "                   intercept_scaling=1, class_weight=None, random_state=3, solver='liblinear',\n",
    "                   max_iter=100, multi_class='auto', verbose=0, warm_start=False, n_jobs=None,\n",
    "                   l1_ratio=None)\n",
    "\n",
    "# On découpe notre échantillon en 3 pour la cross-validation (je pense qu'on peut difficilement faire plus car\n",
    "# nous ne possédons que 542 observations)\n",
    "\n",
    "gs = GridSearchCV(estimator=lr, \n",
    "                   param_grid=params,\n",
    "                   cv=3)\n",
    "\n",
    "gs.fit(X_train_scaled_2, y_train_2)\n",
    "\n",
    "print(gs.best_params_)\n",
    "print(gs.score(X_train_scaled_2, y_train_2))\n",
    "print(gs.score(X_test_scaled_2, y_test_2))\n"
   ]
  },
  {
   "cell_type": "markdown",
   "id": "8555a275-77cb-4afb-be20-8133b387ab84",
   "metadata": {},
   "source": [
    "Score baisse quand on impose un nombre fini de variables dans le modèle"
   ]
  }
 ],
 "metadata": {
  "kernelspec": {
   "display_name": "Python 3 (ipykernel)",
   "language": "python",
   "name": "python3"
  },
  "language_info": {
   "codemirror_mode": {
    "name": "ipython",
    "version": 3
   },
   "file_extension": ".py",
   "mimetype": "text/x-python",
   "name": "python",
   "nbconvert_exporter": "python",
   "pygments_lexer": "ipython3",
   "version": "3.10.12"
  }
 },
 "nbformat": 4,
 "nbformat_minor": 5
}
